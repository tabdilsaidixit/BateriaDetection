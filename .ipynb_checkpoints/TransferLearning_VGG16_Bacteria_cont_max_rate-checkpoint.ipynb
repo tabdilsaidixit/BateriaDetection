{
 "cells": [
  {
   "cell_type": "code",
   "execution_count": 1,
   "metadata": {},
   "outputs": [
    {
     "name": "stderr",
     "output_type": "stream",
     "text": [
      "Using TensorFlow backend.\n"
     ]
    }
   ],
   "source": [
    "import numpy as np\n",
    "import os\n",
    "import PIL\n",
    "from PIL import Image\n",
    "import matplotlib.pyplot as plt\n",
    "import pandas as pd\n",
    "\n",
    "from sklearn.model_selection import train_test_split\n",
    "from keras.models import Model\n",
    "from keras.layers import Flatten, Dense, Dropout\n",
    "from keras.layers import Convolution2D, MaxPooling2D\n",
    "from keras.layers import BatchNormalization, GlobalAveragePooling2D\n",
    "from keras.utils import to_categorical\n",
    "from keras.optimizers import Adam\n",
    "from keras.callbacks import EarlyStopping, ModelCheckpoint\n",
    "from sklearn.utils import shuffle\n",
    "from openpyxl import load_workbook\n",
    "from keras.applications.vgg16 import preprocess_input\n",
    "from keras.preprocessing.image import load_img\n",
    "from keras.preprocessing.image import img_to_array"
   ]
  },
  {
   "cell_type": "code",
   "execution_count": 2,
   "metadata": {
    "collapsed": true
   },
   "outputs": [],
   "source": [
    "size = 224\n",
    "def read_image(f):\n",
    "    image = load_img(f, target_size=(224, 224))\n",
    "    # convert the image pixels to a numpy array\n",
    "    image = img_to_array(image)\n",
    "    image = preprocess_input(image)    \n",
    "    return(image)"
   ]
  },
  {
   "cell_type": "code",
   "execution_count": 3,
   "metadata": {
    "collapsed": true
   },
   "outputs": [],
   "source": [
    "size = 224\n",
    "traindata_folderPath = 'D:\\\\Data\\\\DataAugmentation\\\\TrainingData\\\\TrainData_Augmentation\\\\'\n",
    "validdata_folderPath = 'D:\\\\Data\\\\DataAugmentation\\\\TrainingData\\\\ValidationData_Augmentation\\\\'\n",
    "testdata_folderpath='D:\\\\Data\\\\DataAugmentation\\\\TestData\\\\TestingData_Augmentation\\\\'\n",
    "columnName = 'cont.max.rate'\n",
    "excelFileName = \"D://Data//Perron_phenotype-GSU-training.xlsx\"\n",
    "sheetName = 'Total Database'\n",
    "imgPat = 'PIL-55a_3dayLBCR-3'"
   ]
  },
  {
   "cell_type": "code",
   "execution_count": 4,
   "metadata": {
    "collapsed": true
   },
   "outputs": [],
   "source": [
    "train_filelist= [file for file in os.listdir(traindata_folderPath) if file.endswith('.jpeg')]\n",
    "valid_filelist= [file for file in os.listdir(validdata_folderPath) if file.endswith('.jpeg')]\n",
    "test_filelist= [file for file in os.listdir(testdata_folderpath) if file.endswith('.jpeg')]"
   ]
  },
  {
   "cell_type": "code",
   "execution_count": 5,
   "metadata": {},
   "outputs": [
    {
     "name": "stdout",
     "output_type": "stream",
     "text": [
      "Total number of files in directory: 1849\n",
      "Total number of files in directory: 599\n",
      "Total number of files in directory: 600\n"
     ]
    }
   ],
   "source": [
    "n_files = len(train_filelist)\n",
    "print('Total number of files in directory:', n_files)\n",
    "n_files = len(valid_filelist)\n",
    "print('Total number of files in directory:', n_files)\n",
    "n_files = len(test_filelist)\n",
    "print('Total number of files in directory:', n_files)"
   ]
  },
  {
   "cell_type": "code",
   "execution_count": 6,
   "metadata": {
    "collapsed": true
   },
   "outputs": [],
   "source": [
    "wb = load_workbook(excelFileName)"
   ]
  },
  {
   "cell_type": "code",
   "execution_count": 7,
   "metadata": {
    "collapsed": true
   },
   "outputs": [],
   "source": [
    "sheet = wb[sheetName]"
   ]
  },
  {
   "cell_type": "code",
   "execution_count": 8,
   "metadata": {
    "collapsed": true
   },
   "outputs": [],
   "source": [
    "def getColumnNumber(columnName, sheet):\n",
    "    reqColNum = -1\n",
    "    maxColNumber = sheet.max_column + 1\n",
    "    for x in range(1, maxColNumber):\n",
    "        cellValue = sheet.cell(row=1, column=x).value\n",
    "        if(cellValue == columnName):\n",
    "                reqColNum = x\n",
    "                break\n",
    "    return(reqColNum)"
   ]
  },
  {
   "cell_type": "code",
   "execution_count": 9,
   "metadata": {
    "collapsed": true
   },
   "outputs": [],
   "source": [
    "import re\n",
    "def getStrainNumber(imageName):\n",
    "    strt = imageName.find('-')\n",
    "    end = imageName.find('_')\n",
    "    imgNam = imageName[strt+1:end]\n",
    "    \n",
    "    imgNam = re.sub(r'[a-z]', '', imgNam)\n",
    "    return(imgNam)"
   ]
  },
  {
   "cell_type": "code",
   "execution_count": 10,
   "metadata": {
    "collapsed": true
   },
   "outputs": [],
   "source": [
    "def getRowNumber(strainNumber, sheet, columnNumber):\n",
    "    \n",
    "    reqRowNum = -1\n",
    "    maxRowNumber = sheet.max_row + 1\n",
    "    strainNumbr = float(strainNumber)\n",
    "    \n",
    "    for x in range(1, maxRowNumber):\n",
    "        cellVal = sheet.cell(row=x, column=columnNumber).value\n",
    "        try:\n",
    "            cellValue = float(cellVal)            \n",
    "            if(cellValue == strainNumbr):\n",
    "                reqRowNum = x\n",
    "                break\n",
    "        except ValueError:\n",
    "            continue\n",
    "    return(reqRowNum) "
   ]
  },
  {
   "cell_type": "code",
   "execution_count": 11,
   "metadata": {
    "collapsed": true
   },
   "outputs": [],
   "source": [
    "colNumber = getColumnNumber(columnName, sheet)"
   ]
  },
  {
   "cell_type": "code",
   "execution_count": 12,
   "metadata": {
    "collapsed": true
   },
   "outputs": [],
   "source": [
    "strainColumnNumber = getColumnNumber('strain', sheet)"
   ]
  },
  {
   "cell_type": "code",
   "execution_count": 13,
   "metadata": {},
   "outputs": [
    {
     "name": "stdout",
     "output_type": "stream",
     "text": [
      "Reading train images ...\n"
     ]
    }
   ],
   "source": [
    "X_Train = []\n",
    "Y_Train = []\n",
    "print('Reading train images ...')\n",
    "for file in train_filelist:\n",
    "    imagepath = os.path.join(traindata_folderPath, file)\n",
    "    im = read_image(imagepath)\n",
    "    #print(im.shape)\n",
    "    req_ColNumber = colNumber\n",
    "    req_rowNumber = getRowNumber(getStrainNumber(file),sheet,strainColumnNumber)\n",
    "    try:\n",
    "        if(req_rowNumber>0 and req_ColNumber>0):\n",
    "            req_CellValue = sheet.cell(row=req_rowNumber, column=req_ColNumber).value\n",
    "            X_Train.append(im)\n",
    "            Y_Train.append(req_CellValue)\n",
    "    except:\n",
    "        print(\"Error\")\n",
    "        print(imagepath)\n",
    "        print(getStrainNumber(file))\n",
    "        print(req_ColNumber)\n",
    "        print(req_rowNumber)\n",
    "        print(req_CellValue)\n",
    "        print(\"Error\")\n",
    "        continue"
   ]
  },
  {
   "cell_type": "code",
   "execution_count": 14,
   "metadata": {},
   "outputs": [
    {
     "name": "stdout",
     "output_type": "stream",
     "text": [
      "Reading train images ...\n"
     ]
    }
   ],
   "source": [
    "X_Valid = []\n",
    "Y_Valid = []\n",
    "print('Reading train images ...')\n",
    "for file in valid_filelist:\n",
    "    imagepath = os.path.join(validdata_folderPath, file)\n",
    "    im = read_image(imagepath)\n",
    "    req_ColNumber = colNumber\n",
    "    req_rowNumber = getRowNumber(getStrainNumber(file),sheet,strainColumnNumber)\n",
    "    try:\n",
    "        if(req_rowNumber>0 and req_ColNumber>0):\n",
    "            req_CellValue = sheet.cell(row=req_rowNumber, column=req_ColNumber).value\n",
    "            X_Valid.append(im)\n",
    "            Y_Valid.append(req_CellValue)\n",
    "    except:\n",
    "        print(\"Error\")\n",
    "        print(imagepath)\n",
    "        print(getStrainNumber(file))\n",
    "        print(req_ColNumber)\n",
    "        print(req_rowNumber)\n",
    "        print(req_CellValue)\n",
    "        print(\"Error\")\n",
    "        continue"
   ]
  },
  {
   "cell_type": "code",
   "execution_count": 15,
   "metadata": {},
   "outputs": [
    {
     "name": "stdout",
     "output_type": "stream",
     "text": [
      "Reading train images ...\n"
     ]
    }
   ],
   "source": [
    "X_Test = []\n",
    "Y_Test = []\n",
    "print('Reading train images ...')\n",
    "for file in test_filelist:\n",
    "    imagepath = os.path.join(testdata_folderpath, file)\n",
    "    im = read_image(imagepath)\n",
    "    req_ColNumber = colNumber\n",
    "    req_rowNumber = getRowNumber(getStrainNumber(file),sheet,strainColumnNumber)\n",
    "    try:\n",
    "        if(req_rowNumber>0 and req_ColNumber>0):\n",
    "            req_CellValue = sheet.cell(row=req_rowNumber, column=req_ColNumber).value\n",
    "            X_Test.append(im)\n",
    "            Y_Test.append(req_CellValue)\n",
    "    except:\n",
    "        print(\"Error\")\n",
    "        print(imagepath)\n",
    "        print(getStrainNumber(file))\n",
    "        print(req_ColNumber)\n",
    "        print(req_rowNumber)\n",
    "        print(req_CellValue)\n",
    "        print(\"Error\")\n",
    "        continue"
   ]
  },
  {
   "cell_type": "code",
   "execution_count": 16,
   "metadata": {},
   "outputs": [
    {
     "name": "stdout",
     "output_type": "stream",
     "text": [
      "(1849, 224, 224, 3) x Shape\n",
      "(1849, 1) y Shape\n",
      "(599, 224, 224, 3) x Shape\n",
      "(599, 1) y Shape\n",
      "(600, 224, 224, 3) x Shape\n",
      "(600, 1) y Shape\n"
     ]
    }
   ],
   "source": [
    "X_Train = np.array(X_Train)\n",
    "print(X_Train.shape, 'x Shape')\n",
    "\n",
    "Y_Train = np.array(Y_Train).reshape(-1,1)\n",
    "print(Y_Train.shape, 'y Shape')\n",
    "\n",
    "X_Valid = np.array(X_Valid)\n",
    "print(X_Valid.shape, 'x Shape')\n",
    "\n",
    "Y_Valid = np.array(Y_Valid).reshape(-1,1)\n",
    "print(Y_Valid.shape, 'y Shape')\n",
    "\n",
    "X_Test = np.array(X_Test)\n",
    "print(X_Test.shape, 'x Shape')\n",
    "\n",
    "Y_Test = np.array(Y_Test).reshape(-1,1)\n",
    "print(Y_Test.shape, 'y Shape')"
   ]
  },
  {
   "cell_type": "code",
   "execution_count": 17,
   "metadata": {
    "collapsed": true
   },
   "outputs": [],
   "source": [
    "# Store Model metrics\n",
    "history = {}"
   ]
  },
  {
   "cell_type": "code",
   "execution_count": 33,
   "metadata": {
    "collapsed": true
   },
   "outputs": [],
   "source": [
    "# Plot Chart\n",
    "def plot_chart_to_file(best_epoch, best_value):\n",
    "\n",
    "    # Plot Chart\n",
    "    fig = plt.figure(dpi=300)\n",
    "\n",
    "    # Subplot for Loss\n",
    "    ax1 = fig.add_subplot(111)    \n",
    "    ax1.plot(history.history['loss'], color='b', \n",
    "    label='Train')\n",
    "    ax1.plot(history.history['val_loss'], color='g', \n",
    "    label='validation')\n",
    "    ax1.set_xlabel('Epoch')\n",
    "    ax1.set_ylabel('MSE')\n",
    "    ax1.legend(loc='lower left', bbox_to_anchor=(0, -0.30))\n",
    "    #ax2 = ax1.twinx()\n",
    "    #ax2.plot(history.history['mean_squared_error'], color='y', \n",
    "    #label='TrainMSE Loss')\n",
    "    #ax2.plot(history.history['val_mean_squared_error'], color='c', \n",
    "    #label='validationMSE Loss')\n",
    "    ax1.plot(best_epoch, best_value, 'r+', label='Best Model')\n",
    "    #ax2.set_ylabel('Loss')   \n",
    "    #ax2.legend(loc='lower right', bbox_to_anchor=(1, -0.30))\n",
    "    # Set Title\n",
    "    plt.title('Model - Best Epoch (' + str(best_epoch) + ')')\n",
    "    plt.show()\n",
    "    # .. and save..\n",
    "    plt.savefig('Blog3_Model_Chart_Regression_MAPE_Cont_max_rate.png', \n",
    "    bbox_inches=\"tight\")   "
   ]
  },
  {
   "cell_type": "code",
   "execution_count": 19,
   "metadata": {
    "collapsed": true
   },
   "outputs": [],
   "source": [
    "\n",
    "# Get VGG16 architecture from keras.applications\n",
    "from keras.applications.vgg16 import VGG16,decode_predictions\n",
    "\n",
    "# downloading weights and convolution layers from vgg16\n",
    "trained_model= VGG16(include_top=False,weights='imagenet')\n",
    "# print(trained_model.summary())\n",
    "\n",
    "# defining mlp that needs to be appended to vgg16 convolution layers\n",
    "x = trained_model.output\n",
    "x = GlobalAveragePooling2D()(x)\n",
    "x = Dense(512,activation='relu')(x)\n",
    "x = Dense(256,activation='relu')(x)\n",
    "output = Dense(1,activation='linear')(x)\n",
    "\n",
    "model= Model(inputs=trained_model.input,outputs=output)\n"
   ]
  },
  {
   "cell_type": "code",
   "execution_count": 20,
   "metadata": {
    "collapsed": true
   },
   "outputs": [],
   "source": [
    "for layer in trained_model.layers:\n",
    "    layer.trainable=False"
   ]
  },
  {
   "cell_type": "code",
   "execution_count": 21,
   "metadata": {},
   "outputs": [
    {
     "name": "stdout",
     "output_type": "stream",
     "text": [
      "input_1 False\n",
      "block1_conv1 False\n",
      "block1_conv2 False\n",
      "block1_pool False\n",
      "block2_conv1 False\n",
      "block2_conv2 False\n",
      "block2_pool False\n",
      "block3_conv1 False\n",
      "block3_conv2 False\n",
      "block3_conv3 False\n",
      "block3_pool False\n",
      "block4_conv1 False\n",
      "block4_conv2 False\n",
      "block4_conv3 False\n",
      "block4_pool False\n",
      "block5_conv1 False\n",
      "block5_conv2 False\n",
      "block5_conv3 False\n",
      "block5_pool False\n"
     ]
    }
   ],
   "source": [
    "for layer in trained_model.layers:\n",
    "    print(layer.name,layer.trainable)"
   ]
  },
  {
   "cell_type": "code",
   "execution_count": 22,
   "metadata": {},
   "outputs": [
    {
     "name": "stdout",
     "output_type": "stream",
     "text": [
      "_________________________________________________________________\n",
      "Layer (type)                 Output Shape              Param #   \n",
      "=================================================================\n",
      "input_1 (InputLayer)         (None, None, None, 3)     0         \n",
      "_________________________________________________________________\n",
      "block1_conv1 (Conv2D)        (None, None, None, 64)    1792      \n",
      "_________________________________________________________________\n",
      "block1_conv2 (Conv2D)        (None, None, None, 64)    36928     \n",
      "_________________________________________________________________\n",
      "block1_pool (MaxPooling2D)   (None, None, None, 64)    0         \n",
      "_________________________________________________________________\n",
      "block2_conv1 (Conv2D)        (None, None, None, 128)   73856     \n",
      "_________________________________________________________________\n",
      "block2_conv2 (Conv2D)        (None, None, None, 128)   147584    \n",
      "_________________________________________________________________\n",
      "block2_pool (MaxPooling2D)   (None, None, None, 128)   0         \n",
      "_________________________________________________________________\n",
      "block3_conv1 (Conv2D)        (None, None, None, 256)   295168    \n",
      "_________________________________________________________________\n",
      "block3_conv2 (Conv2D)        (None, None, None, 256)   590080    \n",
      "_________________________________________________________________\n",
      "block3_conv3 (Conv2D)        (None, None, None, 256)   590080    \n",
      "_________________________________________________________________\n",
      "block3_pool (MaxPooling2D)   (None, None, None, 256)   0         \n",
      "_________________________________________________________________\n",
      "block4_conv1 (Conv2D)        (None, None, None, 512)   1180160   \n",
      "_________________________________________________________________\n",
      "block4_conv2 (Conv2D)        (None, None, None, 512)   2359808   \n",
      "_________________________________________________________________\n",
      "block4_conv3 (Conv2D)        (None, None, None, 512)   2359808   \n",
      "_________________________________________________________________\n",
      "block4_pool (MaxPooling2D)   (None, None, None, 512)   0         \n",
      "_________________________________________________________________\n",
      "block5_conv1 (Conv2D)        (None, None, None, 512)   2359808   \n",
      "_________________________________________________________________\n",
      "block5_conv2 (Conv2D)        (None, None, None, 512)   2359808   \n",
      "_________________________________________________________________\n",
      "block5_conv3 (Conv2D)        (None, None, None, 512)   2359808   \n",
      "_________________________________________________________________\n",
      "block5_pool (MaxPooling2D)   (None, None, None, 512)   0         \n",
      "_________________________________________________________________\n",
      "global_average_pooling2d_1 ( (None, 512)               0         \n",
      "_________________________________________________________________\n",
      "dense_1 (Dense)              (None, 512)               262656    \n",
      "_________________________________________________________________\n",
      "dense_2 (Dense)              (None, 256)               131328    \n",
      "_________________________________________________________________\n",
      "dense_3 (Dense)              (None, 1)                 257       \n",
      "=================================================================\n",
      "Total params: 15,108,929\n",
      "Trainable params: 394,241\n",
      "Non-trainable params: 14,714,688\n",
      "_________________________________________________________________\n"
     ]
    }
   ],
   "source": [
    "model.summary()"
   ]
  },
  {
   "cell_type": "code",
   "execution_count": 23,
   "metadata": {
    "collapsed": true
   },
   "outputs": [],
   "source": [
    "#compiling the model\n",
    "adam = Adam(lr=0.001)\n",
    "model.compile(loss='mean_absolute_error',metrics=['MAPE'],optimizer=adam)\n",
    "patience = 30\n",
    "earlystop = EarlyStopping(monitor=\"val_loss\",min_delta=0,mode=\"min\",patience=patience,verbose=1)\n",
    "checkpoint = ModelCheckpoint('modelweights_Regression_cont_max_rate.hdf5', \n",
    "                              monitor='val_loss', \n",
    "                              verbose=1, \n",
    "                              save_best_only=True, \n",
    "                              mode='min')\n",
    "callbacks = [checkpoint,earlystop]"
   ]
  },
  {
   "cell_type": "code",
   "execution_count": 24,
   "metadata": {},
   "outputs": [
    {
     "name": "stdout",
     "output_type": "stream",
     "text": [
      "_________________________________________________________________\n",
      "Layer (type)                 Output Shape              Param #   \n",
      "=================================================================\n",
      "input_1 (InputLayer)         (None, None, None, 3)     0         \n",
      "_________________________________________________________________\n",
      "block1_conv1 (Conv2D)        (None, None, None, 64)    1792      \n",
      "_________________________________________________________________\n",
      "block1_conv2 (Conv2D)        (None, None, None, 64)    36928     \n",
      "_________________________________________________________________\n",
      "block1_pool (MaxPooling2D)   (None, None, None, 64)    0         \n",
      "_________________________________________________________________\n",
      "block2_conv1 (Conv2D)        (None, None, None, 128)   73856     \n",
      "_________________________________________________________________\n",
      "block2_conv2 (Conv2D)        (None, None, None, 128)   147584    \n",
      "_________________________________________________________________\n",
      "block2_pool (MaxPooling2D)   (None, None, None, 128)   0         \n",
      "_________________________________________________________________\n",
      "block3_conv1 (Conv2D)        (None, None, None, 256)   295168    \n",
      "_________________________________________________________________\n",
      "block3_conv2 (Conv2D)        (None, None, None, 256)   590080    \n",
      "_________________________________________________________________\n",
      "block3_conv3 (Conv2D)        (None, None, None, 256)   590080    \n",
      "_________________________________________________________________\n",
      "block3_pool (MaxPooling2D)   (None, None, None, 256)   0         \n",
      "_________________________________________________________________\n",
      "block4_conv1 (Conv2D)        (None, None, None, 512)   1180160   \n",
      "_________________________________________________________________\n",
      "block4_conv2 (Conv2D)        (None, None, None, 512)   2359808   \n",
      "_________________________________________________________________\n",
      "block4_conv3 (Conv2D)        (None, None, None, 512)   2359808   \n",
      "_________________________________________________________________\n",
      "block4_pool (MaxPooling2D)   (None, None, None, 512)   0         \n",
      "_________________________________________________________________\n",
      "block5_conv1 (Conv2D)        (None, None, None, 512)   2359808   \n",
      "_________________________________________________________________\n",
      "block5_conv2 (Conv2D)        (None, None, None, 512)   2359808   \n",
      "_________________________________________________________________\n",
      "block5_conv3 (Conv2D)        (None, None, None, 512)   2359808   \n",
      "_________________________________________________________________\n",
      "block5_pool (MaxPooling2D)   (None, None, None, 512)   0         \n",
      "_________________________________________________________________\n",
      "global_average_pooling2d_1 ( (None, 512)               0         \n",
      "_________________________________________________________________\n",
      "dense_1 (Dense)              (None, 512)               262656    \n",
      "_________________________________________________________________\n",
      "dense_2 (Dense)              (None, 256)               131328    \n",
      "_________________________________________________________________\n",
      "dense_3 (Dense)              (None, 1)                 257       \n",
      "=================================================================\n",
      "Total params: 15,108,929\n",
      "Trainable params: 394,241\n",
      "Non-trainable params: 14,714,688\n",
      "_________________________________________________________________\n"
     ]
    }
   ],
   "source": [
    "model.summary()"
   ]
  },
  {
   "cell_type": "code",
   "execution_count": 25,
   "metadata": {},
   "outputs": [
    {
     "name": "stdout",
     "output_type": "stream",
     "text": [
      "Train on 1849 samples, validate on 599 samples\n",
      "Epoch 1/150\n",
      "1849/1849 [==============================] - 82s 44ms/step - loss: 0.7109 - mean_absolute_percentage_error: 318.0826 - val_loss: 0.2441 - val_mean_absolute_percentage_error: 85.9901\n",
      "\n",
      "Epoch 00001: val_loss improved from inf to 0.24415, saving model to modelweights_Regression_cont_max_rate.hdf5\n",
      "Epoch 2/150\n",
      "1849/1849 [==============================] - 75s 41ms/step - loss: 0.1675 - mean_absolute_percentage_error: 74.3178 - val_loss: 0.1891 - val_mean_absolute_percentage_error: 71.6119\n",
      "\n",
      "Epoch 00002: val_loss improved from 0.24415 to 0.18914, saving model to modelweights_Regression_cont_max_rate.hdf5\n",
      "Epoch 3/150\n",
      "1849/1849 [==============================] - 77s 42ms/step - loss: 0.0812 - mean_absolute_percentage_error: 36.8708 - val_loss: 0.1510 - val_mean_absolute_percentage_error: 45.8586\n",
      "\n",
      "Epoch 00003: val_loss improved from 0.18914 to 0.15099, saving model to modelweights_Regression_cont_max_rate.hdf5\n",
      "Epoch 4/150\n",
      "1849/1849 [==============================] - 76s 41ms/step - loss: 0.0700 - mean_absolute_percentage_error: 31.3913 - val_loss: 0.1516 - val_mean_absolute_percentage_error: 49.2542\n",
      "\n",
      "Epoch 00004: val_loss did not improve from 0.15099\n",
      "Epoch 5/150\n",
      "1849/1849 [==============================] - 75s 41ms/step - loss: 0.0490 - mean_absolute_percentage_error: 22.8938 - val_loss: 0.1393 - val_mean_absolute_percentage_error: 44.4881\n",
      "\n",
      "Epoch 00005: val_loss improved from 0.15099 to 0.13934, saving model to modelweights_Regression_cont_max_rate.hdf5\n",
      "Epoch 6/150\n",
      "1849/1849 [==============================] - 75s 41ms/step - loss: 0.0411 - mean_absolute_percentage_error: 18.4142 - val_loss: 0.1424 - val_mean_absolute_percentage_error: 45.1111\n",
      "\n",
      "Epoch 00006: val_loss did not improve from 0.13934\n",
      "Epoch 7/150\n",
      "1849/1849 [==============================] - 75s 41ms/step - loss: 0.0363 - mean_absolute_percentage_error: 16.7718 - val_loss: 0.1323 - val_mean_absolute_percentage_error: 42.4693\n",
      "\n",
      "Epoch 00007: val_loss improved from 0.13934 to 0.13229, saving model to modelweights_Regression_cont_max_rate.hdf5\n",
      "Epoch 8/150\n",
      "1849/1849 [==============================] - 75s 41ms/step - loss: 0.0341 - mean_absolute_percentage_error: 15.1161 - val_loss: 0.1468 - val_mean_absolute_percentage_error: 49.8232\n",
      "\n",
      "Epoch 00008: val_loss did not improve from 0.13229\n",
      "Epoch 9/150\n",
      "1849/1849 [==============================] - 75s 41ms/step - loss: 0.0347 - mean_absolute_percentage_error: 15.8642 - val_loss: 0.1241 - val_mean_absolute_percentage_error: 37.5053\n",
      "\n",
      "Epoch 00009: val_loss improved from 0.13229 to 0.12413, saving model to modelweights_Regression_cont_max_rate.hdf5\n",
      "Epoch 10/150\n",
      "1849/1849 [==============================] - 75s 41ms/step - loss: 0.0340 - mean_absolute_percentage_error: 15.5425 - val_loss: 0.1137 - val_mean_absolute_percentage_error: 39.6229\n",
      "\n",
      "Epoch 00010: val_loss improved from 0.12413 to 0.11369, saving model to modelweights_Regression_cont_max_rate.hdf5\n",
      "Epoch 11/150\n",
      "1849/1849 [==============================] - 75s 41ms/step - loss: 0.0335 - mean_absolute_percentage_error: 15.1035 - val_loss: 0.1413 - val_mean_absolute_percentage_error: 50.3359\n",
      "\n",
      "Epoch 00011: val_loss did not improve from 0.11369\n",
      "Epoch 12/150\n",
      "1849/1849 [==============================] - 75s 41ms/step - loss: 0.0354 - mean_absolute_percentage_error: 15.5458 - val_loss: 0.1282 - val_mean_absolute_percentage_error: 42.3387\n",
      "\n",
      "Epoch 00012: val_loss did not improve from 0.11369\n",
      "Epoch 13/150\n",
      "1849/1849 [==============================] - 75s 41ms/step - loss: 0.0289 - mean_absolute_percentage_error: 13.0586 - val_loss: 0.1342 - val_mean_absolute_percentage_error: 41.9715\n",
      "\n",
      "Epoch 00013: val_loss did not improve from 0.11369\n",
      "Epoch 14/150\n",
      "1849/1849 [==============================] - 75s 41ms/step - loss: 0.0284 - mean_absolute_percentage_error: 12.8599 - val_loss: 0.1276 - val_mean_absolute_percentage_error: 42.5963\n",
      "\n",
      "Epoch 00014: val_loss did not improve from 0.11369\n",
      "Epoch 15/150\n",
      "1849/1849 [==============================] - 75s 41ms/step - loss: 0.0289 - mean_absolute_percentage_error: 12.8036 - val_loss: 0.1380 - val_mean_absolute_percentage_error: 45.9975\n",
      "\n",
      "Epoch 00015: val_loss did not improve from 0.11369\n",
      "Epoch 16/150\n",
      "1849/1849 [==============================] - 75s 41ms/step - loss: 0.0243 - mean_absolute_percentage_error: 11.2596 - val_loss: 0.1459 - val_mean_absolute_percentage_error: 43.7379\n",
      "\n",
      "Epoch 00016: val_loss did not improve from 0.11369\n",
      "Epoch 17/150\n",
      "1849/1849 [==============================] - 75s 41ms/step - loss: 0.0266 - mean_absolute_percentage_error: 11.7283 - val_loss: 0.1527 - val_mean_absolute_percentage_error: 52.9912\n",
      "\n",
      "Epoch 00017: val_loss did not improve from 0.11369\n",
      "Epoch 18/150\n",
      "1849/1849 [==============================] - 75s 41ms/step - loss: 0.0248 - mean_absolute_percentage_error: 11.4495 - val_loss: 0.1480 - val_mean_absolute_percentage_error: 49.9744\n",
      "\n",
      "Epoch 00018: val_loss did not improve from 0.11369\n",
      "Epoch 19/150\n",
      "1849/1849 [==============================] - 75s 41ms/step - loss: 0.0211 - mean_absolute_percentage_error: 9.8171 - val_loss: 0.1460 - val_mean_absolute_percentage_error: 50.3676\n",
      "\n",
      "Epoch 00019: val_loss did not improve from 0.11369\n",
      "Epoch 20/150\n",
      "1849/1849 [==============================] - 75s 41ms/step - loss: 0.0235 - mean_absolute_percentage_error: 11.0679 - val_loss: 0.1635 - val_mean_absolute_percentage_error: 58.3168\n",
      "\n",
      "Epoch 00020: val_loss did not improve from 0.11369\n",
      "Epoch 21/150\n",
      "1849/1849 [==============================] - 75s 41ms/step - loss: 0.0228 - mean_absolute_percentage_error: 10.3802 - val_loss: 0.1499 - val_mean_absolute_percentage_error: 49.0662\n",
      "\n",
      "Epoch 00021: val_loss did not improve from 0.11369\n",
      "Epoch 22/150\n",
      "1849/1849 [==============================] - 75s 41ms/step - loss: 0.0205 - mean_absolute_percentage_error: 9.0099 - val_loss: 0.1393 - val_mean_absolute_percentage_error: 44.0267\n",
      "\n",
      "Epoch 00022: val_loss did not improve from 0.11369\n",
      "Epoch 23/150\n",
      "1849/1849 [==============================] - 75s 41ms/step - loss: 0.0192 - mean_absolute_percentage_error: 8.3170 - val_loss: 0.1563 - val_mean_absolute_percentage_error: 52.5712\n",
      "\n",
      "Epoch 00023: val_loss did not improve from 0.11369\n",
      "Epoch 24/150\n",
      "1849/1849 [==============================] - 75s 41ms/step - loss: 0.0192 - mean_absolute_percentage_error: 8.5753 - val_loss: 0.1390 - val_mean_absolute_percentage_error: 47.2540\n",
      "\n",
      "Epoch 00024: val_loss did not improve from 0.11369\n",
      "Epoch 25/150\n",
      "1849/1849 [==============================] - 75s 41ms/step - loss: 0.0193 - mean_absolute_percentage_error: 8.5966 - val_loss: 0.1487 - val_mean_absolute_percentage_error: 52.0560\n",
      "\n",
      "Epoch 00025: val_loss did not improve from 0.11369\n",
      "Epoch 26/150\n",
      "1849/1849 [==============================] - 75s 41ms/step - loss: 0.0188 - mean_absolute_percentage_error: 8.9196 - val_loss: 0.1493 - val_mean_absolute_percentage_error: 52.6237\n",
      "\n",
      "Epoch 00026: val_loss did not improve from 0.11369\n",
      "Epoch 27/150\n",
      "1849/1849 [==============================] - 75s 41ms/step - loss: 0.0171 - mean_absolute_percentage_error: 7.4633 - val_loss: 0.1576 - val_mean_absolute_percentage_error: 51.6406\n",
      "\n",
      "Epoch 00027: val_loss did not improve from 0.11369\n",
      "Epoch 28/150\n",
      "1849/1849 [==============================] - 75s 41ms/step - loss: 0.0192 - mean_absolute_percentage_error: 8.7345 - val_loss: 0.1526 - val_mean_absolute_percentage_error: 51.6591\n",
      "\n",
      "Epoch 00028: val_loss did not improve from 0.11369\n",
      "Epoch 29/150\n",
      "1849/1849 [==============================] - 75s 41ms/step - loss: 0.0172 - mean_absolute_percentage_error: 8.0251 - val_loss: 0.1497 - val_mean_absolute_percentage_error: 50.9807\n",
      "\n",
      "Epoch 00029: val_loss did not improve from 0.11369\n",
      "Epoch 30/150\n",
      "1849/1849 [==============================] - 75s 41ms/step - loss: 0.0173 - mean_absolute_percentage_error: 8.3960 - val_loss: 0.1464 - val_mean_absolute_percentage_error: 49.4329\n",
      "\n",
      "Epoch 00030: val_loss did not improve from 0.11369\n",
      "Epoch 31/150\n",
      "1849/1849 [==============================] - 75s 41ms/step - loss: 0.0164 - mean_absolute_percentage_error: 7.5565 - val_loss: 0.1448 - val_mean_absolute_percentage_error: 46.0530\n",
      "\n",
      "Epoch 00031: val_loss did not improve from 0.11369\n",
      "Epoch 32/150\n",
      "1849/1849 [==============================] - 75s 41ms/step - loss: 0.0162 - mean_absolute_percentage_error: 7.2706 - val_loss: 0.1269 - val_mean_absolute_percentage_error: 35.4152\n",
      "\n",
      "Epoch 00032: val_loss did not improve from 0.11369\n",
      "Epoch 33/150\n",
      "1849/1849 [==============================] - 75s 41ms/step - loss: 0.0217 - mean_absolute_percentage_error: 9.3540 - val_loss: 0.1537 - val_mean_absolute_percentage_error: 52.1713\n",
      "\n",
      "Epoch 00033: val_loss did not improve from 0.11369\n",
      "Epoch 34/150\n",
      "1849/1849 [==============================] - 75s 41ms/step - loss: 0.0165 - mean_absolute_percentage_error: 7.1595 - val_loss: 0.1459 - val_mean_absolute_percentage_error: 50.5768\n",
      "\n",
      "Epoch 00034: val_loss did not improve from 0.11369\n",
      "Epoch 35/150\n",
      "1849/1849 [==============================] - 75s 41ms/step - loss: 0.0155 - mean_absolute_percentage_error: 6.7481 - val_loss: 0.1683 - val_mean_absolute_percentage_error: 56.6241\n",
      "\n",
      "Epoch 00035: val_loss did not improve from 0.11369\n",
      "Epoch 36/150\n",
      "1849/1849 [==============================] - 75s 41ms/step - loss: 0.0161 - mean_absolute_percentage_error: 6.8635 - val_loss: 0.1463 - val_mean_absolute_percentage_error: 49.0230\n",
      "\n",
      "Epoch 00036: val_loss did not improve from 0.11369\n",
      "Epoch 37/150\n",
      "1849/1849 [==============================] - 75s 41ms/step - loss: 0.0178 - mean_absolute_percentage_error: 8.0568 - val_loss: 0.1462 - val_mean_absolute_percentage_error: 50.7283\n",
      "\n",
      "Epoch 00037: val_loss did not improve from 0.11369\n",
      "Epoch 38/150\n",
      "1849/1849 [==============================] - 75s 41ms/step - loss: 0.0154 - mean_absolute_percentage_error: 6.8801 - val_loss: 0.1496 - val_mean_absolute_percentage_error: 46.4552\n",
      "\n",
      "Epoch 00038: val_loss did not improve from 0.11369\n",
      "Epoch 39/150\n",
      "1849/1849 [==============================] - 75s 41ms/step - loss: 0.0151 - mean_absolute_percentage_error: 6.5660 - val_loss: 0.1554 - val_mean_absolute_percentage_error: 49.6893\n",
      "\n",
      "Epoch 00039: val_loss did not improve from 0.11369\n",
      "Epoch 40/150\n",
      "1849/1849 [==============================] - 75s 41ms/step - loss: 0.0135 - mean_absolute_percentage_error: 6.9541 - val_loss: 0.1540 - val_mean_absolute_percentage_error: 53.3516\n",
      "\n",
      "Epoch 00040: val_loss did not improve from 0.11369\n",
      "Epoch 00040: early stopping\n"
     ]
    }
   ],
   "source": [
    "#fitting the model\n",
    "history =model.fit(X_Train,Y_Train,epochs=150,batch_size=16,validation_data=(X_Valid,Y_Valid),callbacks=callbacks)"
   ]
  },
  {
   "cell_type": "code",
   "execution_count": 26,
   "metadata": {
    "collapsed": true
   },
   "outputs": [],
   "source": [
    "# Reload Best Model for further usage....\n",
    "model.load_weights('modelweights_Regression_cont_max_rate.hdf5')"
   ]
  },
  {
   "cell_type": "code",
   "execution_count": 36,
   "metadata": {},
   "outputs": [
    {
     "data": {
      "text/plain": [
       "<matplotlib.figure.Figure at 0x26eedbafa90>"
      ]
     },
     "metadata": {},
     "output_type": "display_data"
    },
    {
     "data": {
      "image/png": "[encoded data removed]",
      "text/plain": [
       "<matplotlib.figure.Figure at 0x26eedb6c550>"
      ]
     },
     "metadata": {},
     "output_type": "display_data"
    }
   ],
   "source": [
    "# Plot Charts\n",
    "plot_chart_to_file(earlystop.stopped_epoch - patience, earlystop.best)"
   ]
  },
  {
   "cell_type": "code",
   "execution_count": 32,
   "metadata": {},
   "outputs": [
    {
     "name": "stdout",
     "output_type": "stream",
     "text": [
      "mean_absolute_percentage_error 12.7723766428\n"
     ]
    }
   ],
   "source": [
    "scores_Train = model.evaluate(X_Train, Y_Train, verbose=0)\n",
    "print(model.metrics_names[1], scores_Train[1])"
   ]
  },
  {
   "cell_type": "code",
   "execution_count": 34,
   "metadata": {},
   "outputs": [
    {
     "name": "stdout",
     "output_type": "stream",
     "text": [
      "mean_absolute_percentage_error 39.6228505104\n"
     ]
    }
   ],
   "source": [
    "scores_Valid = model.evaluate(X_Valid,Y_Valid, verbose=0)\n",
    "print(model.metrics_names[1], scores_Valid[1])"
   ]
  },
  {
   "cell_type": "code",
   "execution_count": 35,
   "metadata": {},
   "outputs": [
    {
     "name": "stdout",
     "output_type": "stream",
     "text": [
      "mean_absolute_percentage_error 63.728888855\n"
     ]
    }
   ],
   "source": [
    "scores = model.evaluate(X_Test, Y_Test, verbose=0)\n",
    "print(model.metrics_names[1], scores[1])"
   ]
  },
  {
   "cell_type": "code",
   "execution_count": 28,
   "metadata": {},
   "outputs": [
    {
     "data": {
      "text/plain": [
       "{'loss': [0.71090485535163117,\n",
       "  0.16747537060661405,\n",
       "  0.081160469348363587,\n",
       "  0.069959734672788293,\n",
       "  0.049023369852032386,\n",
       "  0.041104343028214252,\n",
       "  0.036308367083351827,\n",
       "  0.034138072636673553,\n",
       "  0.034654681225800399,\n",
       "  0.033960982498331543,\n",
       "  0.033502532750480943,\n",
       "  0.035433052872292994,\n",
       "  0.028868153165439583,\n",
       "  0.028366170098260649,\n",
       "  0.028861778097709751,\n",
       "  0.024324168657139548,\n",
       "  0.026558782012801742,\n",
       "  0.024779271495590473,\n",
       "  0.021145470414195851,\n",
       "  0.023465446399987194,\n",
       "  0.022810372906767754,\n",
       "  0.020529525309172496,\n",
       "  0.019165492336038578,\n",
       "  0.01919343036872961,\n",
       "  0.019263573441193064,\n",
       "  0.018769823395525718,\n",
       "  0.01707713359945719,\n",
       "  0.019228088934923455,\n",
       "  0.017180510486837268,\n",
       "  0.017312186162187448,\n",
       "  0.016411109787667359,\n",
       "  0.016184309532733917,\n",
       "  0.021718701003184831,\n",
       "  0.016534197307909546,\n",
       "  0.015460991584219888,\n",
       "  0.016145552196748968,\n",
       "  0.017805512286339857,\n",
       "  0.015353499856823325,\n",
       "  0.015099694427523888,\n",
       "  0.013537403725978166],\n",
       " 'mean_absolute_percentage_error': [318.08264831906075,\n",
       "  74.317805835399966,\n",
       "  36.87079328018114,\n",
       "  31.391309950659892,\n",
       "  22.893764036291028,\n",
       "  18.414171817175049,\n",
       "  16.771797507179304,\n",
       "  15.116106073040134,\n",
       "  15.864170096641363,\n",
       "  15.542483298826243,\n",
       "  15.103464408717715,\n",
       "  15.545849723774655,\n",
       "  13.058633207049867,\n",
       "  12.859861984840917,\n",
       "  12.803611361832152,\n",
       "  11.259600247867434,\n",
       "  11.7283321716387,\n",
       "  11.449497036704377,\n",
       "  9.8171276589739698,\n",
       "  11.06788026429048,\n",
       "  10.380232307832262,\n",
       "  9.0099223656806515,\n",
       "  8.3170167516540232,\n",
       "  8.5752966835925619,\n",
       "  8.5965515588540651,\n",
       "  8.9196228050038009,\n",
       "  7.463332313147669,\n",
       "  8.7344678081390725,\n",
       "  8.0251023909928278,\n",
       "  8.3959995798964062,\n",
       "  7.5564570821511419,\n",
       "  7.270621855237021,\n",
       "  9.354013928082777,\n",
       "  7.1595360130281174,\n",
       "  6.7480795294481588,\n",
       "  6.8634889908517742,\n",
       "  8.0568329680604247,\n",
       "  6.8800791884319663,\n",
       "  6.5660436268172564,\n",
       "  6.9540892593792289],\n",
       " 'val_loss': [0.24414626226600303,\n",
       "  0.18913926604594133,\n",
       "  0.15098560963429275,\n",
       "  0.15164483518950728,\n",
       "  0.13933671344202231,\n",
       "  0.14241785876987773,\n",
       "  0.13229044515620886,\n",
       "  0.14675461917568328,\n",
       "  0.12413146649059748,\n",
       "  0.11368757327132313,\n",
       "  0.14130940125362701,\n",
       "  0.12819676937065858,\n",
       "  0.13421217778787789,\n",
       "  0.12760575757500325,\n",
       "  0.1379681393031485,\n",
       "  0.14593683053834211,\n",
       "  0.15274262177028719,\n",
       "  0.14796832870561411,\n",
       "  0.14601297094447785,\n",
       "  0.16352676832815244,\n",
       "  0.14991461377410539,\n",
       "  0.13931679733109992,\n",
       "  0.15633909628168371,\n",
       "  0.13895622535122057,\n",
       "  0.14871470334135831,\n",
       "  0.14934892713625561,\n",
       "  0.15761816538932527,\n",
       "  0.15261890091163685,\n",
       "  0.14965923884277152,\n",
       "  0.14638408205047473,\n",
       "  0.14481628043126185,\n",
       "  0.12687748663114984,\n",
       "  0.15371254636270176,\n",
       "  0.14589501325296042,\n",
       "  0.16833690331256848,\n",
       "  0.14634309915548971,\n",
       "  0.14621783350166773,\n",
       "  0.14961561286986769,\n",
       "  0.15540754133353449,\n",
       "  0.15403990338063597],\n",
       " 'val_mean_absolute_percentage_error': [85.99011525964498,\n",
       "  71.611933712967243,\n",
       "  45.85861065948945,\n",
       "  49.254238669979749,\n",
       "  44.488070034224521,\n",
       "  45.11107586461037,\n",
       "  42.469326789868695,\n",
       "  49.82318200571509,\n",
       "  37.505299041187627,\n",
       "  39.622865145114908,\n",
       "  50.335894958801781,\n",
       "  42.338735093258457,\n",
       "  41.971530258357028,\n",
       "  42.596322163118543,\n",
       "  45.997492107206675,\n",
       "  43.737884152114688,\n",
       "  52.991207727804806,\n",
       "  49.974365489112714,\n",
       "  50.367554627993272,\n",
       "  58.316821370578566,\n",
       "  49.06623891279574,\n",
       "  44.026660887347241,\n",
       "  52.571248520992832,\n",
       "  47.254036828552145,\n",
       "  52.055985465073626,\n",
       "  52.623670600292478,\n",
       "  51.640574472774446,\n",
       "  51.659081626217038,\n",
       "  50.98072046907199,\n",
       "  49.432924375709192,\n",
       "  46.053013147217207,\n",
       "  35.415157725695579,\n",
       "  52.171328702235662,\n",
       "  50.576805344010033,\n",
       "  56.624126810064297,\n",
       "  49.023014342446558,\n",
       "  50.728316878635617,\n",
       "  46.455205468383177,\n",
       "  49.689347816429077,\n",
       "  53.351588521457472]}"
      ]
     },
     "execution_count": 28,
     "metadata": {},
     "output_type": "execute_result"
    }
   ],
   "source": [
    "history.history"
   ]
  },
  {
   "cell_type": "code",
   "execution_count": null,
   "metadata": {
    "collapsed": true
   },
   "outputs": [],
   "source": []
  }
 ],
 "metadata": {
  "kernelspec": {
   "display_name": "Python 3",
   "language": "python",
   "name": "python3"
  },
  "language_info": {
   "codemirror_mode": {
    "name": "ipython",
    "version": 3
   },
   "file_extension": ".py",
   "mimetype": "text/x-python",
   "name": "python",
   "nbconvert_exporter": "python",
   "pygments_lexer": "ipython3",
   "version": "3.6.6"
  }
 },
 "nbformat": 4,
 "nbformat_minor": 2
}
