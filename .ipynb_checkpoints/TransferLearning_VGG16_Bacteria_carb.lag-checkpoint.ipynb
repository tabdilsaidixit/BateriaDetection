{
 "cells": [
  {
   "cell_type": "code",
   "execution_count": 1,
   "metadata": {},
   "outputs": [
    {
     "name": "stderr",
     "output_type": "stream",
     "text": [
      "Using TensorFlow backend.\n"
     ]
    }
   ],
   "source": [
    "import numpy as np\n",
    "import os\n",
    "import PIL\n",
    "from PIL import Image\n",
    "import matplotlib.pyplot as plt\n",
    "import pandas as pd\n",
    "\n",
    "from sklearn.model_selection import train_test_split\n",
    "from keras.models import Model\n",
    "from keras.layers import Flatten, Dense, Dropout\n",
    "from keras.layers import Convolution2D, MaxPooling2D\n",
    "from keras.layers import BatchNormalization, GlobalAveragePooling2D\n",
    "from keras.utils import to_categorical\n",
    "from keras.optimizers import Adam\n",
    "from keras.callbacks import EarlyStopping, ModelCheckpoint\n",
    "from sklearn.utils import shuffle\n",
    "from openpyxl import load_workbook\n",
    "from keras.applications.vgg16 import preprocess_input\n",
    "from keras.preprocessing.image import load_img\n",
    "from keras.preprocessing.image import img_to_array"
   ]
  },
  {
   "cell_type": "code",
   "execution_count": 2,
   "metadata": {
    "collapsed": true
   },
   "outputs": [],
   "source": [
    "size = 224\n",
    "def read_image(f):\n",
    "    image = load_img(f, target_size=(224, 224))\n",
    "    # convert the image pixels to a numpy array\n",
    "    image = img_to_array(image)\n",
    "    image = preprocess_input(image)    \n",
    "    return(image)"
   ]
  },
  {
   "cell_type": "code",
   "execution_count": 3,
   "metadata": {
    "collapsed": true
   },
   "outputs": [],
   "source": [
    "size = 224\n",
    "traindata_folderPath = 'D:\\\\Data\\\\DataAugmentation\\\\TrainingData\\\\TrainData_Augmentation\\\\'\n",
    "validdata_folderPath = 'D:\\\\Data\\\\DataAugmentation\\\\TrainingData\\\\ValidationData_Augmentation\\\\'\n",
    "testdata_folderpath='D:\\\\Data\\\\DataAugmentation\\\\TestData\\\\TestingData_Augmentation\\\\'\n",
    "columnName = 'carb.lag'\n",
    "excelFileName = \"D://Data//Perron_phenotype-GSU-training.xlsx\"\n",
    "sheetName = 'Total Database'\n",
    "imgPat = 'PIL-55a_3dayLBCR-3'"
   ]
  },
  {
   "cell_type": "code",
   "execution_count": 4,
   "metadata": {
    "collapsed": true
   },
   "outputs": [],
   "source": [
    "train_filelist= [file for file in os.listdir(traindata_folderPath) if file.endswith('.jpeg')]\n",
    "valid_filelist= [file for file in os.listdir(validdata_folderPath) if file.endswith('.jpeg')]\n",
    "test_filelist= [file for file in os.listdir(testdata_folderpath) if file.endswith('.jpeg')]"
   ]
  },
  {
   "cell_type": "code",
   "execution_count": 5,
   "metadata": {},
   "outputs": [
    {
     "name": "stdout",
     "output_type": "stream",
     "text": [
      "Total number of files in directory: 1849\n",
      "Total number of files in directory: 599\n",
      "Total number of files in directory: 600\n"
     ]
    }
   ],
   "source": [
    "n_files = len(train_filelist)\n",
    "print('Total number of files in directory:', n_files)\n",
    "n_files = len(valid_filelist)\n",
    "print('Total number of files in directory:', n_files)\n",
    "n_files = len(test_filelist)\n",
    "print('Total number of files in directory:', n_files)"
   ]
  },
  {
   "cell_type": "code",
   "execution_count": 6,
   "metadata": {
    "collapsed": true
   },
   "outputs": [],
   "source": [
    "wb = load_workbook(excelFileName)"
   ]
  },
  {
   "cell_type": "code",
   "execution_count": 7,
   "metadata": {
    "collapsed": true
   },
   "outputs": [],
   "source": [
    "sheet = wb[sheetName]"
   ]
  },
  {
   "cell_type": "code",
   "execution_count": 8,
   "metadata": {
    "collapsed": true
   },
   "outputs": [],
   "source": [
    "def getColumnNumber(columnName, sheet):\n",
    "    reqColNum = -1\n",
    "    maxColNumber = sheet.max_column + 1\n",
    "    for x in range(1, maxColNumber):\n",
    "        cellValue = sheet.cell(row=1, column=x).value\n",
    "        if(cellValue == columnName):\n",
    "                reqColNum = x\n",
    "                break\n",
    "    return(reqColNum)"
   ]
  },
  {
   "cell_type": "code",
   "execution_count": 9,
   "metadata": {
    "collapsed": true
   },
   "outputs": [],
   "source": [
    "import re\n",
    "def getStrainNumber(imageName):\n",
    "    strt = imageName.find('-')\n",
    "    end = imageName.find('_')\n",
    "    imgNam = imageName[strt+1:end]\n",
    "    \n",
    "    imgNam = re.sub(r'[a-z]', '', imgNam)\n",
    "    return(imgNam)"
   ]
  },
  {
   "cell_type": "code",
   "execution_count": 10,
   "metadata": {
    "collapsed": true
   },
   "outputs": [],
   "source": [
    "def getRowNumber(strainNumber, sheet, columnNumber):\n",
    "    \n",
    "    reqRowNum = -1\n",
    "    maxRowNumber = sheet.max_row + 1\n",
    "    strainNumbr = float(strainNumber)\n",
    "    \n",
    "    for x in range(1, maxRowNumber):\n",
    "        cellVal = sheet.cell(row=x, column=columnNumber).value\n",
    "        try:\n",
    "            cellValue = float(cellVal)            \n",
    "            if(cellValue == strainNumbr):\n",
    "                reqRowNum = x\n",
    "                break\n",
    "        except ValueError:\n",
    "            continue\n",
    "    return(reqRowNum) "
   ]
  },
  {
   "cell_type": "code",
   "execution_count": 11,
   "metadata": {
    "collapsed": true
   },
   "outputs": [],
   "source": [
    "colNumber = getColumnNumber(columnName, sheet)"
   ]
  },
  {
   "cell_type": "code",
   "execution_count": 12,
   "metadata": {
    "collapsed": true
   },
   "outputs": [],
   "source": [
    "strainColumnNumber = getColumnNumber('strain', sheet)"
   ]
  },
  {
   "cell_type": "code",
   "execution_count": 13,
   "metadata": {},
   "outputs": [
    {
     "name": "stdout",
     "output_type": "stream",
     "text": [
      "Reading train images ...\n"
     ]
    }
   ],
   "source": [
    "X_Train = []\n",
    "Y_Train = []\n",
    "print('Reading train images ...')\n",
    "for file in train_filelist:\n",
    "    imagepath = os.path.join(traindata_folderPath, file)\n",
    "    im = read_image(imagepath)\n",
    "    #print(im.shape)\n",
    "    req_ColNumber = colNumber\n",
    "    req_rowNumber = getRowNumber(getStrainNumber(file),sheet,strainColumnNumber)\n",
    "    try:\n",
    "        if(req_rowNumber>0 and req_ColNumber>0):\n",
    "            req_CellValue = sheet.cell(row=req_rowNumber, column=req_ColNumber).value\n",
    "            X_Train.append(im)\n",
    "            Y_Train.append(req_CellValue)\n",
    "    except:\n",
    "        print(\"Error\")\n",
    "        print(imagepath)\n",
    "        print(getStrainNumber(file))\n",
    "        print(req_ColNumber)\n",
    "        print(req_rowNumber)\n",
    "        print(req_CellValue)\n",
    "        print(\"Error\")\n",
    "        continue"
   ]
  },
  {
   "cell_type": "code",
   "execution_count": 14,
   "metadata": {},
   "outputs": [
    {
     "name": "stdout",
     "output_type": "stream",
     "text": [
      "Reading train images ...\n"
     ]
    }
   ],
   "source": [
    "X_Valid = []\n",
    "Y_Valid = []\n",
    "print('Reading train images ...')\n",
    "for file in valid_filelist:\n",
    "    imagepath = os.path.join(validdata_folderPath, file)\n",
    "    im = read_image(imagepath)\n",
    "    req_ColNumber = colNumber\n",
    "    req_rowNumber = getRowNumber(getStrainNumber(file),sheet,strainColumnNumber)\n",
    "    try:\n",
    "        if(req_rowNumber>0 and req_ColNumber>0):\n",
    "            req_CellValue = sheet.cell(row=req_rowNumber, column=req_ColNumber).value\n",
    "            X_Valid.append(im)\n",
    "            Y_Valid.append(req_CellValue)\n",
    "    except:\n",
    "        print(\"Error\")\n",
    "        print(imagepath)\n",
    "        print(getStrainNumber(file))\n",
    "        print(req_ColNumber)\n",
    "        print(req_rowNumber)\n",
    "        print(req_CellValue)\n",
    "        print(\"Error\")\n",
    "        continue"
   ]
  },
  {
   "cell_type": "code",
   "execution_count": 15,
   "metadata": {},
   "outputs": [
    {
     "name": "stdout",
     "output_type": "stream",
     "text": [
      "Reading train images ...\n"
     ]
    }
   ],
   "source": [
    "X_Test = []\n",
    "Y_Test = []\n",
    "print('Reading train images ...')\n",
    "for file in test_filelist:\n",
    "    imagepath = os.path.join(testdata_folderpath, file)\n",
    "    im = read_image(imagepath)\n",
    "    req_ColNumber = colNumber\n",
    "    req_rowNumber = getRowNumber(getStrainNumber(file),sheet,strainColumnNumber)\n",
    "    try:\n",
    "        if(req_rowNumber>0 and req_ColNumber>0):\n",
    "            req_CellValue = sheet.cell(row=req_rowNumber, column=req_ColNumber).value\n",
    "            X_Test.append(im)\n",
    "            Y_Test.append(req_CellValue)\n",
    "    except:\n",
    "        print(\"Error\")\n",
    "        print(imagepath)\n",
    "        print(getStrainNumber(file))\n",
    "        print(req_ColNumber)\n",
    "        print(req_rowNumber)\n",
    "        print(req_CellValue)\n",
    "        print(\"Error\")\n",
    "        continue"
   ]
  },
  {
   "cell_type": "code",
   "execution_count": 16,
   "metadata": {},
   "outputs": [
    {
     "name": "stdout",
     "output_type": "stream",
     "text": [
      "(1849, 224, 224, 3) x Shape\n",
      "(1849, 1) y Shape\n",
      "(599, 224, 224, 3) x Shape\n",
      "(599, 1) y Shape\n",
      "(600, 224, 224, 3) x Shape\n",
      "(600, 1) y Shape\n"
     ]
    }
   ],
   "source": [
    "X_Train = np.array(X_Train)\n",
    "print(X_Train.shape, 'x Shape')\n",
    "\n",
    "Y_Train = np.array(Y_Train).reshape(-1,1)\n",
    "print(Y_Train.shape, 'y Shape')\n",
    "\n",
    "X_Valid = np.array(X_Valid)\n",
    "print(X_Valid.shape, 'x Shape')\n",
    "\n",
    "Y_Valid = np.array(Y_Valid).reshape(-1,1)\n",
    "print(Y_Valid.shape, 'y Shape')\n",
    "\n",
    "X_Test = np.array(X_Test)\n",
    "print(X_Test.shape, 'x Shape')\n",
    "\n",
    "Y_Test = np.array(Y_Test).reshape(-1,1)\n",
    "print(Y_Test.shape, 'y Shape')"
   ]
  },
  {
   "cell_type": "code",
   "execution_count": 17,
   "metadata": {
    "collapsed": true
   },
   "outputs": [],
   "source": [
    "# Store Model metrics\n",
    "history = {}"
   ]
  },
  {
   "cell_type": "code",
   "execution_count": 18,
   "metadata": {
    "collapsed": true
   },
   "outputs": [],
   "source": [
    "# Plot Chart\n",
    "def plot_chart_to_file(best_epoch, best_value):\n",
    "\n",
    "    # Plot Chart\n",
    "    fig = plt.figure(dpi=300)\n",
    "\n",
    "    # Subplot for Loss\n",
    "    ax1 = fig.add_subplot(111)    \n",
    "    ax1.plot(history.history['mean_squared_error'], color='b', \n",
    "    label='TrainMSE')\n",
    "    ax1.plot(history.history['val_mean_squared_error'], color='g', \n",
    "    label='validationMSE')\n",
    "    ax1.set_xlabel('Epoch')\n",
    "    ax1.set_ylabel('MSE')\n",
    "    ax1.legend(loc='lower left', bbox_to_anchor=(0, -0.30))\n",
    "    #ax2 = ax1.twinx()\n",
    "    #ax2.plot(history.history['mean_squared_error'], color='y', \n",
    "    #label='TrainMSE Loss')\n",
    "    #ax2.plot(history.history['val_mean_squared_error'], color='c', \n",
    "    #label='validationMSE Loss')\n",
    "    ax1.plot(best_epoch, best_value, 'r+', label='Best Model')\n",
    "    #ax2.set_ylabel('Loss')   \n",
    "    #ax2.legend(loc='lower right', bbox_to_anchor=(1, -0.30))\n",
    "    # Set Title\n",
    "    plt.title('Model - Best Epoch (' + str(best_epoch) + ')')\n",
    "    plt.show()\n",
    "    # .. and save..\n",
    "    plt.savefig('Blog3_Model_Chart_Regression_MSE_carb_lag.png', \n",
    "    bbox_inches=\"tight\")   "
   ]
  },
  {
   "cell_type": "code",
   "execution_count": 19,
   "metadata": {
    "collapsed": true
   },
   "outputs": [],
   "source": [
    "\n",
    "# Get VGG16 architecture from keras.applications\n",
    "from keras.applications.vgg16 import VGG16,decode_predictions\n",
    "\n",
    "# downloading weights and convolution layers from vgg16\n",
    "trained_model= VGG16(include_top=False,weights='imagenet')\n",
    "# print(trained_model.summary())\n",
    "\n",
    "# defining mlp that needs to be appended to vgg16 convolution layers\n",
    "x = trained_model.output\n",
    "x = GlobalAveragePooling2D()(x)\n",
    "x = Dense(512,activation='relu')(x)\n",
    "x = Dense(256,activation='relu')(x)\n",
    "output = Dense(1,activation='linear')(x)\n",
    "\n",
    "model= Model(inputs=trained_model.input,outputs=output)\n"
   ]
  },
  {
   "cell_type": "code",
   "execution_count": 20,
   "metadata": {
    "collapsed": true
   },
   "outputs": [],
   "source": [
    "for layer in trained_model.layers:\n",
    "    layer.trainable=False"
   ]
  },
  {
   "cell_type": "code",
   "execution_count": 21,
   "metadata": {},
   "outputs": [
    {
     "name": "stdout",
     "output_type": "stream",
     "text": [
      "input_1 False\n",
      "block1_conv1 False\n",
      "block1_conv2 False\n",
      "block1_pool False\n",
      "block2_conv1 False\n",
      "block2_conv2 False\n",
      "block2_pool False\n",
      "block3_conv1 False\n",
      "block3_conv2 False\n",
      "block3_conv3 False\n",
      "block3_pool False\n",
      "block4_conv1 False\n",
      "block4_conv2 False\n",
      "block4_conv3 False\n",
      "block4_pool False\n",
      "block5_conv1 False\n",
      "block5_conv2 False\n",
      "block5_conv3 False\n",
      "block5_pool False\n"
     ]
    }
   ],
   "source": [
    "for layer in trained_model.layers:\n",
    "    print(layer.name,layer.trainable)"
   ]
  },
  {
   "cell_type": "code",
   "execution_count": 22,
   "metadata": {},
   "outputs": [
    {
     "name": "stdout",
     "output_type": "stream",
     "text": [
      "_________________________________________________________________\n",
      "Layer (type)                 Output Shape              Param #   \n",
      "=================================================================\n",
      "input_1 (InputLayer)         (None, None, None, 3)     0         \n",
      "_________________________________________________________________\n",
      "block1_conv1 (Conv2D)        (None, None, None, 64)    1792      \n",
      "_________________________________________________________________\n",
      "block1_conv2 (Conv2D)        (None, None, None, 64)    36928     \n",
      "_________________________________________________________________\n",
      "block1_pool (MaxPooling2D)   (None, None, None, 64)    0         \n",
      "_________________________________________________________________\n",
      "block2_conv1 (Conv2D)        (None, None, None, 128)   73856     \n",
      "_________________________________________________________________\n",
      "block2_conv2 (Conv2D)        (None, None, None, 128)   147584    \n",
      "_________________________________________________________________\n",
      "block2_pool (MaxPooling2D)   (None, None, None, 128)   0         \n",
      "_________________________________________________________________\n",
      "block3_conv1 (Conv2D)        (None, None, None, 256)   295168    \n",
      "_________________________________________________________________\n",
      "block3_conv2 (Conv2D)        (None, None, None, 256)   590080    \n",
      "_________________________________________________________________\n",
      "block3_conv3 (Conv2D)        (None, None, None, 256)   590080    \n",
      "_________________________________________________________________\n",
      "block3_pool (MaxPooling2D)   (None, None, None, 256)   0         \n",
      "_________________________________________________________________\n",
      "block4_conv1 (Conv2D)        (None, None, None, 512)   1180160   \n",
      "_________________________________________________________________\n",
      "block4_conv2 (Conv2D)        (None, None, None, 512)   2359808   \n",
      "_________________________________________________________________\n",
      "block4_conv3 (Conv2D)        (None, None, None, 512)   2359808   \n",
      "_________________________________________________________________\n",
      "block4_pool (MaxPooling2D)   (None, None, None, 512)   0         \n",
      "_________________________________________________________________\n",
      "block5_conv1 (Conv2D)        (None, None, None, 512)   2359808   \n",
      "_________________________________________________________________\n",
      "block5_conv2 (Conv2D)        (None, None, None, 512)   2359808   \n",
      "_________________________________________________________________\n",
      "block5_conv3 (Conv2D)        (None, None, None, 512)   2359808   \n",
      "_________________________________________________________________\n",
      "block5_pool (MaxPooling2D)   (None, None, None, 512)   0         \n",
      "_________________________________________________________________\n",
      "global_average_pooling2d_1 ( (None, 512)               0         \n",
      "_________________________________________________________________\n",
      "dense_1 (Dense)              (None, 512)               262656    \n",
      "_________________________________________________________________\n",
      "dense_2 (Dense)              (None, 256)               131328    \n",
      "_________________________________________________________________\n",
      "dense_3 (Dense)              (None, 1)                 257       \n",
      "=================================================================\n",
      "Total params: 15,108,929\n",
      "Trainable params: 394,241\n",
      "Non-trainable params: 14,714,688\n",
      "_________________________________________________________________\n"
     ]
    }
   ],
   "source": [
    "model.summary()"
   ]
  },
  {
   "cell_type": "code",
   "execution_count": 23,
   "metadata": {
    "collapsed": true
   },
   "outputs": [],
   "source": [
    "#compiling the model\n",
    "adam = Adam(lr=0.001)\n",
    "model.compile(loss='mean_squared_error',metrics=['MSE'],optimizer=adam)\n",
    "patience = 30\n",
    "earlystop = EarlyStopping(monitor=\"val_loss\",min_delta=0,mode=\"min\",patience=patience,verbose=1)\n",
    "checkpoint = ModelCheckpoint('modelweights_Regression_carb_lag.hdf5', \n",
    "                              monitor='val_loss', \n",
    "                              verbose=1, \n",
    "                              save_best_only=True, \n",
    "                              mode='min')\n",
    "callbacks = [checkpoint,earlystop]"
   ]
  },
  {
   "cell_type": "code",
   "execution_count": 24,
   "metadata": {},
   "outputs": [
    {
     "name": "stdout",
     "output_type": "stream",
     "text": [
      "_________________________________________________________________\n",
      "Layer (type)                 Output Shape              Param #   \n",
      "=================================================================\n",
      "input_1 (InputLayer)         (None, None, None, 3)     0         \n",
      "_________________________________________________________________\n",
      "block1_conv1 (Conv2D)        (None, None, None, 64)    1792      \n",
      "_________________________________________________________________\n",
      "block1_conv2 (Conv2D)        (None, None, None, 64)    36928     \n",
      "_________________________________________________________________\n",
      "block1_pool (MaxPooling2D)   (None, None, None, 64)    0         \n",
      "_________________________________________________________________\n",
      "block2_conv1 (Conv2D)        (None, None, None, 128)   73856     \n",
      "_________________________________________________________________\n",
      "block2_conv2 (Conv2D)        (None, None, None, 128)   147584    \n",
      "_________________________________________________________________\n",
      "block2_pool (MaxPooling2D)   (None, None, None, 128)   0         \n",
      "_________________________________________________________________\n",
      "block3_conv1 (Conv2D)        (None, None, None, 256)   295168    \n",
      "_________________________________________________________________\n",
      "block3_conv2 (Conv2D)        (None, None, None, 256)   590080    \n",
      "_________________________________________________________________\n",
      "block3_conv3 (Conv2D)        (None, None, None, 256)   590080    \n",
      "_________________________________________________________________\n",
      "block3_pool (MaxPooling2D)   (None, None, None, 256)   0         \n",
      "_________________________________________________________________\n",
      "block4_conv1 (Conv2D)        (None, None, None, 512)   1180160   \n",
      "_________________________________________________________________\n",
      "block4_conv2 (Conv2D)        (None, None, None, 512)   2359808   \n",
      "_________________________________________________________________\n",
      "block4_conv3 (Conv2D)        (None, None, None, 512)   2359808   \n",
      "_________________________________________________________________\n",
      "block4_pool (MaxPooling2D)   (None, None, None, 512)   0         \n",
      "_________________________________________________________________\n",
      "block5_conv1 (Conv2D)        (None, None, None, 512)   2359808   \n",
      "_________________________________________________________________\n",
      "block5_conv2 (Conv2D)        (None, None, None, 512)   2359808   \n",
      "_________________________________________________________________\n",
      "block5_conv3 (Conv2D)        (None, None, None, 512)   2359808   \n",
      "_________________________________________________________________\n",
      "block5_pool (MaxPooling2D)   (None, None, None, 512)   0         \n",
      "_________________________________________________________________\n",
      "global_average_pooling2d_1 ( (None, 512)               0         \n",
      "_________________________________________________________________\n",
      "dense_1 (Dense)              (None, 512)               262656    \n",
      "_________________________________________________________________\n",
      "dense_2 (Dense)              (None, 256)               131328    \n",
      "_________________________________________________________________\n",
      "dense_3 (Dense)              (None, 1)                 257       \n",
      "=================================================================\n",
      "Total params: 15,108,929\n",
      "Trainable params: 394,241\n",
      "Non-trainable params: 14,714,688\n",
      "_________________________________________________________________\n"
     ]
    }
   ],
   "source": [
    "model.summary()"
   ]
  },
  {
   "cell_type": "code",
   "execution_count": 25,
   "metadata": {},
   "outputs": [
    {
     "name": "stdout",
     "output_type": "stream",
     "text": [
      "Train on 1849 samples, validate on 599 samples\n",
      "Epoch 1/150\n",
      "1849/1849 [==============================] - 83s 45ms/step - loss: 36.8493 - mean_squared_error: 36.8493 - val_loss: 46.3870 - val_mean_squared_error: 46.3870\n",
      "\n",
      "Epoch 00001: val_loss improved from inf to 46.38699, saving model to modelweights_Regression_carb_lag.hdf5\n",
      "Epoch 2/150\n",
      "1849/1849 [==============================] - 75s 41ms/step - loss: 4.9356 - mean_squared_error: 4.9356 - val_loss: 47.8997 - val_mean_squared_error: 47.8997\n",
      "\n",
      "Epoch 00002: val_loss did not improve from 46.38699\n",
      "Epoch 3/150\n",
      "1849/1849 [==============================] - 75s 41ms/step - loss: 2.4531 - mean_squared_error: 2.4531 - val_loss: 46.2402 - val_mean_squared_error: 46.2402\n",
      "\n",
      "Epoch 00003: val_loss improved from 46.38699 to 46.24015, saving model to modelweights_Regression_carb_lag.hdf5\n",
      "Epoch 4/150\n",
      "1849/1849 [==============================] - 75s 41ms/step - loss: 2.5554 - mean_squared_error: 2.5554 - val_loss: 40.1764 - val_mean_squared_error: 40.1764\n",
      "\n",
      "Epoch 00004: val_loss improved from 46.24015 to 40.17645, saving model to modelweights_Regression_carb_lag.hdf5\n",
      "Epoch 5/150\n",
      "1849/1849 [==============================] - 75s 41ms/step - loss: 1.6903 - mean_squared_error: 1.6903 - val_loss: 36.7393 - val_mean_squared_error: 36.7393\n",
      "\n",
      "Epoch 00005: val_loss improved from 40.17645 to 36.73932, saving model to modelweights_Regression_carb_lag.hdf5\n",
      "Epoch 6/150\n",
      "1849/1849 [==============================] - 75s 41ms/step - loss: 1.5291 - mean_squared_error: 1.5291 - val_loss: 43.8177 - val_mean_squared_error: 43.8177\n",
      "\n",
      "Epoch 00006: val_loss did not improve from 36.73932\n",
      "Epoch 7/150\n",
      "1849/1849 [==============================] - 75s 41ms/step - loss: 0.9666 - mean_squared_error: 0.9666 - val_loss: 35.7486 - val_mean_squared_error: 35.7486\n",
      "\n",
      "Epoch 00007: val_loss improved from 36.73932 to 35.74865, saving model to modelweights_Regression_carb_lag.hdf5\n",
      "Epoch 8/150\n",
      "1849/1849 [==============================] - 75s 41ms/step - loss: 1.3264 - mean_squared_error: 1.3264 - val_loss: 36.2823 - val_mean_squared_error: 36.2823\n",
      "\n",
      "Epoch 00008: val_loss did not improve from 35.74865\n",
      "Epoch 9/150\n",
      "1849/1849 [==============================] - 75s 41ms/step - loss: 1.6195 - mean_squared_error: 1.6195 - val_loss: 32.8411 - val_mean_squared_error: 32.8411\n",
      "\n",
      "Epoch 00009: val_loss improved from 35.74865 to 32.84106, saving model to modelweights_Regression_carb_lag.hdf5\n",
      "Epoch 10/150\n",
      "1849/1849 [==============================] - 75s 41ms/step - loss: 0.8771 - mean_squared_error: 0.8771 - val_loss: 37.2973 - val_mean_squared_error: 37.2973\n",
      "\n",
      "Epoch 00010: val_loss did not improve from 32.84106\n",
      "Epoch 11/150\n",
      "1849/1849 [==============================] - 75s 41ms/step - loss: 0.6636 - mean_squared_error: 0.6636 - val_loss: 32.8882 - val_mean_squared_error: 32.8882\n",
      "\n",
      "Epoch 00011: val_loss did not improve from 32.84106\n",
      "Epoch 12/150\n",
      "1849/1849 [==============================] - 75s 41ms/step - loss: 0.8655 - mean_squared_error: 0.8655 - val_loss: 36.0860 - val_mean_squared_error: 36.0860\n",
      "\n",
      "Epoch 00012: val_loss did not improve from 32.84106\n",
      "Epoch 13/150\n",
      "1849/1849 [==============================] - 75s 41ms/step - loss: 0.6941 - mean_squared_error: 0.6941 - val_loss: 28.6428 - val_mean_squared_error: 28.6428\n",
      "\n",
      "Epoch 00013: val_loss improved from 32.84106 to 28.64280, saving model to modelweights_Regression_carb_lag.hdf5\n",
      "Epoch 14/150\n",
      "1849/1849 [==============================] - 75s 41ms/step - loss: 0.5801 - mean_squared_error: 0.5801 - val_loss: 35.7557 - val_mean_squared_error: 35.7557\n",
      "\n",
      "Epoch 00014: val_loss did not improve from 28.64280\n",
      "Epoch 15/150\n",
      "1849/1849 [==============================] - 75s 41ms/step - loss: 0.6998 - mean_squared_error: 0.6998 - val_loss: 32.2440 - val_mean_squared_error: 32.2440\n",
      "\n",
      "Epoch 00015: val_loss did not improve from 28.64280\n",
      "Epoch 16/150\n",
      "1849/1849 [==============================] - 75s 41ms/step - loss: 2.1511 - mean_squared_error: 2.1511 - val_loss: 34.0786 - val_mean_squared_error: 34.0786\n",
      "\n",
      "Epoch 00016: val_loss did not improve from 28.64280\n",
      "Epoch 17/150\n",
      "1849/1849 [==============================] - 75s 41ms/step - loss: 2.0855 - mean_squared_error: 2.0855 - val_loss: 36.4448 - val_mean_squared_error: 36.4448\n",
      "\n",
      "Epoch 00017: val_loss did not improve from 28.64280\n",
      "Epoch 18/150\n",
      "1849/1849 [==============================] - 75s 41ms/step - loss: 0.7120 - mean_squared_error: 0.7120 - val_loss: 33.0926 - val_mean_squared_error: 33.0926\n",
      "\n",
      "Epoch 00018: val_loss did not improve from 28.64280\n",
      "Epoch 19/150\n",
      "1849/1849 [==============================] - 75s 41ms/step - loss: 1.3444 - mean_squared_error: 1.3444 - val_loss: 30.8763 - val_mean_squared_error: 30.8763\n",
      "\n",
      "Epoch 00019: val_loss did not improve from 28.64280\n",
      "Epoch 20/150\n",
      "1849/1849 [==============================] - 75s 41ms/step - loss: 0.9229 - mean_squared_error: 0.9229 - val_loss: 35.3233 - val_mean_squared_error: 35.3233\n",
      "\n",
      "Epoch 00020: val_loss did not improve from 28.64280\n",
      "Epoch 21/150\n",
      "1849/1849 [==============================] - 75s 41ms/step - loss: 1.0221 - mean_squared_error: 1.0221 - val_loss: 34.6709 - val_mean_squared_error: 34.6709\n",
      "\n",
      "Epoch 00021: val_loss did not improve from 28.64280\n",
      "Epoch 22/150\n",
      "1849/1849 [==============================] - 75s 41ms/step - loss: 0.7935 - mean_squared_error: 0.7935 - val_loss: 32.4726 - val_mean_squared_error: 32.4726\n",
      "\n",
      "Epoch 00022: val_loss did not improve from 28.64280\n",
      "Epoch 23/150\n",
      "1849/1849 [==============================] - 75s 41ms/step - loss: 0.6435 - mean_squared_error: 0.6435 - val_loss: 28.7749 - val_mean_squared_error: 28.7749\n",
      "\n",
      "Epoch 00023: val_loss did not improve from 28.64280\n",
      "Epoch 24/150\n",
      "1849/1849 [==============================] - 75s 41ms/step - loss: 0.7294 - mean_squared_error: 0.7294 - val_loss: 30.0342 - val_mean_squared_error: 30.0342\n",
      "\n",
      "Epoch 00024: val_loss did not improve from 28.64280\n",
      "Epoch 25/150\n",
      "1849/1849 [==============================] - 75s 41ms/step - loss: 0.4406 - mean_squared_error: 0.4406 - val_loss: 34.1387 - val_mean_squared_error: 34.1387\n",
      "\n",
      "Epoch 00025: val_loss did not improve from 28.64280\n",
      "Epoch 26/150\n",
      "1849/1849 [==============================] - 75s 41ms/step - loss: 0.3908 - mean_squared_error: 0.3908 - val_loss: 34.8184 - val_mean_squared_error: 34.8184\n",
      "\n",
      "Epoch 00026: val_loss did not improve from 28.64280\n",
      "Epoch 27/150\n",
      "1849/1849 [==============================] - 75s 41ms/step - loss: 0.3622 - mean_squared_error: 0.3622 - val_loss: 34.1853 - val_mean_squared_error: 34.1853\n",
      "\n",
      "Epoch 00027: val_loss did not improve from 28.64280\n",
      "Epoch 28/150\n",
      "1849/1849 [==============================] - 75s 41ms/step - loss: 0.4167 - mean_squared_error: 0.4167 - val_loss: 34.5876 - val_mean_squared_error: 34.5876\n",
      "\n",
      "Epoch 00028: val_loss did not improve from 28.64280\n",
      "Epoch 29/150\n",
      "1849/1849 [==============================] - 75s 41ms/step - loss: 0.2525 - mean_squared_error: 0.2525 - val_loss: 32.3312 - val_mean_squared_error: 32.3312\n",
      "\n",
      "Epoch 00029: val_loss did not improve from 28.64280\n",
      "Epoch 30/150\n",
      "1849/1849 [==============================] - 75s 41ms/step - loss: 0.4051 - mean_squared_error: 0.4051 - val_loss: 29.7757 - val_mean_squared_error: 29.7757\n",
      "\n",
      "Epoch 00030: val_loss did not improve from 28.64280\n",
      "Epoch 31/150\n",
      "1849/1849 [==============================] - 75s 41ms/step - loss: 0.5612 - mean_squared_error: 0.5612 - val_loss: 35.7508 - val_mean_squared_error: 35.7508\n",
      "\n",
      "Epoch 00031: val_loss did not improve from 28.64280\n",
      "Epoch 32/150\n",
      "1849/1849 [==============================] - 75s 41ms/step - loss: 0.8609 - mean_squared_error: 0.8609 - val_loss: 31.6144 - val_mean_squared_error: 31.6144\n",
      "\n",
      "Epoch 00032: val_loss did not improve from 28.64280\n",
      "Epoch 33/150\n",
      "1849/1849 [==============================] - 75s 41ms/step - loss: 0.5947 - mean_squared_error: 0.5947 - val_loss: 33.9905 - val_mean_squared_error: 33.9905\n",
      "\n",
      "Epoch 00033: val_loss did not improve from 28.64280\n",
      "Epoch 34/150\n",
      "1849/1849 [==============================] - 75s 41ms/step - loss: 1.0412 - mean_squared_error: 1.0412 - val_loss: 33.0410 - val_mean_squared_error: 33.0410\n",
      "\n",
      "Epoch 00034: val_loss did not improve from 28.64280\n",
      "Epoch 35/150\n",
      "1849/1849 [==============================] - 75s 41ms/step - loss: 0.6799 - mean_squared_error: 0.6799 - val_loss: 33.6185 - val_mean_squared_error: 33.6185\n"
     ]
    },
    {
     "name": "stdout",
     "output_type": "stream",
     "text": [
      "\n",
      "Epoch 00035: val_loss did not improve from 28.64280\n",
      "Epoch 36/150\n",
      "1849/1849 [==============================] - 75s 41ms/step - loss: 1.2561 - mean_squared_error: 1.2561 - val_loss: 31.4272 - val_mean_squared_error: 31.4272\n",
      "\n",
      "Epoch 00036: val_loss did not improve from 28.64280\n",
      "Epoch 37/150\n",
      "1849/1849 [==============================] - 75s 41ms/step - loss: 0.9176 - mean_squared_error: 0.9176 - val_loss: 37.2615 - val_mean_squared_error: 37.2615\n",
      "\n",
      "Epoch 00037: val_loss did not improve from 28.64280\n",
      "Epoch 38/150\n",
      "1849/1849 [==============================] - 75s 41ms/step - loss: 0.4757 - mean_squared_error: 0.4757 - val_loss: 38.2726 - val_mean_squared_error: 38.2726\n",
      "\n",
      "Epoch 00038: val_loss did not improve from 28.64280\n",
      "Epoch 39/150\n",
      "1849/1849 [==============================] - 75s 41ms/step - loss: 0.2711 - mean_squared_error: 0.2711 - val_loss: 29.3190 - val_mean_squared_error: 29.3190\n",
      "\n",
      "Epoch 00039: val_loss did not improve from 28.64280\n",
      "Epoch 40/150\n",
      "1849/1849 [==============================] - 75s 41ms/step - loss: 0.3637 - mean_squared_error: 0.3637 - val_loss: 34.9811 - val_mean_squared_error: 34.9811\n",
      "\n",
      "Epoch 00040: val_loss did not improve from 28.64280\n",
      "Epoch 41/150\n",
      "1849/1849 [==============================] - 75s 41ms/step - loss: 0.2540 - mean_squared_error: 0.2540 - val_loss: 35.7681 - val_mean_squared_error: 35.7681\n",
      "\n",
      "Epoch 00041: val_loss did not improve from 28.64280\n",
      "Epoch 42/150\n",
      "1849/1849 [==============================] - 75s 41ms/step - loss: 0.6463 - mean_squared_error: 0.6463 - val_loss: 37.5820 - val_mean_squared_error: 37.5820\n",
      "\n",
      "Epoch 00042: val_loss did not improve from 28.64280\n",
      "Epoch 43/150\n",
      "1849/1849 [==============================] - 75s 41ms/step - loss: 0.9348 - mean_squared_error: 0.9348 - val_loss: 32.3199 - val_mean_squared_error: 32.3199\n",
      "\n",
      "Epoch 00043: val_loss did not improve from 28.64280\n",
      "Epoch 00043: early stopping\n"
     ]
    }
   ],
   "source": [
    "#fitting the model\n",
    "history =model.fit(X_Train,Y_Train,epochs=150,batch_size=16,validation_data=(X_Valid,Y_Valid),callbacks=callbacks)"
   ]
  },
  {
   "cell_type": "code",
   "execution_count": 26,
   "metadata": {
    "collapsed": true
   },
   "outputs": [],
   "source": [
    "# Reload Best Model for further usage....\n",
    "model.load_weights('modelweights_Regression_carb_lag.hdf5')"
   ]
  },
  {
   "cell_type": "code",
   "execution_count": 27,
   "metadata": {},
   "outputs": [
    {
     "data": {
      "image/png": "[encoded data removed]",
      "text/plain": [
       "<matplotlib.figure.Figure at 0x1f9ee0fe048>"
      ]
     },
     "metadata": {},
     "output_type": "display_data"
    }
   ],
   "source": [
    "# Plot Charts\n",
    "plot_chart_to_file(earlystop.stopped_epoch - patience, earlystop.best)"
   ]
  },
  {
   "cell_type": "code",
   "execution_count": 28,
   "metadata": {},
   "outputs": [
    {
     "name": "stdout",
     "output_type": "stream",
     "text": [
      "mean_squared_error 0.694854802509\n"
     ]
    }
   ],
   "source": [
    "scores_Train = model.evaluate(X_Train, Y_Train, verbose=0)\n",
    "print(model.metrics_names[1], scores_Train[1])"
   ]
  },
  {
   "cell_type": "code",
   "execution_count": 29,
   "metadata": {},
   "outputs": [
    {
     "name": "stdout",
     "output_type": "stream",
     "text": [
      "mean_squared_error 28.642791224\n"
     ]
    }
   ],
   "source": [
    "scores_Valid = model.evaluate(X_Valid,Y_Valid, verbose=0)\n",
    "print(model.metrics_names[1], scores_Valid[1])"
   ]
  },
  {
   "cell_type": "code",
   "execution_count": 30,
   "metadata": {},
   "outputs": [
    {
     "name": "stdout",
     "output_type": "stream",
     "text": [
      "mean_squared_error 161.727614962\n"
     ]
    }
   ],
   "source": [
    "scores = model.evaluate(X_Test, Y_Test, verbose=0)\n",
    "print(model.metrics_names[1], scores[1])"
   ]
  },
  {
   "cell_type": "code",
   "execution_count": null,
   "metadata": {
    "collapsed": true
   },
   "outputs": [],
   "source": [
    "history.history"
   ]
  },
  {
   "cell_type": "code",
   "execution_count": null,
   "metadata": {
    "collapsed": true
   },
   "outputs": [],
   "source": []
  }
 ],
 "metadata": {
  "kernelspec": {
   "display_name": "Python 3",
   "language": "python",
   "name": "python3"
  },
  "language_info": {
   "codemirror_mode": {
    "name": "ipython",
    "version": 3
   },
   "file_extension": ".py",
   "mimetype": "text/x-python",
   "name": "python",
   "nbconvert_exporter": "python",
   "pygments_lexer": "ipython3",
   "version": "3.6.6"
  }
 },
 "nbformat": 4,
 "nbformat_minor": 2
}
