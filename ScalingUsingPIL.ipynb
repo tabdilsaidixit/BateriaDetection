{
 "cells": [
  {
   "cell_type": "code",
   "execution_count": 1,
   "metadata": {
    "collapsed": true
   },
   "outputs": [],
   "source": [
    "from PIL import Image\n",
    "import os, sys\n",
    "Image.MAX_IMAGE_PIXELS = None #PIL is merely trying to protect you. \n",
    "#It'll not open larger images, as that could be a vector of attack for a malicious user to give you a large image that'll \n",
    "#expand to use up all memory."
   ]
  },
  {
   "cell_type": "code",
   "execution_count": 44,
   "metadata": {
    "collapsed": true
   },
   "outputs": [],
   "source": [
    "input_dir ='D:\\\\Data\\\\PIL_3dayLBCR-training\\\\'\n",
    "output_dir ='D:\\\\Data\\\\PIL_3dayLBCR-training_Resized\\\\'"
   ]
  },
  {
   "cell_type": "code",
   "execution_count": 45,
   "metadata": {
    "collapsed": true
   },
   "outputs": [],
   "source": [
    "for image_file_name in os.listdir(input_dir):\n",
    "    if image_file_name.endswith(\".jpg\"):\n",
    "        im = Image.open(input_dir+image_file_name)\n",
    "        new_width  = 224\n",
    "        new_height = 224\n",
    "        im = im.resize((new_width, new_height), Image.ANTIALIAS)\n",
    "        im.save(output_dir+image_file_name)"
   ]
  },
  {
   "cell_type": "code",
   "execution_count": null,
   "metadata": {
    "collapsed": true
   },
   "outputs": [],
   "source": [
    "os.listdir(\"path\")"
   ]
  }
 ],
 "metadata": {
  "kernelspec": {
   "display_name": "Python 3",
   "language": "python",
   "name": "python3"
  },
  "language_info": {
   "codemirror_mode": {
    "name": "ipython",
    "version": 3
   },
   "file_extension": ".py",
   "mimetype": "text/x-python",
   "name": "python",
   "nbconvert_exporter": "python",
   "pygments_lexer": "ipython3",
   "version": "3.6.3"
  }
 },
 "nbformat": 4,
 "nbformat_minor": 2
}
