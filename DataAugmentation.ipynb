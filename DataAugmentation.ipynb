{
 "cells": [
  {
   "cell_type": "code",
   "execution_count": null,
   "metadata": {
    "collapsed": true
   },
   "outputs": [],
   "source": [
    "from PIL import Image\n",
    "import numpy as np\n",
    "import matplotlib.pyplot as plt\n",
    "import tensorflow as tf\n",
    "import os\n",
    "import random\n"
   ]
  },
  {
   "cell_type": "code",
   "execution_count": null,
   "metadata": {
    "collapsed": true
   },
   "outputs": [],
   "source": [
    "Image.MAX_IMAGE_PIXELS = None"
   ]
  },
  {
   "cell_type": "code",
   "execution_count": null,
   "metadata": {
    "collapsed": true
   },
   "outputs": [],
   "source": [
    "from keras.preprocessing.image import ImageDataGenerator, array_to_img, img_to_array, load_img"
   ]
  },
  {
   "cell_type": "code",
   "execution_count": null,
   "metadata": {
    "collapsed": true
   },
   "outputs": [],
   "source": [
    "datagen = ImageDataGenerator(\n",
    "    rotation_range=40,\n",
    "    width_shift_range=0.10,\n",
    "    height_shift_range=0.10,\n",
    "    horizontal_flip=True,\n",
    "        fill_mode='nearest')"
   ]
  },
  {
   "cell_type": "code",
   "execution_count": null,
   "metadata": {
    "collapsed": true
   },
   "outputs": [],
   "source": [
    "num_files_desired = 1850\n",
    "Train_dir ='D:\\\\Data\\\\DataAugmentation\\\\TrainingData\\\\TrainData\\\\'\n",
    "Trainoutput_dir ='D:\\\\Data\\\\DataAugmentation\\\\TrainingData\\\\TrainData_Augmentation\\\\'\n",
    "# find all files paths from the folder\n",
    "images = [os.path.join(Train_dir, f) for f in os.listdir(Train_dir) if os.path.isfile(os.path.join(Train_dir, f))]\n",
    "print(Train_dir)\n",
    "print(Trainoutput_dir)\n",
    "print(num_files_desired)\n",
    "num_generated_files = 0\n",
    "while num_generated_files < num_files_desired:\n",
    "    # random image from the folder\n",
    "    image_path = random.choice(images)\n",
    "    img = load_img(image_path)\n",
    "    f=os.path.splitext(os.path.basename(image_path))\n",
    "    #print(f)\n",
    "    x = img_to_array(img)  \n",
    "    x = x.reshape((1,) + x.shape)  \n",
    "    i = 0\n",
    "    for batch in datagen.flow(x, batch_size=1,\n",
    "                          save_to_dir=Trainoutput_dir,save_prefix=f, save_format='jpeg'):\n",
    "            i += 1\n",
    "            if i > 0:\n",
    "                break  # otherwise the generator would loop indefinitely\n",
    "    num_generated_files+=1"
   ]
  },
  {
   "cell_type": "code",
   "execution_count": null,
   "metadata": {
    "collapsed": true
   },
   "outputs": [],
   "source": [
    "num_files_desired = 600\n",
    "Train_dir ='D:\\\\Data\\\\DataAugmentation\\\\TrainingData\\\\ValidationData\\\\'\n",
    "Trainoutput_dir ='D:\\\\Data\\\\DataAugmentation\\\\TrainingData\\\\ValidationData_Augmentation\\\\'\n",
    "# find all files paths from the folder\n",
    "images = [os.path.join(Train_dir, f) for f in os.listdir(Train_dir) if os.path.isfile(os.path.join(Train_dir, f))]\n",
    "print(Train_dir)\n",
    "print(Trainoutput_dir)\n",
    "print(num_files_desired)\n",
    "num_generated_files = 0\n",
    "while num_generated_files < num_files_desired:\n",
    "    # random image from the folder\n",
    "    image_path = random.choice(images)\n",
    "    img = load_img(image_path)\n",
    "    f=os.path.splitext(os.path.basename(image_path))\n",
    "    #print(f)\n",
    "    x = img_to_array(img)  \n",
    "    x = x.reshape((1,) + x.shape)  \n",
    "    i = 0\n",
    "    for batch in datagen.flow(x, batch_size=1,\n",
    "                          save_to_dir=Trainoutput_dir,save_prefix=f, save_format='jpeg'):\n",
    "            i += 1\n",
    "            if i > 0:\n",
    "                break  # otherwise the generator would loop indefinitely\n",
    "    num_generated_files+=1"
   ]
  },
  {
   "cell_type": "code",
   "execution_count": null,
   "metadata": {
    "collapsed": true
   },
   "outputs": [],
   "source": [
    "num_files_desired = 600\n",
    "Train_dir ='D:\\\\Data\\\\DataAugmentation\\\\TestData\\\\TestingData\\\\'\n",
    "Trainoutput_dir ='D:\\\\Data\\\\DataAugmentation\\\\TestData\\\\TestingData_Augmentation\\\\'\n",
    "# find all files paths from the folder\n",
    "images = [os.path.join(Train_dir, f) for f in os.listdir(Train_dir) if os.path.isfile(os.path.join(Train_dir, f))]\n",
    "print(Train_dir)\n",
    "print(Trainoutput_dir)\n",
    "print(num_files_desired)\n",
    "num_generated_files = 0\n",
    "while num_generated_files < num_files_desired:\n",
    "    # random image from the folder\n",
    "    image_path = random.choice(images)\n",
    "    img = load_img(image_path)\n",
    "    f=os.path.splitext(os.path.basename(image_path))\n",
    "    #print(f)\n",
    "    x = img_to_array(img)  \n",
    "    x = x.reshape((1,) + x.shape)  \n",
    "    i = 0\n",
    "    for batch in datagen.flow(x, batch_size=1,\n",
    "                          save_to_dir=Trainoutput_dir,save_prefix=f, save_format='jpeg'):\n",
    "            i += 1\n",
    "            if i > 0:\n",
    "                break  # otherwise the generator would loop indefinitely\n",
    "    num_generated_files+=1"
   ]
  }
 ],
 "metadata": {
  "kernelspec": {
   "display_name": "Python 3",
   "language": "python",
   "name": "python3"
  },
  "language_info": {
   "codemirror_mode": {
    "name": "ipython",
    "version": 3
   },
   "file_extension": ".py",
   "mimetype": "text/x-python",
   "name": "python",
   "nbconvert_exporter": "python",
   "pygments_lexer": "ipython3",
   "version": "3.6.3"
  }
 },
 "nbformat": 4,
 "nbformat_minor": 2
}
