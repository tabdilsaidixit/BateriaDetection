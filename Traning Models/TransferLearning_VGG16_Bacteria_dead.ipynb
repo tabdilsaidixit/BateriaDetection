{
 "cells": [
  {
   "cell_type": "code",
   "execution_count": 1,
   "metadata": {},
   "outputs": [
    {
     "name": "stderr",
     "output_type": "stream",
     "text": [
      "Using TensorFlow backend.\n"
     ]
    }
   ],
   "source": [
    "import numpy as np\n",
    "import os\n",
    "import PIL\n",
    "from PIL import Image\n",
    "import matplotlib.pyplot as plt\n",
    "import pandas as pd\n",
    "\n",
    "from sklearn.model_selection import train_test_split\n",
    "from keras.models import Model\n",
    "from keras.layers import Flatten, Dense, Dropout\n",
    "from keras.layers import Convolution2D, MaxPooling2D\n",
    "from keras.layers import BatchNormalization, GlobalAveragePooling2D\n",
    "from keras.utils import to_categorical\n",
    "from keras.optimizers import Adam\n",
    "from keras.callbacks import EarlyStopping, ModelCheckpoint\n",
    "from sklearn.utils import shuffle\n",
    "from openpyxl import load_workbook\n",
    "from keras.applications.vgg16 import preprocess_input\n",
    "from keras.preprocessing.image import load_img\n",
    "from keras.preprocessing.image import img_to_array"
   ]
  },
  {
   "cell_type": "code",
   "execution_count": 2,
   "metadata": {
    "collapsed": true
   },
   "outputs": [],
   "source": [
    "size = 224\n",
    "def read_image(f):\n",
    "    image = load_img(f, target_size=(224, 224))\n",
    "    # convert the image pixels to a numpy array\n",
    "    image = img_to_array(image)\n",
    "    image = preprocess_input(image)    \n",
    "    return(image)"
   ]
  },
  {
   "cell_type": "code",
   "execution_count": 3,
   "metadata": {
    "collapsed": true
   },
   "outputs": [],
   "source": [
    "size = 224\n",
    "traindata_folderPath = 'D:\\\\Data\\\\DataAugmentation\\\\TrainingData\\\\TrainData_Augmentation\\\\'\n",
    "validdata_folderPath = 'D:\\\\Data\\\\DataAugmentation\\\\TrainingData\\\\ValidationData_Augmentation\\\\'\n",
    "testdata_folderpath='D:\\\\Data\\\\DataAugmentation\\\\TestData\\\\TestingData_Augmentation\\\\'\n",
    "columnName = 'dead'\n",
    "excelFileName = \"D://Data//Perron_phenotype-GSU-training.xlsx\"\n",
    "sheetName = 'Total Database'\n",
    "imgPat = 'PIL-55a_3dayLBCR-3'"
   ]
  },
  {
   "cell_type": "code",
   "execution_count": 4,
   "metadata": {
    "collapsed": true
   },
   "outputs": [],
   "source": [
    "train_filelist= [file for file in os.listdir(traindata_folderPath) if file.endswith('.jpeg')]\n",
    "valid_filelist= [file for file in os.listdir(validdata_folderPath) if file.endswith('.jpeg')]\n",
    "test_filelist= [file for file in os.listdir(testdata_folderpath) if file.endswith('.jpeg')]"
   ]
  },
  {
   "cell_type": "code",
   "execution_count": 5,
   "metadata": {},
   "outputs": [
    {
     "name": "stdout",
     "output_type": "stream",
     "text": [
      "Total number of files in directory: 1849\n",
      "Total number of files in directory: 599\n",
      "Total number of files in directory: 600\n"
     ]
    }
   ],
   "source": [
    "n_files = len(train_filelist)\n",
    "print('Total number of files in directory:', n_files)\n",
    "n_files = len(valid_filelist)\n",
    "print('Total number of files in directory:', n_files)\n",
    "n_files = len(test_filelist)\n",
    "print('Total number of files in directory:', n_files)"
   ]
  },
  {
   "cell_type": "code",
   "execution_count": 6,
   "metadata": {
    "collapsed": true
   },
   "outputs": [],
   "source": [
    "wb = load_workbook(excelFileName)"
   ]
  },
  {
   "cell_type": "code",
   "execution_count": 7,
   "metadata": {
    "collapsed": true
   },
   "outputs": [],
   "source": [
    "sheet = wb[sheetName]"
   ]
  },
  {
   "cell_type": "code",
   "execution_count": 8,
   "metadata": {
    "collapsed": true
   },
   "outputs": [],
   "source": [
    "def getColumnNumber(columnName, sheet):\n",
    "    reqColNum = -1\n",
    "    maxColNumber = sheet.max_column + 1\n",
    "    for x in range(1, maxColNumber):\n",
    "        cellValue = sheet.cell(row=1, column=x).value\n",
    "        if(cellValue == columnName):\n",
    "                reqColNum = x\n",
    "                break\n",
    "    return(reqColNum)"
   ]
  },
  {
   "cell_type": "code",
   "execution_count": 9,
   "metadata": {
    "collapsed": true
   },
   "outputs": [],
   "source": [
    "import re\n",
    "def getStrainNumber(imageName):\n",
    "    strt = imageName.find('-')\n",
    "    end = imageName.find('_')\n",
    "    imgNam = imageName[strt+1:end]\n",
    "    \n",
    "    imgNam = re.sub(r'[a-z]', '', imgNam)\n",
    "    return(imgNam)"
   ]
  },
  {
   "cell_type": "code",
   "execution_count": 10,
   "metadata": {
    "collapsed": true
   },
   "outputs": [],
   "source": [
    "def getRowNumber(strainNumber, sheet, columnNumber):\n",
    "    \n",
    "    reqRowNum = -1\n",
    "    maxRowNumber = sheet.max_row + 1\n",
    "    strainNumbr = float(strainNumber)\n",
    "    \n",
    "    for x in range(1, maxRowNumber):\n",
    "        cellVal = sheet.cell(row=x, column=columnNumber).value\n",
    "        try:\n",
    "            cellValue = float(cellVal)            \n",
    "            if(cellValue == strainNumbr):\n",
    "                reqRowNum = x\n",
    "                break\n",
    "        except ValueError:\n",
    "            continue\n",
    "    return(reqRowNum) "
   ]
  },
  {
   "cell_type": "code",
   "execution_count": 11,
   "metadata": {
    "collapsed": true
   },
   "outputs": [],
   "source": [
    "colNumber = getColumnNumber(columnName, sheet)"
   ]
  },
  {
   "cell_type": "code",
   "execution_count": 12,
   "metadata": {
    "collapsed": true
   },
   "outputs": [],
   "source": [
    "strainColumnNumber = getColumnNumber('strain', sheet)"
   ]
  },
  {
   "cell_type": "code",
   "execution_count": 13,
   "metadata": {},
   "outputs": [
    {
     "name": "stdout",
     "output_type": "stream",
     "text": [
      "Reading train images ...\n"
     ]
    }
   ],
   "source": [
    "X_Train = []\n",
    "Y_Train = []\n",
    "print('Reading train images ...')\n",
    "for file in train_filelist:\n",
    "    imagepath = os.path.join(traindata_folderPath, file)\n",
    "    im = read_image(imagepath)\n",
    "    #print(im.shape)\n",
    "    req_ColNumber = colNumber\n",
    "    req_rowNumber = getRowNumber(getStrainNumber(file),sheet,strainColumnNumber)\n",
    "    try:\n",
    "        if(req_rowNumber>0 and req_ColNumber>0):\n",
    "            req_CellValue = sheet.cell(row=req_rowNumber, column=req_ColNumber).value\n",
    "            X_Train.append(im)\n",
    "            Y_Train.append(req_CellValue)\n",
    "    except:\n",
    "        print(\"Error\")\n",
    "        print(imagepath)\n",
    "        print(getStrainNumber(file))\n",
    "        print(req_ColNumber)\n",
    "        print(req_rowNumber)\n",
    "        print(req_CellValue)\n",
    "        print(\"Error\")\n",
    "        continue"
   ]
  },
  {
   "cell_type": "code",
   "execution_count": 14,
   "metadata": {},
   "outputs": [
    {
     "name": "stdout",
     "output_type": "stream",
     "text": [
      "Reading train images ...\n"
     ]
    }
   ],
   "source": [
    "X_Valid = []\n",
    "Y_Valid = []\n",
    "print('Reading train images ...')\n",
    "for file in valid_filelist:\n",
    "    imagepath = os.path.join(validdata_folderPath, file)\n",
    "    im = read_image(imagepath)\n",
    "    req_ColNumber = colNumber\n",
    "    req_rowNumber = getRowNumber(getStrainNumber(file),sheet,strainColumnNumber)\n",
    "    try:\n",
    "        if(req_rowNumber>0 and req_ColNumber>0):\n",
    "            req_CellValue = sheet.cell(row=req_rowNumber, column=req_ColNumber).value\n",
    "            X_Valid.append(im)\n",
    "            Y_Valid.append(req_CellValue)\n",
    "    except:\n",
    "        print(\"Error\")\n",
    "        print(imagepath)\n",
    "        print(getStrainNumber(file))\n",
    "        print(req_ColNumber)\n",
    "        print(req_rowNumber)\n",
    "        print(req_CellValue)\n",
    "        print(\"Error\")\n",
    "        continue"
   ]
  },
  {
   "cell_type": "code",
   "execution_count": 15,
   "metadata": {},
   "outputs": [
    {
     "name": "stdout",
     "output_type": "stream",
     "text": [
      "Reading train images ...\n"
     ]
    }
   ],
   "source": [
    "X_Test = []\n",
    "Y_Test = []\n",
    "print('Reading train images ...')\n",
    "for file in test_filelist:\n",
    "    imagepath = os.path.join(testdata_folderpath, file)\n",
    "    im = read_image(imagepath)\n",
    "    req_ColNumber = colNumber\n",
    "    req_rowNumber = getRowNumber(getStrainNumber(file),sheet,strainColumnNumber)\n",
    "    try:\n",
    "        if(req_rowNumber>0 and req_ColNumber>0):\n",
    "            req_CellValue = sheet.cell(row=req_rowNumber, column=req_ColNumber).value\n",
    "            X_Test.append(im)\n",
    "            Y_Test.append(req_CellValue)\n",
    "    except:\n",
    "        print(\"Error\")\n",
    "        print(imagepath)\n",
    "        print(getStrainNumber(file))\n",
    "        print(req_ColNumber)\n",
    "        print(req_rowNumber)\n",
    "        print(req_CellValue)\n",
    "        print(\"Error\")\n",
    "        continue"
   ]
  },
  {
   "cell_type": "code",
   "execution_count": 17,
   "metadata": {},
   "outputs": [
    {
     "name": "stdout",
     "output_type": "stream",
     "text": [
      "(1849, 224, 224, 3) X_Train Shape\n",
      "(1849, 1) Y_Train Shape\n",
      "(599, 224, 224, 3) X_Valid Shape\n",
      "(599, 1) Y_Valid Shape\n",
      "(600, 224, 224, 3) X_Test Shape\n",
      "(600, 1) Y_Test Shape\n"
     ]
    }
   ],
   "source": [
    "X_Train = np.array(X_Train)\n",
    "print(X_Train.shape, 'X_Train Shape')\n",
    "\n",
    "Y_Train = np.array(Y_Train).reshape(-1,1)\n",
    "print(Y_Train.shape, 'Y_Train Shape')\n",
    "\n",
    "X_Valid = np.array(X_Valid)\n",
    "print(X_Valid.shape, 'X_Valid Shape')\n",
    "\n",
    "Y_Valid = np.array(Y_Valid).reshape(-1,1)\n",
    "print(Y_Valid.shape, 'Y_Valid Shape')\n",
    "\n",
    "X_Test = np.array(X_Test)\n",
    "print(X_Test.shape, 'X_Test Shape')\n",
    "\n",
    "Y_Test = np.array(Y_Test).reshape(-1,1)\n",
    "print(Y_Test.shape, 'Y_Test Shape')"
   ]
  },
  {
   "cell_type": "code",
   "execution_count": 25,
   "metadata": {
    "collapsed": true
   },
   "outputs": [],
   "source": [
    "# Store Model metrics\n",
    "history = {}"
   ]
  },
  {
   "cell_type": "code",
   "execution_count": 26,
   "metadata": {
    "collapsed": true
   },
   "outputs": [],
   "source": [
    "# Plot Chart\n",
    "def plot_chart_to_file(best_epoch, best_value):\n",
    "\n",
    "    # Plot Chart\n",
    "    fig = plt.figure(dpi=300)\n",
    "\n",
    "    # Subplot for Loss\n",
    "    ax1 = fig.add_subplot(111)    \n",
    "    ax1.plot(history.history['mean_squared_error'], color='b', \n",
    "    label='TrainMSE')\n",
    "    ax1.plot(history.history['val_mean_squared_error'], color='g', \n",
    "    label='validationMSE')\n",
    "    ax1.set_xlabel('Epoch')\n",
    "    ax1.set_ylabel('MSE')\n",
    "    ax1.legend(loc='lower left', bbox_to_anchor=(0, -0.30))\n",
    "    #ax2 = ax1.twinx()\n",
    "    #ax2.plot(history.history['mean_squared_error'], color='y', \n",
    "    #label='TrainMSE Loss')\n",
    "    #ax2.plot(history.history['val_mean_squared_error'], color='c', \n",
    "    #label='validationMSE Loss')\n",
    "    ax1.plot(best_epoch, best_value, 'r+', label='Best Model')\n",
    "    #ax2.set_ylabel('Loss')   \n",
    "    #ax2.legend(loc='lower right', bbox_to_anchor=(1, -0.30))\n",
    "    # Set Title\n",
    "    plt.title('Model - Best Epoch (' + str(best_epoch) + ')')\n",
    "    plt.show()\n",
    "    # .. and save..\n",
    "    plt.savefig('Blog3_Model_Chart_Regression_MSE_dead.png', \n",
    "    bbox_inches=\"tight\")   "
   ]
  },
  {
   "cell_type": "code",
   "execution_count": 27,
   "metadata": {
    "collapsed": true
   },
   "outputs": [],
   "source": [
    "\n",
    "# Get VGG16 architecture from keras.applications\n",
    "from keras.applications.vgg16 import VGG16,decode_predictions\n",
    "\n",
    "# downloading weights and convolution layers from vgg16\n",
    "trained_model= VGG16(include_top=False,weights='imagenet')\n",
    "# print(trained_model.summary())\n",
    "\n",
    "# defining mlp that needs to be appended to vgg16 convolution layers\n",
    "x = trained_model.output\n",
    "x = GlobalAveragePooling2D()(x)\n",
    "x = Dense(512,activation='relu')(x)\n",
    "x = Dense(256,activation='relu')(x)\n",
    "output = Dense(1,activation='linear')(x)\n",
    "\n",
    "model= Model(inputs=trained_model.input,outputs=output)\n"
   ]
  },
  {
   "cell_type": "code",
   "execution_count": 28,
   "metadata": {
    "collapsed": true
   },
   "outputs": [],
   "source": [
    "for layer in trained_model.layers:\n",
    "    layer.trainable=False"
   ]
  },
  {
   "cell_type": "code",
   "execution_count": 29,
   "metadata": {},
   "outputs": [
    {
     "name": "stdout",
     "output_type": "stream",
     "text": [
      "input_1 False\n",
      "block1_conv1 False\n",
      "block1_conv2 False\n",
      "block1_pool False\n",
      "block2_conv1 False\n",
      "block2_conv2 False\n",
      "block2_pool False\n",
      "block3_conv1 False\n",
      "block3_conv2 False\n",
      "block3_conv3 False\n",
      "block3_pool False\n",
      "block4_conv1 False\n",
      "block4_conv2 False\n",
      "block4_conv3 False\n",
      "block4_pool False\n",
      "block5_conv1 False\n",
      "block5_conv2 False\n",
      "block5_conv3 False\n",
      "block5_pool False\n"
     ]
    }
   ],
   "source": [
    "for layer in trained_model.layers:\n",
    "    print(layer.name,layer.trainable)"
   ]
  },
  {
   "cell_type": "code",
   "execution_count": 30,
   "metadata": {},
   "outputs": [
    {
     "name": "stdout",
     "output_type": "stream",
     "text": [
      "_________________________________________________________________\n",
      "Layer (type)                 Output Shape              Param #   \n",
      "=================================================================\n",
      "input_1 (InputLayer)         (None, None, None, 3)     0         \n",
      "_________________________________________________________________\n",
      "block1_conv1 (Conv2D)        (None, None, None, 64)    1792      \n",
      "_________________________________________________________________\n",
      "block1_conv2 (Conv2D)        (None, None, None, 64)    36928     \n",
      "_________________________________________________________________\n",
      "block1_pool (MaxPooling2D)   (None, None, None, 64)    0         \n",
      "_________________________________________________________________\n",
      "block2_conv1 (Conv2D)        (None, None, None, 128)   73856     \n",
      "_________________________________________________________________\n",
      "block2_conv2 (Conv2D)        (None, None, None, 128)   147584    \n",
      "_________________________________________________________________\n",
      "block2_pool (MaxPooling2D)   (None, None, None, 128)   0         \n",
      "_________________________________________________________________\n",
      "block3_conv1 (Conv2D)        (None, None, None, 256)   295168    \n",
      "_________________________________________________________________\n",
      "block3_conv2 (Conv2D)        (None, None, None, 256)   590080    \n",
      "_________________________________________________________________\n",
      "block3_conv3 (Conv2D)        (None, None, None, 256)   590080    \n",
      "_________________________________________________________________\n",
      "block3_pool (MaxPooling2D)   (None, None, None, 256)   0         \n",
      "_________________________________________________________________\n",
      "block4_conv1 (Conv2D)        (None, None, None, 512)   1180160   \n",
      "_________________________________________________________________\n",
      "block4_conv2 (Conv2D)        (None, None, None, 512)   2359808   \n",
      "_________________________________________________________________\n",
      "block4_conv3 (Conv2D)        (None, None, None, 512)   2359808   \n",
      "_________________________________________________________________\n",
      "block4_pool (MaxPooling2D)   (None, None, None, 512)   0         \n",
      "_________________________________________________________________\n",
      "block5_conv1 (Conv2D)        (None, None, None, 512)   2359808   \n",
      "_________________________________________________________________\n",
      "block5_conv2 (Conv2D)        (None, None, None, 512)   2359808   \n",
      "_________________________________________________________________\n",
      "block5_conv3 (Conv2D)        (None, None, None, 512)   2359808   \n",
      "_________________________________________________________________\n",
      "block5_pool (MaxPooling2D)   (None, None, None, 512)   0         \n",
      "_________________________________________________________________\n",
      "global_average_pooling2d_1 ( (None, 512)               0         \n",
      "_________________________________________________________________\n",
      "dense_1 (Dense)              (None, 512)               262656    \n",
      "_________________________________________________________________\n",
      "dense_2 (Dense)              (None, 256)               131328    \n",
      "_________________________________________________________________\n",
      "dense_3 (Dense)              (None, 1)                 257       \n",
      "=================================================================\n",
      "Total params: 15,108,929\n",
      "Trainable params: 394,241\n",
      "Non-trainable params: 14,714,688\n",
      "_________________________________________________________________\n"
     ]
    }
   ],
   "source": [
    "model.summary()"
   ]
  },
  {
   "cell_type": "code",
   "execution_count": 31,
   "metadata": {
    "collapsed": true
   },
   "outputs": [],
   "source": [
    "#compiling the model\n",
    "adam = Adam(lr=0.001)\n",
    "model.compile(loss='mean_squared_error',metrics=['MSE'],optimizer=adam)\n",
    "patience = 30\n",
    "earlystop = EarlyStopping(monitor=\"val_loss\",min_delta=0,mode=\"min\",patience=patience,verbose=1)\n",
    "checkpoint = ModelCheckpoint('modelweights_Regression_dead.hdf5', \n",
    "                              monitor='val_loss', \n",
    "                              verbose=1, \n",
    "                              save_best_only=True, \n",
    "                              mode='min')\n",
    "callbacks = [checkpoint,earlystop]"
   ]
  },
  {
   "cell_type": "code",
   "execution_count": 32,
   "metadata": {},
   "outputs": [
    {
     "name": "stdout",
     "output_type": "stream",
     "text": [
      "_________________________________________________________________\n",
      "Layer (type)                 Output Shape              Param #   \n",
      "=================================================================\n",
      "input_1 (InputLayer)         (None, None, None, 3)     0         \n",
      "_________________________________________________________________\n",
      "block1_conv1 (Conv2D)        (None, None, None, 64)    1792      \n",
      "_________________________________________________________________\n",
      "block1_conv2 (Conv2D)        (None, None, None, 64)    36928     \n",
      "_________________________________________________________________\n",
      "block1_pool (MaxPooling2D)   (None, None, None, 64)    0         \n",
      "_________________________________________________________________\n",
      "block2_conv1 (Conv2D)        (None, None, None, 128)   73856     \n",
      "_________________________________________________________________\n",
      "block2_conv2 (Conv2D)        (None, None, None, 128)   147584    \n",
      "_________________________________________________________________\n",
      "block2_pool (MaxPooling2D)   (None, None, None, 128)   0         \n",
      "_________________________________________________________________\n",
      "block3_conv1 (Conv2D)        (None, None, None, 256)   295168    \n",
      "_________________________________________________________________\n",
      "block3_conv2 (Conv2D)        (None, None, None, 256)   590080    \n",
      "_________________________________________________________________\n",
      "block3_conv3 (Conv2D)        (None, None, None, 256)   590080    \n",
      "_________________________________________________________________\n",
      "block3_pool (MaxPooling2D)   (None, None, None, 256)   0         \n",
      "_________________________________________________________________\n",
      "block4_conv1 (Conv2D)        (None, None, None, 512)   1180160   \n",
      "_________________________________________________________________\n",
      "block4_conv2 (Conv2D)        (None, None, None, 512)   2359808   \n",
      "_________________________________________________________________\n",
      "block4_conv3 (Conv2D)        (None, None, None, 512)   2359808   \n",
      "_________________________________________________________________\n",
      "block4_pool (MaxPooling2D)   (None, None, None, 512)   0         \n",
      "_________________________________________________________________\n",
      "block5_conv1 (Conv2D)        (None, None, None, 512)   2359808   \n",
      "_________________________________________________________________\n",
      "block5_conv2 (Conv2D)        (None, None, None, 512)   2359808   \n",
      "_________________________________________________________________\n",
      "block5_conv3 (Conv2D)        (None, None, None, 512)   2359808   \n",
      "_________________________________________________________________\n",
      "block5_pool (MaxPooling2D)   (None, None, None, 512)   0         \n",
      "_________________________________________________________________\n",
      "global_average_pooling2d_1 ( (None, 512)               0         \n",
      "_________________________________________________________________\n",
      "dense_1 (Dense)              (None, 512)               262656    \n",
      "_________________________________________________________________\n",
      "dense_2 (Dense)              (None, 256)               131328    \n",
      "_________________________________________________________________\n",
      "dense_3 (Dense)              (None, 1)                 257       \n",
      "=================================================================\n",
      "Total params: 15,108,929\n",
      "Trainable params: 394,241\n",
      "Non-trainable params: 14,714,688\n",
      "_________________________________________________________________\n"
     ]
    }
   ],
   "source": [
    "model.summary()"
   ]
  },
  {
   "cell_type": "code",
   "execution_count": 33,
   "metadata": {},
   "outputs": [
    {
     "name": "stdout",
     "output_type": "stream",
     "text": [
      "Train on 1849 samples, validate on 599 samples\n",
      "Epoch 1/150\n",
      "1849/1849 [==============================] - 81s 44ms/step - loss: 29.6672 - mean_squared_error: 29.6672 - val_loss: 155.4511 - val_mean_squared_error: 155.4511\n",
      "\n",
      "Epoch 00001: val_loss improved from inf to 155.45112, saving model to modelweights_Regression_dead.hdf5\n",
      "Epoch 2/150\n",
      "1849/1849 [==============================] - 74s 40ms/step - loss: 3.3759 - mean_squared_error: 3.3759 - val_loss: 155.7147 - val_mean_squared_error: 155.7147\n",
      "\n",
      "Epoch 00002: val_loss did not improve from 155.45112\n",
      "Epoch 3/150\n",
      "1849/1849 [==============================] - 74s 40ms/step - loss: 1.8219 - mean_squared_error: 1.8219 - val_loss: 149.0502 - val_mean_squared_error: 149.0502\n",
      "\n",
      "Epoch 00003: val_loss improved from 155.45112 to 149.05016, saving model to modelweights_Regression_dead.hdf5\n",
      "Epoch 4/150\n",
      "1849/1849 [==============================] - 74s 40ms/step - loss: 1.6172 - mean_squared_error: 1.6172 - val_loss: 154.1837 - val_mean_squared_error: 154.1837\n",
      "\n",
      "Epoch 00004: val_loss did not improve from 149.05016\n",
      "Epoch 5/150\n",
      "1849/1849 [==============================] - 74s 40ms/step - loss: 1.1651 - mean_squared_error: 1.1651 - val_loss: 145.7872 - val_mean_squared_error: 145.7872\n",
      "\n",
      "Epoch 00005: val_loss improved from 149.05016 to 145.78721, saving model to modelweights_Regression_dead.hdf5\n",
      "Epoch 6/150\n",
      "1849/1849 [==============================] - 74s 40ms/step - loss: 0.8732 - mean_squared_error: 0.8732 - val_loss: 137.3028 - val_mean_squared_error: 137.3028\n",
      "\n",
      "Epoch 00006: val_loss improved from 145.78721 to 137.30285, saving model to modelweights_Regression_dead.hdf5\n",
      "Epoch 7/150\n",
      "1849/1849 [==============================] - 74s 40ms/step - loss: 0.7521 - mean_squared_error: 0.7521 - val_loss: 141.0280 - val_mean_squared_error: 141.0280\n",
      "\n",
      "Epoch 00007: val_loss did not improve from 137.30285\n",
      "Epoch 8/150\n",
      "1849/1849 [==============================] - 74s 40ms/step - loss: 0.6818 - mean_squared_error: 0.6818 - val_loss: 141.3542 - val_mean_squared_error: 141.3542\n",
      "\n",
      "Epoch 00008: val_loss did not improve from 137.30285\n",
      "Epoch 9/150\n",
      "1849/1849 [==============================] - 74s 40ms/step - loss: 0.5718 - mean_squared_error: 0.5718 - val_loss: 132.6093 - val_mean_squared_error: 132.6093\n",
      "\n",
      "Epoch 00009: val_loss improved from 137.30285 to 132.60933, saving model to modelweights_Regression_dead.hdf5\n",
      "Epoch 10/150\n",
      "1849/1849 [==============================] - 74s 40ms/step - loss: 0.6896 - mean_squared_error: 0.6896 - val_loss: 138.6933 - val_mean_squared_error: 138.6933\n",
      "\n",
      "Epoch 00010: val_loss did not improve from 132.60933\n",
      "Epoch 11/150\n",
      "1849/1849 [==============================] - 74s 40ms/step - loss: 0.6187 - mean_squared_error: 0.6187 - val_loss: 135.2639 - val_mean_squared_error: 135.2639\n",
      "\n",
      "Epoch 00011: val_loss did not improve from 132.60933\n",
      "Epoch 12/150\n",
      "1849/1849 [==============================] - 74s 40ms/step - loss: 0.5108 - mean_squared_error: 0.5108 - val_loss: 136.4825 - val_mean_squared_error: 136.4825\n",
      "\n",
      "Epoch 00012: val_loss did not improve from 132.60933\n",
      "Epoch 13/150\n",
      "1849/1849 [==============================] - 74s 40ms/step - loss: 0.5401 - mean_squared_error: 0.5401 - val_loss: 145.3191 - val_mean_squared_error: 145.3191\n",
      "\n",
      "Epoch 00013: val_loss did not improve from 132.60933\n",
      "Epoch 14/150\n",
      "1849/1849 [==============================] - 74s 40ms/step - loss: 0.5294 - mean_squared_error: 0.5294 - val_loss: 132.7283 - val_mean_squared_error: 132.7283\n",
      "\n",
      "Epoch 00014: val_loss did not improve from 132.60933\n",
      "Epoch 15/150\n",
      "1849/1849 [==============================] - 74s 40ms/step - loss: 0.4686 - mean_squared_error: 0.4686 - val_loss: 134.3098 - val_mean_squared_error: 134.3098\n",
      "\n",
      "Epoch 00015: val_loss did not improve from 132.60933\n",
      "Epoch 16/150\n",
      "1849/1849 [==============================] - 74s 40ms/step - loss: 0.3689 - mean_squared_error: 0.3689 - val_loss: 131.6144 - val_mean_squared_error: 131.6144\n",
      "\n",
      "Epoch 00016: val_loss improved from 132.60933 to 131.61445, saving model to modelweights_Regression_dead.hdf5\n",
      "Epoch 17/150\n",
      "1849/1849 [==============================] - 74s 40ms/step - loss: 0.4952 - mean_squared_error: 0.4952 - val_loss: 132.2010 - val_mean_squared_error: 132.2010\n",
      "\n",
      "Epoch 00017: val_loss did not improve from 131.61445\n",
      "Epoch 18/150\n",
      "1849/1849 [==============================] - 74s 40ms/step - loss: 0.6481 - mean_squared_error: 0.6481 - val_loss: 131.2161 - val_mean_squared_error: 131.2161\n",
      "\n",
      "Epoch 00018: val_loss improved from 131.61445 to 131.21608, saving model to modelweights_Regression_dead.hdf5\n",
      "Epoch 19/150\n",
      "1849/1849 [==============================] - 74s 40ms/step - loss: 0.4533 - mean_squared_error: 0.4533 - val_loss: 136.3855 - val_mean_squared_error: 136.3855\n",
      "\n",
      "Epoch 00019: val_loss did not improve from 131.21608\n",
      "Epoch 20/150\n",
      "1849/1849 [==============================] - 74s 40ms/step - loss: 0.3730 - mean_squared_error: 0.3730 - val_loss: 134.2804 - val_mean_squared_error: 134.2804\n",
      "\n",
      "Epoch 00020: val_loss did not improve from 131.21608\n",
      "Epoch 21/150\n",
      "1849/1849 [==============================] - 74s 40ms/step - loss: 0.4059 - mean_squared_error: 0.4059 - val_loss: 131.5764 - val_mean_squared_error: 131.5764\n",
      "\n",
      "Epoch 00021: val_loss did not improve from 131.21608\n",
      "Epoch 22/150\n",
      "1849/1849 [==============================] - 74s 40ms/step - loss: 0.5431 - mean_squared_error: 0.5431 - val_loss: 133.1830 - val_mean_squared_error: 133.1830\n",
      "\n",
      "Epoch 00022: val_loss did not improve from 131.21608\n",
      "Epoch 23/150\n",
      "1849/1849 [==============================] - 74s 40ms/step - loss: 0.4020 - mean_squared_error: 0.4020 - val_loss: 134.0701 - val_mean_squared_error: 134.0701\n",
      "\n",
      "Epoch 00023: val_loss did not improve from 131.21608\n",
      "Epoch 24/150\n",
      "1849/1849 [==============================] - 74s 40ms/step - loss: 0.5460 - mean_squared_error: 0.5460 - val_loss: 125.7511 - val_mean_squared_error: 125.7511\n",
      "\n",
      "Epoch 00024: val_loss improved from 131.21608 to 125.75112, saving model to modelweights_Regression_dead.hdf5\n",
      "Epoch 25/150\n",
      "1849/1849 [==============================] - 74s 40ms/step - loss: 1.5806 - mean_squared_error: 1.5806 - val_loss: 132.5430 - val_mean_squared_error: 132.5430\n",
      "\n",
      "Epoch 00025: val_loss did not improve from 125.75112\n",
      "Epoch 26/150\n",
      "1849/1849 [==============================] - 74s 40ms/step - loss: 0.7149 - mean_squared_error: 0.7149 - val_loss: 128.9139 - val_mean_squared_error: 128.9139\n",
      "\n",
      "Epoch 00026: val_loss did not improve from 125.75112\n",
      "Epoch 27/150\n",
      "1849/1849 [==============================] - 74s 40ms/step - loss: 0.5809 - mean_squared_error: 0.5809 - val_loss: 130.1256 - val_mean_squared_error: 130.1256\n",
      "\n",
      "Epoch 00027: val_loss did not improve from 125.75112\n",
      "Epoch 28/150\n",
      "1849/1849 [==============================] - 74s 40ms/step - loss: 0.3858 - mean_squared_error: 0.3858 - val_loss: 134.3962 - val_mean_squared_error: 134.3962\n",
      "\n",
      "Epoch 00028: val_loss did not improve from 125.75112\n",
      "Epoch 29/150\n",
      "1849/1849 [==============================] - 74s 40ms/step - loss: 0.3055 - mean_squared_error: 0.3055 - val_loss: 131.6442 - val_mean_squared_error: 131.6442\n",
      "\n",
      "Epoch 00029: val_loss did not improve from 125.75112\n",
      "Epoch 30/150\n",
      "1849/1849 [==============================] - 74s 40ms/step - loss: 0.2436 - mean_squared_error: 0.2436 - val_loss: 128.8838 - val_mean_squared_error: 128.8838\n",
      "\n",
      "Epoch 00030: val_loss did not improve from 125.75112\n",
      "Epoch 31/150\n",
      "1849/1849 [==============================] - 74s 40ms/step - loss: 0.3150 - mean_squared_error: 0.3150 - val_loss: 132.5379 - val_mean_squared_error: 132.5379\n",
      "\n",
      "Epoch 00031: val_loss did not improve from 125.75112\n",
      "Epoch 32/150\n",
      "1849/1849 [==============================] - 76s 41ms/step - loss: 0.4679 - mean_squared_error: 0.4679 - val_loss: 129.5767 - val_mean_squared_error: 129.5767\n",
      "\n",
      "Epoch 00032: val_loss did not improve from 125.75112\n",
      "Epoch 33/150\n",
      "1849/1849 [==============================] - 76s 41ms/step - loss: 0.4102 - mean_squared_error: 0.4102 - val_loss: 130.1365 - val_mean_squared_error: 130.1365\n",
      "\n",
      "Epoch 00033: val_loss did not improve from 125.75112\n",
      "Epoch 34/150\n",
      "1849/1849 [==============================] - 76s 41ms/step - loss: 0.3806 - mean_squared_error: 0.3806 - val_loss: 136.3243 - val_mean_squared_error: 136.3243\n",
      "\n",
      "Epoch 00034: val_loss did not improve from 125.75112\n",
      "Epoch 35/150\n",
      "1849/1849 [==============================] - 76s 41ms/step - loss: 0.3092 - mean_squared_error: 0.3092 - val_loss: 133.0370 - val_mean_squared_error: 133.0370\n",
      "\n",
      "Epoch 00035: val_loss did not improve from 125.75112\n",
      "Epoch 36/150\n",
      "1849/1849 [==============================] - 76s 41ms/step - loss: 0.4469 - mean_squared_error: 0.4469 - val_loss: 131.1469 - val_mean_squared_error: 131.1469\n",
      "\n",
      "Epoch 00036: val_loss did not improve from 125.75112\n",
      "Epoch 37/150\n",
      "1849/1849 [==============================] - 75s 41ms/step - loss: 0.3249 - mean_squared_error: 0.3249 - val_loss: 130.8850 - val_mean_squared_error: 130.8850\n",
      "\n",
      "Epoch 00037: val_loss did not improve from 125.75112\n",
      "Epoch 38/150\n",
      "1849/1849 [==============================] - 75s 41ms/step - loss: 0.2812 - mean_squared_error: 0.2812 - val_loss: 130.2321 - val_mean_squared_error: 130.2321\n",
      "\n",
      "Epoch 00038: val_loss did not improve from 125.75112\n",
      "Epoch 39/150\n",
      "1849/1849 [==============================] - 76s 41ms/step - loss: 0.2791 - mean_squared_error: 0.2791 - val_loss: 135.8860 - val_mean_squared_error: 135.8860\n",
      "\n",
      "Epoch 00039: val_loss did not improve from 125.75112\n",
      "Epoch 40/150\n",
      "1849/1849 [==============================] - 76s 41ms/step - loss: 0.3162 - mean_squared_error: 0.3162 - val_loss: 128.4046 - val_mean_squared_error: 128.4046\n",
      "\n",
      "Epoch 00040: val_loss did not improve from 125.75112\n",
      "Epoch 41/150\n",
      "1849/1849 [==============================] - 76s 41ms/step - loss: 0.2088 - mean_squared_error: 0.2088 - val_loss: 131.1677 - val_mean_squared_error: 131.1677\n",
      "\n",
      "Epoch 00041: val_loss did not improve from 125.75112\n",
      "Epoch 42/150\n",
      "1849/1849 [==============================] - 76s 41ms/step - loss: 0.2572 - mean_squared_error: 0.2572 - val_loss: 132.3288 - val_mean_squared_error: 132.3288\n",
      "\n",
      "Epoch 00042: val_loss did not improve from 125.75112\n",
      "Epoch 43/150\n",
      "1849/1849 [==============================] - 76s 41ms/step - loss: 0.3788 - mean_squared_error: 0.3788 - val_loss: 128.9293 - val_mean_squared_error: 128.9293\n",
      "\n",
      "Epoch 00043: val_loss did not improve from 125.75112\n",
      "Epoch 44/150\n",
      "1849/1849 [==============================] - 74s 40ms/step - loss: 0.3108 - mean_squared_error: 0.3108 - val_loss: 128.3963 - val_mean_squared_error: 128.3963\n",
      "\n",
      "Epoch 00044: val_loss did not improve from 125.75112\n",
      "Epoch 45/150\n",
      "1849/1849 [==============================] - 74s 40ms/step - loss: 0.3491 - mean_squared_error: 0.3491 - val_loss: 131.8132 - val_mean_squared_error: 131.8132\n",
      "\n",
      "Epoch 00045: val_loss did not improve from 125.75112\n",
      "Epoch 46/150\n",
      "1849/1849 [==============================] - 74s 40ms/step - loss: 0.3625 - mean_squared_error: 0.3625 - val_loss: 128.6269 - val_mean_squared_error: 128.6269\n",
      "\n",
      "Epoch 00046: val_loss did not improve from 125.75112\n",
      "Epoch 47/150\n",
      "1849/1849 [==============================] - 74s 40ms/step - loss: 0.2491 - mean_squared_error: 0.2491 - val_loss: 133.7297 - val_mean_squared_error: 133.7297\n",
      "\n",
      "Epoch 00047: val_loss did not improve from 125.75112\n",
      "Epoch 48/150\n",
      "1849/1849 [==============================] - 74s 40ms/step - loss: 0.4260 - mean_squared_error: 0.4260 - val_loss: 135.3526 - val_mean_squared_error: 135.3526\n",
      "\n",
      "Epoch 00048: val_loss did not improve from 125.75112\n",
      "Epoch 49/150\n",
      "1849/1849 [==============================] - 74s 40ms/step - loss: 0.3353 - mean_squared_error: 0.3353 - val_loss: 131.4611 - val_mean_squared_error: 131.4611\n",
      "\n",
      "Epoch 00049: val_loss did not improve from 125.75112\n",
      "Epoch 50/150\n",
      "1849/1849 [==============================] - 74s 40ms/step - loss: 0.2193 - mean_squared_error: 0.2193 - val_loss: 136.0659 - val_mean_squared_error: 136.0659\n",
      "\n",
      "Epoch 00050: val_loss did not improve from 125.75112\n",
      "Epoch 51/150\n",
      "1849/1849 [==============================] - 74s 40ms/step - loss: 0.3030 - mean_squared_error: 0.3030 - val_loss: 133.6063 - val_mean_squared_error: 133.6063\n",
      "\n",
      "Epoch 00051: val_loss did not improve from 125.75112\n",
      "Epoch 52/150\n",
      "1849/1849 [==============================] - 74s 40ms/step - loss: 0.6767 - mean_squared_error: 0.6767 - val_loss: 130.1962 - val_mean_squared_error: 130.1962\n",
      "\n",
      "Epoch 00052: val_loss did not improve from 125.75112\n",
      "Epoch 53/150\n",
      "1849/1849 [==============================] - 74s 40ms/step - loss: 0.4967 - mean_squared_error: 0.4967 - val_loss: 125.3771 - val_mean_squared_error: 125.3771\n",
      "\n",
      "Epoch 00053: val_loss improved from 125.75112 to 125.37712, saving model to modelweights_Regression_dead.hdf5\n",
      "Epoch 54/150\n",
      "1849/1849 [==============================] - 74s 40ms/step - loss: 0.2286 - mean_squared_error: 0.2286 - val_loss: 129.4277 - val_mean_squared_error: 129.4277\n",
      "\n",
      "Epoch 00054: val_loss did not improve from 125.37712\n",
      "Epoch 55/150\n",
      "1849/1849 [==============================] - 74s 40ms/step - loss: 0.2087 - mean_squared_error: 0.2087 - val_loss: 123.5030 - val_mean_squared_error: 123.5030\n",
      "\n",
      "Epoch 00055: val_loss improved from 125.37712 to 123.50297, saving model to modelweights_Regression_dead.hdf5\n",
      "Epoch 56/150\n",
      "1849/1849 [==============================] - 74s 40ms/step - loss: 0.2096 - mean_squared_error: 0.2096 - val_loss: 133.5295 - val_mean_squared_error: 133.5295\n",
      "\n",
      "Epoch 00056: val_loss did not improve from 123.50297\n",
      "Epoch 57/150\n",
      "1849/1849 [==============================] - 74s 40ms/step - loss: 0.2383 - mean_squared_error: 0.2383 - val_loss: 130.7550 - val_mean_squared_error: 130.7550\n",
      "\n",
      "Epoch 00057: val_loss did not improve from 123.50297\n",
      "Epoch 58/150\n",
      "1849/1849 [==============================] - 74s 40ms/step - loss: 0.1849 - mean_squared_error: 0.1849 - val_loss: 131.3190 - val_mean_squared_error: 131.3190\n",
      "\n",
      "Epoch 00058: val_loss did not improve from 123.50297\n",
      "Epoch 59/150\n",
      "1849/1849 [==============================] - 74s 40ms/step - loss: 0.1917 - mean_squared_error: 0.1917 - val_loss: 125.3060 - val_mean_squared_error: 125.3060\n",
      "\n",
      "Epoch 00059: val_loss did not improve from 123.50297\n",
      "Epoch 60/150\n",
      "1849/1849 [==============================] - 74s 40ms/step - loss: 0.2169 - mean_squared_error: 0.2169 - val_loss: 124.2606 - val_mean_squared_error: 124.2606\n",
      "\n",
      "Epoch 00060: val_loss did not improve from 123.50297\n",
      "Epoch 61/150\n",
      "1849/1849 [==============================] - 74s 40ms/step - loss: 0.2187 - mean_squared_error: 0.2187 - val_loss: 129.7719 - val_mean_squared_error: 129.7719\n",
      "\n",
      "Epoch 00061: val_loss did not improve from 123.50297\n",
      "Epoch 62/150\n",
      "1849/1849 [==============================] - 74s 40ms/step - loss: 0.1564 - mean_squared_error: 0.1564 - val_loss: 130.5582 - val_mean_squared_error: 130.5582\n",
      "\n",
      "Epoch 00062: val_loss did not improve from 123.50297\n",
      "Epoch 63/150\n",
      "1849/1849 [==============================] - 74s 40ms/step - loss: 0.1586 - mean_squared_error: 0.1586 - val_loss: 129.1411 - val_mean_squared_error: 129.1411\n",
      "\n",
      "Epoch 00063: val_loss did not improve from 123.50297\n",
      "Epoch 64/150\n",
      "1849/1849 [==============================] - 74s 40ms/step - loss: 0.2479 - mean_squared_error: 0.2479 - val_loss: 133.2559 - val_mean_squared_error: 133.2559\n",
      "\n",
      "Epoch 00064: val_loss did not improve from 123.50297\n",
      "Epoch 65/150\n",
      "1849/1849 [==============================] - 74s 40ms/step - loss: 0.2898 - mean_squared_error: 0.2898 - val_loss: 125.4468 - val_mean_squared_error: 125.4468\n",
      "\n",
      "Epoch 00065: val_loss did not improve from 123.50297\n",
      "Epoch 66/150\n",
      "1849/1849 [==============================] - 74s 40ms/step - loss: 0.1980 - mean_squared_error: 0.1980 - val_loss: 122.9849 - val_mean_squared_error: 122.9849\n",
      "\n",
      "Epoch 00066: val_loss improved from 123.50297 to 122.98489, saving model to modelweights_Regression_dead.hdf5\n",
      "Epoch 67/150\n",
      "1849/1849 [==============================] - 74s 40ms/step - loss: 0.1939 - mean_squared_error: 0.1939 - val_loss: 128.0512 - val_mean_squared_error: 128.0512\n",
      "\n",
      "Epoch 00067: val_loss did not improve from 122.98489\n",
      "Epoch 68/150\n",
      "1849/1849 [==============================] - 74s 40ms/step - loss: 0.2558 - mean_squared_error: 0.2558 - val_loss: 131.4051 - val_mean_squared_error: 131.4051\n",
      "\n",
      "Epoch 00068: val_loss did not improve from 122.98489\n",
      "Epoch 69/150\n",
      "1849/1849 [==============================] - 74s 40ms/step - loss: 0.3480 - mean_squared_error: 0.3480 - val_loss: 133.0670 - val_mean_squared_error: 133.0670\n",
      "\n",
      "Epoch 00069: val_loss did not improve from 122.98489\n",
      "Epoch 70/150\n",
      "1849/1849 [==============================] - 74s 40ms/step - loss: 0.2063 - mean_squared_error: 0.2063 - val_loss: 129.7794 - val_mean_squared_error: 129.7794\n"
     ]
    },
    {
     "name": "stdout",
     "output_type": "stream",
     "text": [
      "\n",
      "Epoch 00070: val_loss did not improve from 122.98489\n",
      "Epoch 71/150\n",
      "1849/1849 [==============================] - 74s 40ms/step - loss: 0.1509 - mean_squared_error: 0.1509 - val_loss: 128.4240 - val_mean_squared_error: 128.4240\n",
      "\n",
      "Epoch 00071: val_loss did not improve from 122.98489\n",
      "Epoch 72/150\n",
      "1849/1849 [==============================] - 74s 40ms/step - loss: 0.2169 - mean_squared_error: 0.2169 - val_loss: 130.2867 - val_mean_squared_error: 130.2867\n",
      "\n",
      "Epoch 00072: val_loss did not improve from 122.98489\n",
      "Epoch 73/150\n",
      "1849/1849 [==============================] - 74s 40ms/step - loss: 0.3132 - mean_squared_error: 0.3132 - val_loss: 128.1838 - val_mean_squared_error: 128.1838\n",
      "\n",
      "Epoch 00073: val_loss did not improve from 122.98489\n",
      "Epoch 74/150\n",
      "1849/1849 [==============================] - 74s 40ms/step - loss: 0.1454 - mean_squared_error: 0.1454 - val_loss: 133.2119 - val_mean_squared_error: 133.2119\n",
      "\n",
      "Epoch 00074: val_loss did not improve from 122.98489\n",
      "Epoch 75/150\n",
      "1849/1849 [==============================] - 74s 40ms/step - loss: 0.1340 - mean_squared_error: 0.1340 - val_loss: 129.5910 - val_mean_squared_error: 129.5910\n",
      "\n",
      "Epoch 00075: val_loss did not improve from 122.98489\n",
      "Epoch 76/150\n",
      "1849/1849 [==============================] - 74s 40ms/step - loss: 0.1694 - mean_squared_error: 0.1694 - val_loss: 124.9876 - val_mean_squared_error: 124.9876\n",
      "\n",
      "Epoch 00076: val_loss did not improve from 122.98489\n",
      "Epoch 77/150\n",
      "1849/1849 [==============================] - 74s 40ms/step - loss: 0.1979 - mean_squared_error: 0.1979 - val_loss: 130.2804 - val_mean_squared_error: 130.2804\n",
      "\n",
      "Epoch 00077: val_loss did not improve from 122.98489\n",
      "Epoch 78/150\n",
      "1849/1849 [==============================] - 74s 40ms/step - loss: 0.2976 - mean_squared_error: 0.2976 - val_loss: 121.6146 - val_mean_squared_error: 121.6146\n",
      "\n",
      "Epoch 00078: val_loss improved from 122.98489 to 121.61461, saving model to modelweights_Regression_dead.hdf5\n",
      "Epoch 79/150\n",
      "1849/1849 [==============================] - 74s 40ms/step - loss: 0.2935 - mean_squared_error: 0.2935 - val_loss: 125.6994 - val_mean_squared_error: 125.6994\n",
      "\n",
      "Epoch 00079: val_loss did not improve from 121.61461\n",
      "Epoch 80/150\n",
      "1849/1849 [==============================] - 74s 40ms/step - loss: 0.1693 - mean_squared_error: 0.1693 - val_loss: 125.9571 - val_mean_squared_error: 125.9571\n",
      "\n",
      "Epoch 00080: val_loss did not improve from 121.61461\n",
      "Epoch 81/150\n",
      "1849/1849 [==============================] - 74s 40ms/step - loss: 0.1663 - mean_squared_error: 0.1663 - val_loss: 129.2765 - val_mean_squared_error: 129.2765\n",
      "\n",
      "Epoch 00081: val_loss did not improve from 121.61461\n",
      "Epoch 82/150\n",
      "1849/1849 [==============================] - 74s 40ms/step - loss: 0.1071 - mean_squared_error: 0.1071 - val_loss: 126.5026 - val_mean_squared_error: 126.5026\n",
      "\n",
      "Epoch 00082: val_loss did not improve from 121.61461\n",
      "Epoch 83/150\n",
      "1849/1849 [==============================] - 74s 40ms/step - loss: 0.1599 - mean_squared_error: 0.1599 - val_loss: 126.5812 - val_mean_squared_error: 126.5812\n",
      "\n",
      "Epoch 00083: val_loss did not improve from 121.61461\n",
      "Epoch 84/150\n",
      "1849/1849 [==============================] - 74s 40ms/step - loss: 0.1241 - mean_squared_error: 0.1241 - val_loss: 131.5211 - val_mean_squared_error: 131.5211\n",
      "\n",
      "Epoch 00084: val_loss did not improve from 121.61461\n",
      "Epoch 85/150\n",
      "1849/1849 [==============================] - 74s 40ms/step - loss: 0.1221 - mean_squared_error: 0.1221 - val_loss: 126.9485 - val_mean_squared_error: 126.9485\n",
      "\n",
      "Epoch 00085: val_loss did not improve from 121.61461\n",
      "Epoch 86/150\n",
      "1849/1849 [==============================] - 74s 40ms/step - loss: 0.0902 - mean_squared_error: 0.0902 - val_loss: 126.2178 - val_mean_squared_error: 126.2178\n",
      "\n",
      "Epoch 00086: val_loss did not improve from 121.61461\n",
      "Epoch 87/150\n",
      "1849/1849 [==============================] - 74s 40ms/step - loss: 0.1763 - mean_squared_error: 0.1763 - val_loss: 127.8896 - val_mean_squared_error: 127.8896\n",
      "\n",
      "Epoch 00087: val_loss did not improve from 121.61461\n",
      "Epoch 88/150\n",
      "1849/1849 [==============================] - 74s 40ms/step - loss: 0.2955 - mean_squared_error: 0.2955 - val_loss: 127.7635 - val_mean_squared_error: 127.7635\n",
      "\n",
      "Epoch 00088: val_loss did not improve from 121.61461\n",
      "Epoch 89/150\n",
      "1849/1849 [==============================] - 74s 40ms/step - loss: 0.1794 - mean_squared_error: 0.1794 - val_loss: 128.3593 - val_mean_squared_error: 128.3593\n",
      "\n",
      "Epoch 00089: val_loss did not improve from 121.61461\n",
      "Epoch 90/150\n",
      "1849/1849 [==============================] - 74s 40ms/step - loss: 0.1291 - mean_squared_error: 0.1291 - val_loss: 125.5030 - val_mean_squared_error: 125.5030\n",
      "\n",
      "Epoch 00090: val_loss did not improve from 121.61461\n",
      "Epoch 91/150\n",
      "1849/1849 [==============================] - 74s 40ms/step - loss: 0.1028 - mean_squared_error: 0.1028 - val_loss: 125.7188 - val_mean_squared_error: 125.7188\n",
      "\n",
      "Epoch 00091: val_loss did not improve from 121.61461\n",
      "Epoch 92/150\n",
      "1849/1849 [==============================] - 74s 40ms/step - loss: 0.1190 - mean_squared_error: 0.1190 - val_loss: 128.5737 - val_mean_squared_error: 128.5737\n",
      "\n",
      "Epoch 00092: val_loss did not improve from 121.61461\n",
      "Epoch 93/150\n",
      "1849/1849 [==============================] - 74s 40ms/step - loss: 0.1339 - mean_squared_error: 0.1339 - val_loss: 128.7515 - val_mean_squared_error: 128.7515\n",
      "\n",
      "Epoch 00093: val_loss did not improve from 121.61461\n",
      "Epoch 94/150\n",
      "1849/1849 [==============================] - 74s 40ms/step - loss: 0.0842 - mean_squared_error: 0.0842 - val_loss: 127.9644 - val_mean_squared_error: 127.9644\n",
      "\n",
      "Epoch 00094: val_loss did not improve from 121.61461\n",
      "Epoch 95/150\n",
      "1849/1849 [==============================] - 74s 40ms/step - loss: 0.0700 - mean_squared_error: 0.0700 - val_loss: 124.5661 - val_mean_squared_error: 124.5661\n",
      "\n",
      "Epoch 00095: val_loss did not improve from 121.61461\n",
      "Epoch 96/150\n",
      "1849/1849 [==============================] - 74s 40ms/step - loss: 0.1245 - mean_squared_error: 0.1245 - val_loss: 127.9933 - val_mean_squared_error: 127.9933\n",
      "\n",
      "Epoch 00096: val_loss did not improve from 121.61461\n",
      "Epoch 97/150\n",
      "1849/1849 [==============================] - 74s 40ms/step - loss: 0.1182 - mean_squared_error: 0.1182 - val_loss: 126.9408 - val_mean_squared_error: 126.9408\n",
      "\n",
      "Epoch 00097: val_loss did not improve from 121.61461\n",
      "Epoch 98/150\n",
      "1849/1849 [==============================] - 74s 40ms/step - loss: 0.1558 - mean_squared_error: 0.1558 - val_loss: 126.4989 - val_mean_squared_error: 126.4989\n",
      "\n",
      "Epoch 00098: val_loss did not improve from 121.61461\n",
      "Epoch 99/150\n",
      "1849/1849 [==============================] - 74s 40ms/step - loss: 0.1738 - mean_squared_error: 0.1738 - val_loss: 126.1712 - val_mean_squared_error: 126.1712\n",
      "\n",
      "Epoch 00099: val_loss did not improve from 121.61461\n",
      "Epoch 100/150\n",
      "1849/1849 [==============================] - 74s 40ms/step - loss: 0.2363 - mean_squared_error: 0.2363 - val_loss: 125.8718 - val_mean_squared_error: 125.8718\n",
      "\n",
      "Epoch 00100: val_loss did not improve from 121.61461\n",
      "Epoch 101/150\n",
      "1849/1849 [==============================] - 74s 40ms/step - loss: 0.1518 - mean_squared_error: 0.1518 - val_loss: 125.4117 - val_mean_squared_error: 125.4117\n",
      "\n",
      "Epoch 00101: val_loss did not improve from 121.61461\n",
      "Epoch 102/150\n",
      "1849/1849 [==============================] - 74s 40ms/step - loss: 0.1345 - mean_squared_error: 0.1345 - val_loss: 128.9646 - val_mean_squared_error: 128.9646\n",
      "\n",
      "Epoch 00102: val_loss did not improve from 121.61461\n",
      "Epoch 103/150\n",
      "1849/1849 [==============================] - 74s 40ms/step - loss: 0.0686 - mean_squared_error: 0.0686 - val_loss: 129.8244 - val_mean_squared_error: 129.8244\n",
      "\n",
      "Epoch 00103: val_loss did not improve from 121.61461\n",
      "Epoch 104/150\n",
      "1849/1849 [==============================] - 74s 40ms/step - loss: 0.0960 - mean_squared_error: 0.0960 - val_loss: 128.7867 - val_mean_squared_error: 128.7867\n",
      "\n",
      "Epoch 00104: val_loss did not improve from 121.61461\n",
      "Epoch 105/150\n",
      "1849/1849 [==============================] - 74s 40ms/step - loss: 0.1122 - mean_squared_error: 0.1122 - val_loss: 124.0120 - val_mean_squared_error: 124.0120\n",
      "\n",
      "Epoch 00105: val_loss did not improve from 121.61461\n",
      "Epoch 106/150\n",
      "1849/1849 [==============================] - 74s 40ms/step - loss: 0.1438 - mean_squared_error: 0.1438 - val_loss: 126.5313 - val_mean_squared_error: 126.5313\n"
     ]
    },
    {
     "name": "stdout",
     "output_type": "stream",
     "text": [
      "\n",
      "Epoch 00106: val_loss did not improve from 121.61461\n",
      "Epoch 107/150\n",
      "1849/1849 [==============================] - 74s 40ms/step - loss: 0.1271 - mean_squared_error: 0.1271 - val_loss: 129.0988 - val_mean_squared_error: 129.0988\n",
      "\n",
      "Epoch 00107: val_loss did not improve from 121.61461\n",
      "Epoch 108/150\n",
      "1849/1849 [==============================] - 74s 40ms/step - loss: 0.1519 - mean_squared_error: 0.1519 - val_loss: 126.2138 - val_mean_squared_error: 126.2138\n",
      "\n",
      "Epoch 00108: val_loss did not improve from 121.61461\n",
      "Epoch 00108: early stopping\n"
     ]
    }
   ],
   "source": [
    "#fitting the model\n",
    "history =model.fit(X_Train,Y_Train,epochs=150,batch_size=16,validation_data=(X_Valid,Y_Valid),callbacks=callbacks)"
   ]
  },
  {
   "cell_type": "code",
   "execution_count": 34,
   "metadata": {
    "collapsed": true
   },
   "outputs": [],
   "source": [
    "# Reload Best Model for further usage....\n",
    "model.load_weights('modelweights_Regression_dead.hdf5')"
   ]
  },
  {
   "cell_type": "code",
   "execution_count": 35,
   "metadata": {},
   "outputs": [
    {
     "data": {
      "image/png": "[encoded data removed]",
      "text/plain": [
       "<matplotlib.figure.Figure at 0x2832b9a4898>"
      ]
     },
     "metadata": {},
     "output_type": "display_data"
    }
   ],
   "source": [
    "# Plot Charts\n",
    "plot_chart_to_file(earlystop.stopped_epoch - patience, earlystop.best)"
   ]
  },
  {
   "cell_type": "code",
   "execution_count": 36,
   "metadata": {},
   "outputs": [
    {
     "name": "stdout",
     "output_type": "stream",
     "text": [
      "mean_squared_error 0.321205079225\n"
     ]
    }
   ],
   "source": [
    "scores_Train = model.evaluate(X_Train, Y_Train, verbose=0)\n",
    "print(model.metrics_names[1], scores_Train[1])"
   ]
  },
  {
   "cell_type": "code",
   "execution_count": 37,
   "metadata": {},
   "outputs": [
    {
     "name": "stdout",
     "output_type": "stream",
     "text": [
      "mean_squared_error 21.614637671\n"
     ]
    }
   ],
   "source": [
    "scores_Valid = model.evaluate(X_Valid,Y_Valid, verbose=0)\n",
    "print(model.metrics_names[1], scores_Valid[1])"
   ]
  },
  {
   "cell_type": "code",
   "execution_count": 38,
   "metadata": {},
   "outputs": [
    {
     "name": "stdout",
     "output_type": "stream",
     "text": [
      "mean_squared_error 13.7954725138\n"
     ]
    }
   ],
   "source": [
    "scores = model.evaluate(X_Test, Y_Test, verbose=0)\n",
    "print(model.metrics_names[1], scores[1])"
   ]
  },
  {
   "cell_type": "code",
   "execution_count": null,
   "metadata": {
    "collapsed": true
   },
   "outputs": [],
   "source": [
    "history.history"
   ]
  }
 ],
 "metadata": {
  "kernelspec": {
   "display_name": "Python 3",
   "language": "python",
   "name": "python3"
  },
  "language_info": {
   "codemirror_mode": {
    "name": "ipython",
    "version": 3
   },
   "file_extension": ".py",
   "mimetype": "text/x-python",
   "name": "python",
   "nbconvert_exporter": "python",
   "pygments_lexer": "ipython3",
   "version": "3.6.6"
  }
 },
 "nbformat": 4,
 "nbformat_minor": 2
}
