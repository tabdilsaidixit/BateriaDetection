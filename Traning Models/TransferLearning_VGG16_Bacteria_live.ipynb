{
 "cells": [
  {
   "cell_type": "code",
   "execution_count": 1,
   "metadata": {},
   "outputs": [
    {
     "name": "stderr",
     "output_type": "stream",
     "text": [
      "Using TensorFlow backend.\n"
     ]
    }
   ],
   "source": [
    "import numpy as np\n",
    "import os\n",
    "import PIL\n",
    "from PIL import Image\n",
    "import matplotlib.pyplot as plt\n",
    "import pandas as pd\n",
    "\n",
    "from sklearn.model_selection import train_test_split\n",
    "from keras.models import Model\n",
    "from keras.layers import Flatten, Dense, Dropout\n",
    "from keras.layers import Convolution2D, MaxPooling2D\n",
    "from keras.layers import BatchNormalization, GlobalAveragePooling2D\n",
    "from keras.utils import to_categorical\n",
    "from keras.optimizers import Adam\n",
    "from keras.callbacks import EarlyStopping, ModelCheckpoint\n",
    "from sklearn.utils import shuffle\n",
    "from openpyxl import load_workbook\n",
    "from keras.applications.vgg16 import preprocess_input\n",
    "from keras.preprocessing.image import load_img\n",
    "from keras.preprocessing.image import img_to_array"
   ]
  },
  {
   "cell_type": "code",
   "execution_count": 2,
   "metadata": {
    "collapsed": true
   },
   "outputs": [],
   "source": [
    "size = 224\n",
    "def read_image(f):\n",
    "    image = load_img(f, target_size=(224, 224))\n",
    "    # convert the image pixels to a numpy array\n",
    "    image = img_to_array(image)\n",
    "    image = preprocess_input(image)    \n",
    "    return(image)"
   ]
  },
  {
   "cell_type": "code",
   "execution_count": 3,
   "metadata": {
    "collapsed": true
   },
   "outputs": [],
   "source": [
    "size = 224\n",
    "traindata_folderPath = 'D:\\\\Data\\\\DataAugmentation\\\\TrainingData\\\\TrainData_Augmentation\\\\'\n",
    "validdata_folderPath = 'D:\\\\Data\\\\DataAugmentation\\\\TrainingData\\\\ValidationData_Augmentation\\\\'\n",
    "testdata_folderpath='D:\\\\Data\\\\DataAugmentation\\\\TestData\\\\TestingData_Augmentation\\\\'\n",
    "columnName = 'live'\n",
    "excelFileName = \"D://Data//Perron_phenotype-GSU-training.xlsx\"\n",
    "sheetName = 'Total Database'\n",
    "imgPat = 'PIL-55a_3dayLBCR-3'"
   ]
  },
  {
   "cell_type": "code",
   "execution_count": 4,
   "metadata": {
    "collapsed": true
   },
   "outputs": [],
   "source": [
    "train_filelist= [file for file in os.listdir(traindata_folderPath) if file.endswith('.jpeg')]\n",
    "valid_filelist= [file for file in os.listdir(validdata_folderPath) if file.endswith('.jpeg')]\n",
    "test_filelist= [file for file in os.listdir(testdata_folderpath) if file.endswith('.jpeg')]"
   ]
  },
  {
   "cell_type": "code",
   "execution_count": 5,
   "metadata": {},
   "outputs": [
    {
     "name": "stdout",
     "output_type": "stream",
     "text": [
      "Total number of files in directory: 1849\n",
      "Total number of files in directory: 599\n",
      "Total number of files in directory: 600\n"
     ]
    }
   ],
   "source": [
    "n_files = len(train_filelist)\n",
    "print('Total number of files in directory:', n_files)\n",
    "n_files = len(valid_filelist)\n",
    "print('Total number of files in directory:', n_files)\n",
    "n_files = len(test_filelist)\n",
    "print('Total number of files in directory:', n_files)"
   ]
  },
  {
   "cell_type": "code",
   "execution_count": 6,
   "metadata": {
    "collapsed": true
   },
   "outputs": [],
   "source": [
    "wb = load_workbook(excelFileName)"
   ]
  },
  {
   "cell_type": "code",
   "execution_count": 7,
   "metadata": {
    "collapsed": true
   },
   "outputs": [],
   "source": [
    "sheet = wb[sheetName]"
   ]
  },
  {
   "cell_type": "code",
   "execution_count": 8,
   "metadata": {
    "collapsed": true
   },
   "outputs": [],
   "source": [
    "def getColumnNumber(columnName, sheet):\n",
    "    reqColNum = -1\n",
    "    maxColNumber = sheet.max_column + 1\n",
    "    for x in range(1, maxColNumber):\n",
    "        cellValue = sheet.cell(row=1, column=x).value\n",
    "        if(cellValue == columnName):\n",
    "                reqColNum = x\n",
    "                break\n",
    "    return(reqColNum)"
   ]
  },
  {
   "cell_type": "code",
   "execution_count": 9,
   "metadata": {
    "collapsed": true
   },
   "outputs": [],
   "source": [
    "import re\n",
    "def getStrainNumber(imageName):\n",
    "    strt = imageName.find('-')\n",
    "    end = imageName.find('_')\n",
    "    imgNam = imageName[strt+1:end]\n",
    "    \n",
    "    imgNam = re.sub(r'[a-z]', '', imgNam)\n",
    "    return(imgNam)"
   ]
  },
  {
   "cell_type": "code",
   "execution_count": 10,
   "metadata": {
    "collapsed": true
   },
   "outputs": [],
   "source": [
    "def getRowNumber(strainNumber, sheet, columnNumber):\n",
    "    \n",
    "    reqRowNum = -1\n",
    "    maxRowNumber = sheet.max_row + 1\n",
    "    strainNumbr = float(strainNumber)\n",
    "    \n",
    "    for x in range(1, maxRowNumber):\n",
    "        cellVal = sheet.cell(row=x, column=columnNumber).value\n",
    "        try:\n",
    "            cellValue = float(cellVal)            \n",
    "            if(cellValue == strainNumbr):\n",
    "                reqRowNum = x\n",
    "                break\n",
    "        except ValueError:\n",
    "            continue\n",
    "    return(reqRowNum) "
   ]
  },
  {
   "cell_type": "code",
   "execution_count": 11,
   "metadata": {
    "collapsed": true
   },
   "outputs": [],
   "source": [
    "colNumber = getColumnNumber(columnName, sheet)"
   ]
  },
  {
   "cell_type": "code",
   "execution_count": 12,
   "metadata": {
    "collapsed": true
   },
   "outputs": [],
   "source": [
    "strainColumnNumber = getColumnNumber('strain', sheet)"
   ]
  },
  {
   "cell_type": "code",
   "execution_count": 13,
   "metadata": {},
   "outputs": [
    {
     "name": "stdout",
     "output_type": "stream",
     "text": [
      "Reading train images ...\n"
     ]
    }
   ],
   "source": [
    "X_Train = []\n",
    "Y_Train = []\n",
    "print('Reading train images ...')\n",
    "for file in train_filelist:\n",
    "    imagepath = os.path.join(traindata_folderPath, file)\n",
    "    im = read_image(imagepath)\n",
    "    #print(im.shape)\n",
    "    req_ColNumber = colNumber\n",
    "    req_rowNumber = getRowNumber(getStrainNumber(file),sheet,strainColumnNumber)\n",
    "    try:\n",
    "        if(req_rowNumber>0 and req_ColNumber>0):\n",
    "            req_CellValue = sheet.cell(row=req_rowNumber, column=req_ColNumber).value\n",
    "            X_Train.append(im)\n",
    "            Y_Train.append(req_CellValue)\n",
    "    except:\n",
    "        print(\"Error\")\n",
    "        print(imagepath)\n",
    "        print(getStrainNumber(file))\n",
    "        print(req_ColNumber)\n",
    "        print(req_rowNumber)\n",
    "        print(req_CellValue)\n",
    "        print(\"Error\")\n",
    "        continue"
   ]
  },
  {
   "cell_type": "code",
   "execution_count": 14,
   "metadata": {},
   "outputs": [
    {
     "name": "stdout",
     "output_type": "stream",
     "text": [
      "Reading train images ...\n"
     ]
    }
   ],
   "source": [
    "X_Valid = []\n",
    "Y_Valid = []\n",
    "print('Reading train images ...')\n",
    "for file in valid_filelist:\n",
    "    imagepath = os.path.join(validdata_folderPath, file)\n",
    "    im = read_image(imagepath)\n",
    "    req_ColNumber = colNumber\n",
    "    req_rowNumber = getRowNumber(getStrainNumber(file),sheet,strainColumnNumber)\n",
    "    try:\n",
    "        if(req_rowNumber>0 and req_ColNumber>0):\n",
    "            req_CellValue = sheet.cell(row=req_rowNumber, column=req_ColNumber).value\n",
    "            X_Valid.append(im)\n",
    "            Y_Valid.append(req_CellValue)\n",
    "    except:\n",
    "        print(\"Error\")\n",
    "        print(imagepath)\n",
    "        print(getStrainNumber(file))\n",
    "        print(req_ColNumber)\n",
    "        print(req_rowNumber)\n",
    "        print(req_CellValue)\n",
    "        print(\"Error\")\n",
    "        continue"
   ]
  },
  {
   "cell_type": "code",
   "execution_count": 15,
   "metadata": {},
   "outputs": [
    {
     "name": "stdout",
     "output_type": "stream",
     "text": [
      "Reading train images ...\n"
     ]
    }
   ],
   "source": [
    "X_Test = []\n",
    "Y_Test = []\n",
    "print('Reading train images ...')\n",
    "for file in test_filelist:\n",
    "    imagepath = os.path.join(testdata_folderpath, file)\n",
    "    im = read_image(imagepath)\n",
    "    req_ColNumber = colNumber\n",
    "    req_rowNumber = getRowNumber(getStrainNumber(file),sheet,strainColumnNumber)\n",
    "    try:\n",
    "        if(req_rowNumber>0 and req_ColNumber>0):\n",
    "            req_CellValue = sheet.cell(row=req_rowNumber, column=req_ColNumber).value\n",
    "            X_Test.append(im)\n",
    "            Y_Test.append(req_CellValue)\n",
    "    except:\n",
    "        print(\"Error\")\n",
    "        print(imagepath)\n",
    "        print(getStrainNumber(file))\n",
    "        print(req_ColNumber)\n",
    "        print(req_rowNumber)\n",
    "        print(req_CellValue)\n",
    "        print(\"Error\")\n",
    "        continue"
   ]
  },
  {
   "cell_type": "code",
   "execution_count": 16,
   "metadata": {},
   "outputs": [
    {
     "name": "stdout",
     "output_type": "stream",
     "text": [
      "(1849, 224, 224, 3) x Shape\n",
      "(1849, 1) y Shape\n",
      "(599, 224, 224, 3) x Shape\n",
      "(599, 1) y Shape\n",
      "(600, 224, 224, 3) x Shape\n",
      "(600, 1) y Shape\n"
     ]
    }
   ],
   "source": [
    "X_Train = np.array(X_Train)\n",
    "print(X_Train.shape, 'x Shape')\n",
    "\n",
    "Y_Train = np.array(Y_Train).reshape(-1,1)\n",
    "print(Y_Train.shape, 'y Shape')\n",
    "\n",
    "X_Valid = np.array(X_Valid)\n",
    "print(X_Valid.shape, 'x Shape')\n",
    "\n",
    "Y_Valid = np.array(Y_Valid).reshape(-1,1)\n",
    "print(Y_Valid.shape, 'y Shape')\n",
    "\n",
    "X_Test = np.array(X_Test)\n",
    "print(X_Test.shape, 'x Shape')\n",
    "\n",
    "Y_Test = np.array(Y_Test).reshape(-1,1)\n",
    "print(Y_Test.shape, 'y Shape')"
   ]
  },
  {
   "cell_type": "code",
   "execution_count": 17,
   "metadata": {
    "collapsed": true
   },
   "outputs": [],
   "source": [
    "# Store Model metrics\n",
    "history = {}"
   ]
  },
  {
   "cell_type": "code",
   "execution_count": 45,
   "metadata": {
    "collapsed": true
   },
   "outputs": [],
   "source": [
    "# Plot Chart\n",
    "def plot_chart_to_file(best_epoch, best_value):\n",
    "\n",
    "    # Plot Chart\n",
    "    fig = plt.figure(dpi=300)\n",
    "\n",
    "    # Subplot for Loss\n",
    "    ax1 = fig.add_subplot(111)    \n",
    "    ax1.plot(history.history['mean_squared_error'], color='b', \n",
    "    label='TrainMSE')\n",
    "    ax1.plot(history.history['val_mean_squared_error'], color='g', \n",
    "    label='validationMSE')\n",
    "    ax1.set_xlabel('Epoch')\n",
    "    ax1.set_ylabel('MSE')\n",
    "    ax1.legend(loc='lower left', bbox_to_anchor=(0, -0.30))\n",
    "    #ax2 = ax1.twinx()\n",
    "    #ax2.plot(history.history['mean_squared_error'], color='y', \n",
    "    #label='TrainMSE Loss')\n",
    "    #ax2.plot(history.history['val_mean_squared_error'], color='c', \n",
    "    #label='validationMSE Loss')\n",
    "    ax1.plot(best_epoch, best_value, 'r+', label='Best Model')\n",
    "    #ax2.set_ylabel('Loss')   \n",
    "    #ax2.legend(loc='lower right', bbox_to_anchor=(1, -0.30))\n",
    "    # Set Title\n",
    "    plt.title('Model - Best Epoch (' + str(best_epoch) + ')')\n",
    "    plt.show()\n",
    "    # .. and save..\n",
    "    plt.savefig('Blog3_Model_Chart_Regression_MSE_live.png', \n",
    "    bbox_inches=\"tight\")   "
   ]
  },
  {
   "cell_type": "code",
   "execution_count": 19,
   "metadata": {
    "collapsed": true
   },
   "outputs": [],
   "source": [
    "\n",
    "# Get VGG16 architecture from keras.applications\n",
    "from keras.applications.vgg16 import VGG16,decode_predictions\n",
    "\n",
    "# downloading weights and convolution layers from vgg16\n",
    "trained_model= VGG16(include_top=False,weights='imagenet')\n",
    "# print(trained_model.summary())\n",
    "\n",
    "# defining mlp that needs to be appended to vgg16 convolution layers\n",
    "x = trained_model.output\n",
    "x = GlobalAveragePooling2D()(x)\n",
    "x = Dense(512,activation='relu')(x)\n",
    "x = Dense(256,activation='relu')(x)\n",
    "output = Dense(1,activation='linear')(x)\n",
    "\n",
    "model= Model(inputs=trained_model.input,outputs=output)\n"
   ]
  },
  {
   "cell_type": "code",
   "execution_count": 20,
   "metadata": {
    "collapsed": true
   },
   "outputs": [],
   "source": [
    "for layer in trained_model.layers:\n",
    "    layer.trainable=False"
   ]
  },
  {
   "cell_type": "code",
   "execution_count": 21,
   "metadata": {},
   "outputs": [
    {
     "name": "stdout",
     "output_type": "stream",
     "text": [
      "input_1 False\n",
      "block1_conv1 False\n",
      "block1_conv2 False\n",
      "block1_pool False\n",
      "block2_conv1 False\n",
      "block2_conv2 False\n",
      "block2_pool False\n",
      "block3_conv1 False\n",
      "block3_conv2 False\n",
      "block3_conv3 False\n",
      "block3_pool False\n",
      "block4_conv1 False\n",
      "block4_conv2 False\n",
      "block4_conv3 False\n",
      "block4_pool False\n",
      "block5_conv1 False\n",
      "block5_conv2 False\n",
      "block5_conv3 False\n",
      "block5_pool False\n"
     ]
    }
   ],
   "source": [
    "for layer in trained_model.layers:\n",
    "    print(layer.name,layer.trainable)"
   ]
  },
  {
   "cell_type": "code",
   "execution_count": 22,
   "metadata": {},
   "outputs": [
    {
     "name": "stdout",
     "output_type": "stream",
     "text": [
      "_________________________________________________________________\n",
      "Layer (type)                 Output Shape              Param #   \n",
      "=================================================================\n",
      "input_1 (InputLayer)         (None, None, None, 3)     0         \n",
      "_________________________________________________________________\n",
      "block1_conv1 (Conv2D)        (None, None, None, 64)    1792      \n",
      "_________________________________________________________________\n",
      "block1_conv2 (Conv2D)        (None, None, None, 64)    36928     \n",
      "_________________________________________________________________\n",
      "block1_pool (MaxPooling2D)   (None, None, None, 64)    0         \n",
      "_________________________________________________________________\n",
      "block2_conv1 (Conv2D)        (None, None, None, 128)   73856     \n",
      "_________________________________________________________________\n",
      "block2_conv2 (Conv2D)        (None, None, None, 128)   147584    \n",
      "_________________________________________________________________\n",
      "block2_pool (MaxPooling2D)   (None, None, None, 128)   0         \n",
      "_________________________________________________________________\n",
      "block3_conv1 (Conv2D)        (None, None, None, 256)   295168    \n",
      "_________________________________________________________________\n",
      "block3_conv2 (Conv2D)        (None, None, None, 256)   590080    \n",
      "_________________________________________________________________\n",
      "block3_conv3 (Conv2D)        (None, None, None, 256)   590080    \n",
      "_________________________________________________________________\n",
      "block3_pool (MaxPooling2D)   (None, None, None, 256)   0         \n",
      "_________________________________________________________________\n",
      "block4_conv1 (Conv2D)        (None, None, None, 512)   1180160   \n",
      "_________________________________________________________________\n",
      "block4_conv2 (Conv2D)        (None, None, None, 512)   2359808   \n",
      "_________________________________________________________________\n",
      "block4_conv3 (Conv2D)        (None, None, None, 512)   2359808   \n",
      "_________________________________________________________________\n",
      "block4_pool (MaxPooling2D)   (None, None, None, 512)   0         \n",
      "_________________________________________________________________\n",
      "block5_conv1 (Conv2D)        (None, None, None, 512)   2359808   \n",
      "_________________________________________________________________\n",
      "block5_conv2 (Conv2D)        (None, None, None, 512)   2359808   \n",
      "_________________________________________________________________\n",
      "block5_conv3 (Conv2D)        (None, None, None, 512)   2359808   \n",
      "_________________________________________________________________\n",
      "block5_pool (MaxPooling2D)   (None, None, None, 512)   0         \n",
      "_________________________________________________________________\n",
      "global_average_pooling2d_1 ( (None, 512)               0         \n",
      "_________________________________________________________________\n",
      "dense_1 (Dense)              (None, 512)               262656    \n",
      "_________________________________________________________________\n",
      "dense_2 (Dense)              (None, 256)               131328    \n",
      "_________________________________________________________________\n",
      "dense_3 (Dense)              (None, 1)                 257       \n",
      "=================================================================\n",
      "Total params: 15,108,929\n",
      "Trainable params: 394,241\n",
      "Non-trainable params: 14,714,688\n",
      "_________________________________________________________________\n"
     ]
    }
   ],
   "source": [
    "model.summary()"
   ]
  },
  {
   "cell_type": "code",
   "execution_count": 24,
   "metadata": {},
   "outputs": [],
   "source": [
    "#compiling the model\n",
    "adam = Adam(lr=0.001)\n",
    "model.compile(loss='mean_squared_error',metrics=['MSE'],optimizer=adam)\n",
    "patience = 30\n",
    "earlystop = EarlyStopping(monitor=\"val_loss\",min_delta=0,mode=\"min\",patience=patience,verbose=1)\n",
    "checkpoint = ModelCheckpoint('modelweights_Regression_live.hdf5', \n",
    "                              monitor='val_loss', \n",
    "                              verbose=1, \n",
    "                              save_best_only=True, \n",
    "                              mode='min')\n",
    "callbacks = [checkpoint,earlystop]"
   ]
  },
  {
   "cell_type": "code",
   "execution_count": 25,
   "metadata": {},
   "outputs": [
    {
     "name": "stdout",
     "output_type": "stream",
     "text": [
      "_________________________________________________________________\n",
      "Layer (type)                 Output Shape              Param #   \n",
      "=================================================================\n",
      "input_1 (InputLayer)         (None, None, None, 3)     0         \n",
      "_________________________________________________________________\n",
      "block1_conv1 (Conv2D)        (None, None, None, 64)    1792      \n",
      "_________________________________________________________________\n",
      "block1_conv2 (Conv2D)        (None, None, None, 64)    36928     \n",
      "_________________________________________________________________\n",
      "block1_pool (MaxPooling2D)   (None, None, None, 64)    0         \n",
      "_________________________________________________________________\n",
      "block2_conv1 (Conv2D)        (None, None, None, 128)   73856     \n",
      "_________________________________________________________________\n",
      "block2_conv2 (Conv2D)        (None, None, None, 128)   147584    \n",
      "_________________________________________________________________\n",
      "block2_pool (MaxPooling2D)   (None, None, None, 128)   0         \n",
      "_________________________________________________________________\n",
      "block3_conv1 (Conv2D)        (None, None, None, 256)   295168    \n",
      "_________________________________________________________________\n",
      "block3_conv2 (Conv2D)        (None, None, None, 256)   590080    \n",
      "_________________________________________________________________\n",
      "block3_conv3 (Conv2D)        (None, None, None, 256)   590080    \n",
      "_________________________________________________________________\n",
      "block3_pool (MaxPooling2D)   (None, None, None, 256)   0         \n",
      "_________________________________________________________________\n",
      "block4_conv1 (Conv2D)        (None, None, None, 512)   1180160   \n",
      "_________________________________________________________________\n",
      "block4_conv2 (Conv2D)        (None, None, None, 512)   2359808   \n",
      "_________________________________________________________________\n",
      "block4_conv3 (Conv2D)        (None, None, None, 512)   2359808   \n",
      "_________________________________________________________________\n",
      "block4_pool (MaxPooling2D)   (None, None, None, 512)   0         \n",
      "_________________________________________________________________\n",
      "block5_conv1 (Conv2D)        (None, None, None, 512)   2359808   \n",
      "_________________________________________________________________\n",
      "block5_conv2 (Conv2D)        (None, None, None, 512)   2359808   \n",
      "_________________________________________________________________\n",
      "block5_conv3 (Conv2D)        (None, None, None, 512)   2359808   \n",
      "_________________________________________________________________\n",
      "block5_pool (MaxPooling2D)   (None, None, None, 512)   0         \n",
      "_________________________________________________________________\n",
      "global_average_pooling2d_1 ( (None, 512)               0         \n",
      "_________________________________________________________________\n",
      "dense_1 (Dense)              (None, 512)               262656    \n",
      "_________________________________________________________________\n",
      "dense_2 (Dense)              (None, 256)               131328    \n",
      "_________________________________________________________________\n",
      "dense_3 (Dense)              (None, 1)                 257       \n",
      "=================================================================\n",
      "Total params: 15,108,929\n",
      "Trainable params: 394,241\n",
      "Non-trainable params: 14,714,688\n",
      "_________________________________________________________________\n"
     ]
    }
   ],
   "source": [
    "model.summary()"
   ]
  },
  {
   "cell_type": "code",
   "execution_count": 26,
   "metadata": {},
   "outputs": [
    {
     "name": "stdout",
     "output_type": "stream",
     "text": [
      "Train on 1849 samples, validate on 599 samples\n",
      "Epoch 1/150\n",
      "1849/1849 [==============================] - 87s 47ms/step - loss: 450.9877 - mean_squared_error: 450.9877 - val_loss: 227.7474 - val_mean_squared_error: 227.7474\n",
      "\n",
      "Epoch 00001: val_loss improved from inf to 227.74739, saving model to modelweights_Regression_live.hdf5\n",
      "Epoch 2/150\n",
      "1849/1849 [==============================] - 86s 46ms/step - loss: 64.9652 - mean_squared_error: 64.9652 - val_loss: 156.9272 - val_mean_squared_error: 156.9272\n",
      "\n",
      "Epoch 00002: val_loss improved from 227.74739 to 156.92720, saving model to modelweights_Regression_live.hdf5\n",
      "Epoch 3/150\n",
      "1849/1849 [==============================] - 87s 47ms/step - loss: 29.3181 - mean_squared_error: 29.3181 - val_loss: 188.5516 - val_mean_squared_error: 188.5516\n",
      "\n",
      "Epoch 00003: val_loss did not improve from 156.92720\n",
      "Epoch 4/150\n",
      "1849/1849 [==============================] - 85s 46ms/step - loss: 24.1839 - mean_squared_error: 24.1839 - val_loss: 156.1042 - val_mean_squared_error: 156.1042\n",
      "\n",
      "Epoch 00004: val_loss improved from 156.92720 to 156.10420, saving model to modelweights_Regression_live.hdf5\n",
      "Epoch 5/150\n",
      "1849/1849 [==============================] - 90s 49ms/step - loss: 17.1779 - mean_squared_error: 17.1779 - val_loss: 161.1230 - val_mean_squared_error: 161.1230\n",
      "\n",
      "Epoch 00005: val_loss did not improve from 156.10420\n",
      "Epoch 6/150\n",
      "1849/1849 [==============================] - 84s 45ms/step - loss: 15.8145 - mean_squared_error: 15.8145 - val_loss: 167.0112 - val_mean_squared_error: 167.0112\n",
      "\n",
      "Epoch 00006: val_loss did not improve from 156.10420\n",
      "Epoch 7/150\n",
      "1849/1849 [==============================] - 87s 47ms/step - loss: 14.4193 - mean_squared_error: 14.4193 - val_loss: 157.6585 - val_mean_squared_error: 157.6585\n",
      "\n",
      "Epoch 00007: val_loss did not improve from 156.10420\n",
      "Epoch 8/150\n",
      "1849/1849 [==============================] - 87s 47ms/step - loss: 11.2572 - mean_squared_error: 11.2572 - val_loss: 161.5163 - val_mean_squared_error: 161.5163\n",
      "\n",
      "Epoch 00008: val_loss did not improve from 156.10420\n",
      "Epoch 9/150\n",
      "1849/1849 [==============================] - 87s 47ms/step - loss: 8.8813 - mean_squared_error: 8.8813 - val_loss: 161.0424 - val_mean_squared_error: 161.0424\n",
      "\n",
      "Epoch 00009: val_loss did not improve from 156.10420\n",
      "Epoch 10/150\n",
      "1849/1849 [==============================] - 87s 47ms/step - loss: 10.2410 - mean_squared_error: 10.2410 - val_loss: 155.8368 - val_mean_squared_error: 155.8368\n",
      "\n",
      "Epoch 00010: val_loss improved from 156.10420 to 155.83684, saving model to modelweights_Regression_live.hdf5\n",
      "Epoch 11/150\n",
      "1849/1849 [==============================] - 85s 46ms/step - loss: 13.5448 - mean_squared_error: 13.5448 - val_loss: 143.0921 - val_mean_squared_error: 143.0921\n",
      "\n",
      "Epoch 00011: val_loss improved from 155.83684 to 143.09209, saving model to modelweights_Regression_live.hdf5\n",
      "Epoch 12/150\n",
      "1849/1849 [==============================] - 75s 41ms/step - loss: 10.2853 - mean_squared_error: 10.2853 - val_loss: 159.1577 - val_mean_squared_error: 159.1577\n",
      "\n",
      "Epoch 00012: val_loss did not improve from 143.09209\n",
      "Epoch 13/150\n",
      "1849/1849 [==============================] - 75s 40ms/step - loss: 5.8397 - mean_squared_error: 5.8397 - val_loss: 155.1629 - val_mean_squared_error: 155.1629\n",
      "\n",
      "Epoch 00013: val_loss did not improve from 143.09209\n",
      "Epoch 14/150\n",
      "1849/1849 [==============================] - 75s 41ms/step - loss: 5.3315 - mean_squared_error: 5.3315 - val_loss: 161.4470 - val_mean_squared_error: 161.4470\n",
      "\n",
      "Epoch 00014: val_loss did not improve from 143.09209\n",
      "Epoch 15/150\n",
      "1849/1849 [==============================] - 75s 41ms/step - loss: 5.7913 - mean_squared_error: 5.7913 - val_loss: 152.9296 - val_mean_squared_error: 152.9296\n",
      "\n",
      "Epoch 00015: val_loss did not improve from 143.09209\n",
      "Epoch 16/150\n",
      "1849/1849 [==============================] - 75s 41ms/step - loss: 6.3291 - mean_squared_error: 6.3291 - val_loss: 143.8336 - val_mean_squared_error: 143.8336\n",
      "\n",
      "Epoch 00016: val_loss did not improve from 143.09209\n",
      "Epoch 17/150\n",
      "1849/1849 [==============================] - 75s 41ms/step - loss: 6.5305 - mean_squared_error: 6.5305 - val_loss: 155.7887 - val_mean_squared_error: 155.7887\n",
      "\n",
      "Epoch 00017: val_loss did not improve from 143.09209\n",
      "Epoch 18/150\n",
      "1849/1849 [==============================] - 75s 41ms/step - loss: 8.6549 - mean_squared_error: 8.6549 - val_loss: 160.6553 - val_mean_squared_error: 160.6553\n",
      "\n",
      "Epoch 00018: val_loss did not improve from 143.09209\n",
      "Epoch 19/150\n",
      "1849/1849 [==============================] - 75s 41ms/step - loss: 5.3930 - mean_squared_error: 5.3930 - val_loss: 149.6265 - val_mean_squared_error: 149.6265\n",
      "\n",
      "Epoch 00019: val_loss did not improve from 143.09209\n",
      "Epoch 20/150\n",
      "1849/1849 [==============================] - 75s 41ms/step - loss: 4.9239 - mean_squared_error: 4.9239 - val_loss: 147.0928 - val_mean_squared_error: 147.0928\n",
      "\n",
      "Epoch 00020: val_loss did not improve from 143.09209\n",
      "Epoch 21/150\n",
      "1849/1849 [==============================] - 75s 41ms/step - loss: 4.8174 - mean_squared_error: 4.8174 - val_loss: 156.4504 - val_mean_squared_error: 156.4504\n",
      "\n",
      "Epoch 00021: val_loss did not improve from 143.09209\n",
      "Epoch 22/150\n",
      "1849/1849 [==============================] - 75s 41ms/step - loss: 3.9085 - mean_squared_error: 3.9085 - val_loss: 164.0502 - val_mean_squared_error: 164.0502\n",
      "\n",
      "Epoch 00022: val_loss did not improve from 143.09209\n",
      "Epoch 23/150\n",
      "1849/1849 [==============================] - 75s 41ms/step - loss: 4.6920 - mean_squared_error: 4.6920 - val_loss: 159.8415 - val_mean_squared_error: 159.8415\n",
      "\n",
      "Epoch 00023: val_loss did not improve from 143.09209\n",
      "Epoch 24/150\n",
      "1849/1849 [==============================] - 75s 41ms/step - loss: 3.7721 - mean_squared_error: 3.7721 - val_loss: 147.0606 - val_mean_squared_error: 147.0606\n",
      "\n",
      "Epoch 00024: val_loss did not improve from 143.09209\n",
      "Epoch 25/150\n",
      "1849/1849 [==============================] - 75s 41ms/step - loss: 4.5232 - mean_squared_error: 4.5232 - val_loss: 144.7647 - val_mean_squared_error: 144.7647\n",
      "\n",
      "Epoch 00025: val_loss did not improve from 143.09209\n",
      "Epoch 26/150\n",
      "1849/1849 [==============================] - 75s 41ms/step - loss: 10.2566 - mean_squared_error: 10.2566 - val_loss: 163.2254 - val_mean_squared_error: 163.2254\n",
      "\n",
      "Epoch 00026: val_loss did not improve from 143.09209\n",
      "Epoch 27/150\n",
      "1849/1849 [==============================] - 75s 41ms/step - loss: 8.4688 - mean_squared_error: 8.4688 - val_loss: 166.4356 - val_mean_squared_error: 166.4356\n",
      "\n",
      "Epoch 00027: val_loss did not improve from 143.09209\n",
      "Epoch 28/150\n",
      "1849/1849 [==============================] - 75s 41ms/step - loss: 5.0727 - mean_squared_error: 5.0727 - val_loss: 159.2253 - val_mean_squared_error: 159.2253\n",
      "\n",
      "Epoch 00028: val_loss did not improve from 143.09209\n",
      "Epoch 29/150\n",
      "1849/1849 [==============================] - 75s 41ms/step - loss: 6.3706 - mean_squared_error: 6.3706 - val_loss: 155.3350 - val_mean_squared_error: 155.3350\n",
      "\n",
      "Epoch 00029: val_loss did not improve from 143.09209\n",
      "Epoch 30/150\n",
      "1849/1849 [==============================] - 75s 41ms/step - loss: 4.5037 - mean_squared_error: 4.5037 - val_loss: 154.5370 - val_mean_squared_error: 154.5370\n",
      "\n",
      "Epoch 00030: val_loss did not improve from 143.09209\n",
      "Epoch 31/150\n",
      "1849/1849 [==============================] - 75s 41ms/step - loss: 3.6096 - mean_squared_error: 3.6096 - val_loss: 167.6547 - val_mean_squared_error: 167.6547\n",
      "\n",
      "Epoch 00031: val_loss did not improve from 143.09209\n",
      "Epoch 32/150\n",
      "1849/1849 [==============================] - 75s 41ms/step - loss: 3.3692 - mean_squared_error: 3.3692 - val_loss: 136.6836 - val_mean_squared_error: 136.6836\n",
      "\n",
      "Epoch 00032: val_loss improved from 143.09209 to 136.68356, saving model to modelweights_Regression_live.hdf5\n",
      "Epoch 33/150\n",
      "1849/1849 [==============================] - 75s 41ms/step - loss: 5.7209 - mean_squared_error: 5.7209 - val_loss: 151.1367 - val_mean_squared_error: 151.1367\n",
      "\n",
      "Epoch 00033: val_loss did not improve from 136.68356\n",
      "Epoch 34/150\n",
      "1849/1849 [==============================] - 75s 40ms/step - loss: 4.4229 - mean_squared_error: 4.4229 - val_loss: 163.1277 - val_mean_squared_error: 163.1277\n",
      "\n",
      "Epoch 00034: val_loss did not improve from 136.68356\n",
      "Epoch 35/150\n",
      "1849/1849 [==============================] - 75s 41ms/step - loss: 4.2270 - mean_squared_error: 4.2270 - val_loss: 152.8268 - val_mean_squared_error: 152.8268\n",
      "\n",
      "Epoch 00035: val_loss did not improve from 136.68356\n",
      "Epoch 36/150\n",
      "1849/1849 [==============================] - 75s 41ms/step - loss: 4.9551 - mean_squared_error: 4.9551 - val_loss: 145.2433 - val_mean_squared_error: 145.2433\n",
      "\n",
      "Epoch 00036: val_loss did not improve from 136.68356\n",
      "Epoch 37/150\n",
      "1849/1849 [==============================] - 75s 41ms/step - loss: 3.8958 - mean_squared_error: 3.8958 - val_loss: 154.4462 - val_mean_squared_error: 154.4462\n",
      "\n",
      "Epoch 00037: val_loss did not improve from 136.68356\n",
      "Epoch 38/150\n",
      "1849/1849 [==============================] - 75s 41ms/step - loss: 3.3559 - mean_squared_error: 3.3559 - val_loss: 131.1350 - val_mean_squared_error: 131.1350\n",
      "\n",
      "Epoch 00038: val_loss improved from 136.68356 to 131.13502, saving model to modelweights_Regression_live.hdf5\n",
      "Epoch 39/150\n",
      "1849/1849 [==============================] - 75s 41ms/step - loss: 1.9556 - mean_squared_error: 1.9556 - val_loss: 162.2022 - val_mean_squared_error: 162.2022\n",
      "\n",
      "Epoch 00039: val_loss did not improve from 131.13502\n",
      "Epoch 40/150\n",
      "1849/1849 [==============================] - 75s 41ms/step - loss: 2.7036 - mean_squared_error: 2.7036 - val_loss: 161.7902 - val_mean_squared_error: 161.7902\n",
      "\n",
      "Epoch 00040: val_loss did not improve from 131.13502\n",
      "Epoch 41/150\n",
      "1849/1849 [==============================] - 75s 41ms/step - loss: 5.0923 - mean_squared_error: 5.0923 - val_loss: 166.7912 - val_mean_squared_error: 166.7912\n",
      "\n",
      "Epoch 00041: val_loss did not improve from 131.13502\n",
      "Epoch 42/150\n",
      "1849/1849 [==============================] - 75s 41ms/step - loss: 4.6646 - mean_squared_error: 4.6646 - val_loss: 140.2876 - val_mean_squared_error: 140.2876\n",
      "\n",
      "Epoch 00042: val_loss did not improve from 131.13502\n",
      "Epoch 43/150\n",
      "1849/1849 [==============================] - 75s 41ms/step - loss: 3.3764 - mean_squared_error: 3.3764 - val_loss: 146.6779 - val_mean_squared_error: 146.6779\n",
      "\n",
      "Epoch 00043: val_loss did not improve from 131.13502\n",
      "Epoch 44/150\n",
      "1849/1849 [==============================] - 75s 41ms/step - loss: 2.9027 - mean_squared_error: 2.9027 - val_loss: 145.7043 - val_mean_squared_error: 145.7043\n",
      "\n",
      "Epoch 00044: val_loss did not improve from 131.13502\n",
      "Epoch 45/150\n",
      "1849/1849 [==============================] - 75s 41ms/step - loss: 2.6877 - mean_squared_error: 2.6877 - val_loss: 143.4542 - val_mean_squared_error: 143.4542\n",
      "\n",
      "Epoch 00045: val_loss did not improve from 131.13502\n",
      "Epoch 46/150\n",
      "1849/1849 [==============================] - 75s 41ms/step - loss: 4.7397 - mean_squared_error: 4.7397 - val_loss: 121.8124 - val_mean_squared_error: 121.8124\n",
      "\n",
      "Epoch 00046: val_loss improved from 131.13502 to 121.81236, saving model to modelweights_Regression_live.hdf5\n",
      "Epoch 47/150\n",
      "1849/1849 [==============================] - 75s 41ms/step - loss: 5.7959 - mean_squared_error: 5.7959 - val_loss: 138.0448 - val_mean_squared_error: 138.0448\n",
      "\n",
      "Epoch 00047: val_loss did not improve from 121.81236\n",
      "Epoch 48/150\n",
      "1849/1849 [==============================] - 75s 41ms/step - loss: 2.8941 - mean_squared_error: 2.8941 - val_loss: 151.3956 - val_mean_squared_error: 151.3956\n",
      "\n",
      "Epoch 00048: val_loss did not improve from 121.81236\n",
      "Epoch 49/150\n",
      "1849/1849 [==============================] - 75s 41ms/step - loss: 2.5089 - mean_squared_error: 2.5089 - val_loss: 153.2326 - val_mean_squared_error: 153.2326\n",
      "\n",
      "Epoch 00049: val_loss did not improve from 121.81236\n",
      "Epoch 50/150\n",
      "1849/1849 [==============================] - 75s 41ms/step - loss: 2.2553 - mean_squared_error: 2.2553 - val_loss: 157.6200 - val_mean_squared_error: 157.6200\n",
      "\n",
      "Epoch 00050: val_loss did not improve from 121.81236\n",
      "Epoch 51/150\n",
      "1849/1849 [==============================] - 75s 41ms/step - loss: 4.6427 - mean_squared_error: 4.6427 - val_loss: 166.2815 - val_mean_squared_error: 166.2815\n",
      "\n",
      "Epoch 00051: val_loss did not improve from 121.81236\n",
      "Epoch 52/150\n",
      "1849/1849 [==============================] - 75s 41ms/step - loss: 2.7501 - mean_squared_error: 2.7501 - val_loss: 153.4884 - val_mean_squared_error: 153.4884\n",
      "\n",
      "Epoch 00052: val_loss did not improve from 121.81236\n",
      "Epoch 53/150\n",
      "1849/1849 [==============================] - 75s 41ms/step - loss: 2.6148 - mean_squared_error: 2.6148 - val_loss: 139.4888 - val_mean_squared_error: 139.4888\n",
      "\n",
      "Epoch 00053: val_loss did not improve from 121.81236\n",
      "Epoch 54/150\n",
      "1849/1849 [==============================] - 75s 41ms/step - loss: 3.7863 - mean_squared_error: 3.7863 - val_loss: 143.5838 - val_mean_squared_error: 143.5838\n",
      "\n",
      "Epoch 00054: val_loss did not improve from 121.81236\n",
      "Epoch 55/150\n",
      "1849/1849 [==============================] - 75s 41ms/step - loss: 5.3774 - mean_squared_error: 5.3774 - val_loss: 162.4076 - val_mean_squared_error: 162.4076\n",
      "\n",
      "Epoch 00055: val_loss did not improve from 121.81236\n",
      "Epoch 56/150\n",
      "1849/1849 [==============================] - 75s 41ms/step - loss: 3.7903 - mean_squared_error: 3.7903 - val_loss: 149.4842 - val_mean_squared_error: 149.4842\n",
      "\n",
      "Epoch 00056: val_loss did not improve from 121.81236\n",
      "Epoch 57/150\n",
      "1849/1849 [==============================] - 75s 41ms/step - loss: 2.4019 - mean_squared_error: 2.4019 - val_loss: 159.3074 - val_mean_squared_error: 159.3074\n",
      "\n",
      "Epoch 00057: val_loss did not improve from 121.81236\n",
      "Epoch 58/150\n",
      "1849/1849 [==============================] - 75s 41ms/step - loss: 1.3192 - mean_squared_error: 1.3192 - val_loss: 163.7722 - val_mean_squared_error: 163.7722\n",
      "\n",
      "Epoch 00058: val_loss did not improve from 121.81236\n",
      "Epoch 59/150\n",
      "1849/1849 [==============================] - 75s 41ms/step - loss: 1.2747 - mean_squared_error: 1.2747 - val_loss: 176.8421 - val_mean_squared_error: 176.8421\n",
      "\n",
      "Epoch 00059: val_loss did not improve from 121.81236\n",
      "Epoch 60/150\n",
      "1849/1849 [==============================] - 75s 41ms/step - loss: 2.9870 - mean_squared_error: 2.9870 - val_loss: 157.0439 - val_mean_squared_error: 157.0439\n",
      "\n",
      "Epoch 00060: val_loss did not improve from 121.81236\n",
      "Epoch 61/150\n",
      "1849/1849 [==============================] - 75s 41ms/step - loss: 4.3250 - mean_squared_error: 4.3250 - val_loss: 154.5224 - val_mean_squared_error: 154.5224\n",
      "\n",
      "Epoch 00061: val_loss did not improve from 121.81236\n",
      "Epoch 62/150\n",
      "1849/1849 [==============================] - 75s 41ms/step - loss: 2.3681 - mean_squared_error: 2.3681 - val_loss: 149.0847 - val_mean_squared_error: 149.0847\n",
      "\n",
      "Epoch 00062: val_loss did not improve from 121.81236\n",
      "Epoch 63/150\n",
      "1849/1849 [==============================] - 77s 41ms/step - loss: 1.5263 - mean_squared_error: 1.5263 - val_loss: 166.6631 - val_mean_squared_error: 166.6631\n",
      "\n",
      "Epoch 00063: val_loss did not improve from 121.81236\n",
      "Epoch 64/150\n",
      "1849/1849 [==============================] - 85s 46ms/step - loss: 1.6366 - mean_squared_error: 1.6366 - val_loss: 175.8193 - val_mean_squared_error: 175.8193\n",
      "\n",
      "Epoch 00064: val_loss did not improve from 121.81236\n",
      "Epoch 65/150\n",
      "1849/1849 [==============================] - 86s 46ms/step - loss: 1.5545 - mean_squared_error: 1.5545 - val_loss: 170.9288 - val_mean_squared_error: 170.9288\n",
      "\n",
      "Epoch 00065: val_loss did not improve from 121.81236\n",
      "Epoch 66/150\n",
      "1849/1849 [==============================] - 89s 48ms/step - loss: 2.1382 - mean_squared_error: 2.1382 - val_loss: 177.7504 - val_mean_squared_error: 177.7504\n",
      "\n",
      "Epoch 00066: val_loss did not improve from 121.81236\n",
      "Epoch 67/150\n",
      "1849/1849 [==============================] - 90s 49ms/step - loss: 2.5078 - mean_squared_error: 2.5078 - val_loss: 175.4752 - val_mean_squared_error: 175.4752\n",
      "\n",
      "Epoch 00067: val_loss did not improve from 121.81236\n",
      "Epoch 68/150\n",
      "1849/1849 [==============================] - 1635s 884ms/step - loss: 2.1812 - mean_squared_error: 2.1812 - val_loss: 173.0747 - val_mean_squared_error: 173.0747\n",
      "\n",
      "Epoch 00068: val_loss did not improve from 121.81236\n",
      "Epoch 69/150\n",
      "1849/1849 [==============================] - 76s 41ms/step - loss: 1.2213 - mean_squared_error: 1.2213 - val_loss: 154.7965 - val_mean_squared_error: 154.7965\n",
      "\n",
      "Epoch 00069: val_loss did not improve from 121.81236\n",
      "Epoch 70/150\n",
      "1849/1849 [==============================] - 75s 41ms/step - loss: 1.5353 - mean_squared_error: 1.5353 - val_loss: 174.7286 - val_mean_squared_error: 174.7286\n",
      "\n",
      "Epoch 00070: val_loss did not improve from 121.81236\n",
      "Epoch 71/150\n"
     ]
    },
    {
     "name": "stdout",
     "output_type": "stream",
     "text": [
      "1849/1849 [==============================] - 75s 41ms/step - loss: 2.1552 - mean_squared_error: 2.1552 - val_loss: 178.1108 - val_mean_squared_error: 178.1108\n",
      "\n",
      "Epoch 00071: val_loss did not improve from 121.81236\n",
      "Epoch 72/150\n",
      "1849/1849 [==============================] - 76s 41ms/step - loss: 8.2145 - mean_squared_error: 8.2145 - val_loss: 167.1043 - val_mean_squared_error: 167.1043\n",
      "\n",
      "Epoch 00072: val_loss did not improve from 121.81236\n",
      "Epoch 73/150\n",
      "1849/1849 [==============================] - 76s 41ms/step - loss: 4.1984 - mean_squared_error: 4.1984 - val_loss: 172.2173 - val_mean_squared_error: 172.2173\n",
      "\n",
      "Epoch 00073: val_loss did not improve from 121.81236\n",
      "Epoch 74/150\n",
      "1849/1849 [==============================] - 76s 41ms/step - loss: 1.7089 - mean_squared_error: 1.7089 - val_loss: 163.0012 - val_mean_squared_error: 163.0012\n",
      "\n",
      "Epoch 00074: val_loss did not improve from 121.81236\n",
      "Epoch 75/150\n",
      "1849/1849 [==============================] - 76s 41ms/step - loss: 2.2228 - mean_squared_error: 2.2228 - val_loss: 169.0712 - val_mean_squared_error: 169.0712\n",
      "\n",
      "Epoch 00075: val_loss did not improve from 121.81236\n",
      "Epoch 76/150\n",
      "1849/1849 [==============================] - 76s 41ms/step - loss: 1.6144 - mean_squared_error: 1.6144 - val_loss: 165.1437 - val_mean_squared_error: 165.1437\n",
      "\n",
      "Epoch 00076: val_loss did not improve from 121.81236\n",
      "Epoch 00076: early stopping\n"
     ]
    }
   ],
   "source": [
    "#fitting the model\n",
    "history =model.fit(X_Train,Y_Train,epochs=150,batch_size=16,validation_data=(X_Valid,Y_Valid),callbacks=callbacks)"
   ]
  },
  {
   "cell_type": "code",
   "execution_count": 27,
   "metadata": {
    "collapsed": true
   },
   "outputs": [],
   "source": [
    "# Reload Best Model for further usage....\n",
    "model.load_weights('modelweights_Regression_live.hdf5')"
   ]
  },
  {
   "cell_type": "code",
   "execution_count": 47,
   "metadata": {},
   "outputs": [
    {
     "data": {
      "text/plain": [
       "<matplotlib.figure.Figure at 0x2b2ee579748>"
      ]
     },
     "metadata": {},
     "output_type": "display_data"
    },
    {
     "data": {
      "image/png": "[encoded data removed]",
      "text/plain": [
       "<matplotlib.figure.Figure at 0x2b2ee4dc7b8>"
      ]
     },
     "metadata": {},
     "output_type": "display_data"
    }
   ],
   "source": [
    "# Plot Charts\n",
    "plot_chart_to_file(earlystop.stopped_epoch - patience, earlystop.best)"
   ]
  },
  {
   "cell_type": "code",
   "execution_count": 40,
   "metadata": {},
   "outputs": [
    {
     "name": "stdout",
     "output_type": "stream",
     "text": [
      "mean_squared_error 12.7374746989\n"
     ]
    }
   ],
   "source": [
    "scores_Train = model.evaluate(X_Train, Y_Train, verbose=0)\n",
    "print(model.metrics_names[1], scores_Train[1])"
   ]
  },
  {
   "cell_type": "code",
   "execution_count": 41,
   "metadata": {},
   "outputs": [
    {
     "name": "stdout",
     "output_type": "stream",
     "text": [
      "mean_squared_error 21.812443708\n"
     ]
    }
   ],
   "source": [
    "scores_Valid = model.evaluate(X_Valid,Y_Valid, verbose=0)\n",
    "print(model.metrics_names[1], scores_Valid[1])"
   ]
  },
  {
   "cell_type": "code",
   "execution_count": 42,
   "metadata": {},
   "outputs": [
    {
     "name": "stdout",
     "output_type": "stream",
     "text": [
      "mean_squared_error 87.430079753\n"
     ]
    }
   ],
   "source": [
    "scores = model.evaluate(X_Test, Y_Test, verbose=0)\n",
    "print(model.metrics_names[1], scores[1])"
   ]
  },
  {
   "cell_type": "code",
   "execution_count": null,
   "metadata": {},
   "outputs": [],
   "source": [
    "history.history"
   ]
  },
  {
   "cell_type": "code",
   "execution_count": null,
   "metadata": {
    "collapsed": true
   },
   "outputs": [],
   "source": []
  }
 ],
 "metadata": {
  "kernelspec": {
   "display_name": "Python 3",
   "language": "python",
   "name": "python3"
  },
  "language_info": {
   "codemirror_mode": {
    "name": "ipython",
    "version": 3
   },
   "file_extension": ".py",
   "mimetype": "text/x-python",
   "name": "python",
   "nbconvert_exporter": "python",
   "pygments_lexer": "ipython3",
   "version": "3.6.6"
  }
 },
 "nbformat": 4,
 "nbformat_minor": 2
}
