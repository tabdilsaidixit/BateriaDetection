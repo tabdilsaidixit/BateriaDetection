{
 "cells": [
  {
   "cell_type": "code",
   "execution_count": 1,
   "metadata": {},
   "outputs": [
    {
     "name": "stderr",
     "output_type": "stream",
     "text": [
      "Using TensorFlow backend.\n"
     ]
    }
   ],
   "source": [
    "import numpy as np\n",
    "import os\n",
    "import PIL\n",
    "from PIL import Image\n",
    "import matplotlib.pyplot as plt\n",
    "import pandas as pd\n",
    "\n",
    "from sklearn.model_selection import train_test_split\n",
    "from keras.models import Model\n",
    "from keras.layers import Flatten, Dense, Dropout\n",
    "from keras.layers import Convolution2D, MaxPooling2D\n",
    "from keras.layers import BatchNormalization, GlobalAveragePooling2D\n",
    "from keras.utils import to_categorical\n",
    "from keras.optimizers import Adam\n",
    "from keras.callbacks import EarlyStopping, ModelCheckpoint\n",
    "from sklearn.utils import shuffle\n",
    "from openpyxl import load_workbook\n",
    "from keras.applications.vgg16 import preprocess_input\n",
    "from keras.preprocessing.image import load_img\n",
    "from keras.preprocessing.image import img_to_array"
   ]
  },
  {
   "cell_type": "code",
   "execution_count": 2,
   "metadata": {},
   "outputs": [],
   "source": [
    "size = 224\n",
    "def read_image(f):\n",
    "    image = load_img(f, target_size=(224, 224))\n",
    "    # convert the image pixels to a numpy array\n",
    "    image = img_to_array(image)\n",
    "    image = preprocess_input(image)    \n",
    "    return(image)"
   ]
  },
  {
   "cell_type": "code",
   "execution_count": 3,
   "metadata": {},
   "outputs": [],
   "source": [
    "size = 224\n",
    "traindata_folderPath = 'TrainData_Augmentation\\\\'\n",
    "validdata_folderPath = 'ValidationData_Augmentation\\\\'\n",
    "testdata_folderpath='TestingData_Augmentation\\\\'\n",
    "columnName = 'bfrac'\n",
    "excelFileName = \"Perron_phenotype-GSU-training.xlsx\"\n",
    "sheetName = 'Total Database'\n",
    "imgPat = 'PIL-55a_3dayLBCR-3'"
   ]
  },
  {
   "cell_type": "code",
   "execution_count": 4,
   "metadata": {},
   "outputs": [],
   "source": [
    "train_filelist= [file for file in os.listdir(traindata_folderPath) if file.endswith('.jpeg')]\n",
    "valid_filelist= [file for file in os.listdir(validdata_folderPath) if file.endswith('.jpeg')]\n",
    "test_filelist= [file for file in os.listdir(testdata_folderpath) if file.endswith('.jpeg')]"
   ]
  },
  {
   "cell_type": "code",
   "execution_count": 5,
   "metadata": {},
   "outputs": [
    {
     "name": "stdout",
     "output_type": "stream",
     "text": [
      "Total number of files in directory: 1847\n",
      "Total number of files in directory: 637\n",
      "Total number of files in directory: 518\n"
     ]
    }
   ],
   "source": [
    "n_files = len(train_filelist)\n",
    "print('Total number of files in directory:', n_files)\n",
    "n_files = len(valid_filelist)\n",
    "print('Total number of files in directory:', n_files)\n",
    "n_files = len(test_filelist)\n",
    "print('Total number of files in directory:', n_files)"
   ]
  },
  {
   "cell_type": "code",
   "execution_count": 6,
   "metadata": {},
   "outputs": [],
   "source": [
    "wb = load_workbook(excelFileName)"
   ]
  },
  {
   "cell_type": "code",
   "execution_count": 7,
   "metadata": {},
   "outputs": [],
   "source": [
    "sheet = wb[sheetName]"
   ]
  },
  {
   "cell_type": "code",
   "execution_count": 8,
   "metadata": {},
   "outputs": [],
   "source": [
    "def getColumnNumber(columnName, sheet):\n",
    "    reqColNum = -1\n",
    "    maxColNumber = sheet.max_column + 1\n",
    "    for x in range(1, maxColNumber):\n",
    "        cellValue = sheet.cell(row=1, column=x).value\n",
    "        if(cellValue == columnName):\n",
    "                reqColNum = x\n",
    "                break\n",
    "    return(reqColNum)"
   ]
  },
  {
   "cell_type": "code",
   "execution_count": 9,
   "metadata": {},
   "outputs": [],
   "source": [
    "import re\n",
    "def getStrainNumber(imageName):\n",
    "    strt = imageName.find('-')\n",
    "    end = imageName.find('_')\n",
    "    imgNam = imageName[strt+1:end]\n",
    "    \n",
    "    imgNam = re.sub(r'[a-z]', '', imgNam)\n",
    "    return(imgNam)"
   ]
  },
  {
   "cell_type": "code",
   "execution_count": 10,
   "metadata": {},
   "outputs": [],
   "source": [
    "def getRowNumber(strainNumber, sheet, columnNumber):\n",
    "    \n",
    "    reqRowNum = -1\n",
    "    maxRowNumber = sheet.max_row + 1\n",
    "    strainNumbr = float(strainNumber)\n",
    "    \n",
    "    for x in range(1, maxRowNumber):\n",
    "        cellVal = sheet.cell(row=x, column=columnNumber).value\n",
    "        try:\n",
    "            cellValue = float(cellVal)            \n",
    "            if(cellValue == strainNumbr):\n",
    "                reqRowNum = x\n",
    "                break\n",
    "        except ValueError:\n",
    "            continue\n",
    "    return(reqRowNum) "
   ]
  },
  {
   "cell_type": "code",
   "execution_count": 11,
   "metadata": {},
   "outputs": [],
   "source": [
    "colNumber = getColumnNumber(columnName, sheet)"
   ]
  },
  {
   "cell_type": "code",
   "execution_count": 12,
   "metadata": {},
   "outputs": [
    {
     "name": "stdout",
     "output_type": "stream",
     "text": [
      "27\n"
     ]
    }
   ],
   "source": [
    "print(colNumber)"
   ]
  },
  {
   "cell_type": "code",
   "execution_count": 13,
   "metadata": {},
   "outputs": [],
   "source": [
    "strainColumnNumber = getColumnNumber('strain', sheet)"
   ]
  },
  {
   "cell_type": "code",
   "execution_count": 14,
   "metadata": {},
   "outputs": [
    {
     "name": "stdout",
     "output_type": "stream",
     "text": [
      "Reading train images ...\n"
     ]
    }
   ],
   "source": [
    "X_Train = []\n",
    "Y_Train = []\n",
    "print('Reading train images ...')\n",
    "for file in train_filelist:\n",
    "    imagepath = os.path.join(traindata_folderPath, file)\n",
    "    im = read_image(imagepath)\n",
    "    #print(im.shape)\n",
    "    req_ColNumber = colNumber\n",
    "    req_rowNumber = getRowNumber(getStrainNumber(file),sheet,strainColumnNumber)\n",
    "    try:\n",
    "        if(req_rowNumber>0 and req_ColNumber>0):\n",
    "            req_CellValue = sheet.cell(row=req_rowNumber, column=req_ColNumber).value\n",
    "            X_Train.append(im)\n",
    "            Y_Train.append(req_CellValue)\n",
    "    except:\n",
    "        print(\"Error\")\n",
    "        print(imagepath)\n",
    "        print(getStrainNumber(file))\n",
    "        print(req_ColNumber)\n",
    "        print(req_rowNumber)\n",
    "        print(req_CellValue)\n",
    "        print(\"Error\")\n",
    "        continue"
   ]
  },
  {
   "cell_type": "code",
   "execution_count": 15,
   "metadata": {},
   "outputs": [
    {
     "name": "stdout",
     "output_type": "stream",
     "text": [
      "Reading train images ...\n"
     ]
    }
   ],
   "source": [
    "X_Valid = []\n",
    "Y_Valid = []\n",
    "print('Reading train images ...')\n",
    "for file in valid_filelist:\n",
    "    imagepath = os.path.join(validdata_folderPath, file)\n",
    "    im = read_image(imagepath)\n",
    "    req_ColNumber = colNumber\n",
    "    req_rowNumber = getRowNumber(getStrainNumber(file),sheet,strainColumnNumber)\n",
    "    try:\n",
    "        if(req_rowNumber>0 and req_ColNumber>0):\n",
    "            req_CellValue = sheet.cell(row=req_rowNumber, column=req_ColNumber).value\n",
    "            X_Valid.append(im)\n",
    "            Y_Valid.append(req_CellValue)\n",
    "    except:\n",
    "        print(\"Error\")\n",
    "        print(imagepath)\n",
    "        print(getStrainNumber(file))\n",
    "        print(req_ColNumber)\n",
    "        print(req_rowNumber)\n",
    "        print(req_CellValue)\n",
    "        print(\"Error\")\n",
    "        continue"
   ]
  },
  {
   "cell_type": "code",
   "execution_count": 16,
   "metadata": {},
   "outputs": [
    {
     "name": "stdout",
     "output_type": "stream",
     "text": [
      "Reading train images ...\n"
     ]
    }
   ],
   "source": [
    "X_Test = []\n",
    "Y_Test = []\n",
    "print('Reading train images ...')\n",
    "for file in test_filelist:\n",
    "    imagepath = os.path.join(testdata_folderpath, file)\n",
    "    im = read_image(imagepath)\n",
    "    req_ColNumber = colNumber\n",
    "    req_rowNumber = getRowNumber(getStrainNumber(file),sheet,strainColumnNumber)\n",
    "    try:\n",
    "        if(req_rowNumber>0 and req_ColNumber>0):\n",
    "            req_CellValue = sheet.cell(row=req_rowNumber, column=req_ColNumber).value\n",
    "            X_Test.append(im)\n",
    "            Y_Test.append(req_CellValue)\n",
    "    except:\n",
    "        print(\"Error\")\n",
    "        print(imagepath)\n",
    "        print(getStrainNumber(file))\n",
    "        print(req_ColNumber)\n",
    "        print(req_rowNumber)\n",
    "        print(req_CellValue)\n",
    "        print(\"Error\")\n",
    "        continue"
   ]
  },
  {
   "cell_type": "code",
   "execution_count": 17,
   "metadata": {},
   "outputs": [
    {
     "name": "stdout",
     "output_type": "stream",
     "text": [
      "(1847, 224, 224, 3) X_Train Shape\n",
      "(1847, 1) Y_Train Shape\n",
      "(637, 224, 224, 3) X_Valid Shape\n",
      "(637, 1) Y_Valid Shape\n",
      "(518, 224, 224, 3) X_Test Shape\n",
      "(518, 1) Y_Test Shape\n"
     ]
    }
   ],
   "source": [
    "X_Train = np.array(X_Train)\n",
    "print(X_Train.shape, 'X_Train Shape')\n",
    "\n",
    "Y_Train = np.array(Y_Train).reshape(-1,1)\n",
    "print(Y_Train.shape, 'Y_Train Shape')\n",
    "\n",
    "X_Valid = np.array(X_Valid)\n",
    "print(X_Valid.shape, 'X_Valid Shape')\n",
    "\n",
    "Y_Valid = np.array(Y_Valid).reshape(-1,1)\n",
    "print(Y_Valid.shape, 'Y_Valid Shape')\n",
    "\n",
    "X_Test = np.array(X_Test)\n",
    "print(X_Test.shape, 'X_Test Shape')\n",
    "\n",
    "Y_Test = np.array(Y_Test).reshape(-1,1)\n",
    "print(Y_Test.shape, 'Y_Test Shape')"
   ]
  },
  {
   "cell_type": "code",
   "execution_count": 18,
   "metadata": {},
   "outputs": [],
   "source": [
    "# Store Model metrics\n",
    "history = {}"
   ]
  },
  {
   "cell_type": "code",
   "execution_count": 19,
   "metadata": {},
   "outputs": [],
   "source": [
    "# Plot Chart\n",
    "def plot_chart_to_file(best_epoch, best_value):\n",
    "\n",
    "    # Plot Chart\n",
    "    fig = plt.figure(dpi=300)\n",
    "\n",
    "    # Subplot for Loss\n",
    "    ax1 = fig.add_subplot(111)    \n",
    "    ax1.plot(history.history['mean_squared_error'], color='b', \n",
    "    label='TrainMSE')\n",
    "    ax1.plot(history.history['val_mean_squared_error'], color='g', \n",
    "    label='validationMSE')\n",
    "    ax1.set_xlabel('Epoch')\n",
    "    ax1.set_ylabel('MSE')\n",
    "    ax1.legend(loc='lower left', bbox_to_anchor=(0, -0.30))\n",
    "    #ax2 = ax1.twinx()\n",
    "    #ax2.plot(history.history['mean_squared_error'], color='y', \n",
    "    #label='TrainMSE Loss')\n",
    "    #ax2.plot(history.history['val_mean_squared_error'], color='c', \n",
    "    #label='validationMSE Loss')\n",
    "    ax1.plot(best_epoch, best_value, 'r+', label='Best Model')\n",
    "    #ax2.set_ylabel('Loss')   \n",
    "    #ax2.legend(loc='lower right', bbox_to_anchor=(1, -0.30))\n",
    "    # Set Title\n",
    "    plt.title('Model - Best Epoch (' + str(best_epoch) + ')')\n",
    "    plt.show()\n",
    "    # .. and save..\n",
    "    plt.savefig('Blog3_Model_Chart_Regression_MSE_dead.png', \n",
    "    bbox_inches=\"tight\")   "
   ]
  },
  {
   "cell_type": "code",
   "execution_count": 20,
   "metadata": {},
   "outputs": [],
   "source": [
    "\n",
    "# Get VGG16 architecture from keras.applications\n",
    "from keras.applications.vgg16 import VGG16,decode_predictions\n",
    "\n",
    "# downloading weights and convolution layers from vgg16\n",
    "trained_model= VGG16(include_top=False,weights='imagenet')\n",
    "# print(trained_model.summary())\n",
    "\n",
    "# defining mlp that needs to be appended to vgg16 convolution layers\n",
    "x = trained_model.output\n",
    "x = GlobalAveragePooling2D()(x)\n",
    "x = Dense(512,activation='relu')(x)\n",
    "x = Dense(256,activation='relu')(x)\n",
    "x = Dense(64,activation='relu')(x)\n",
    "output = Dense(1,activation='linear')(x)\n",
    "\n",
    "model= Model(inputs=trained_model.input,outputs=output)\n"
   ]
  },
  {
   "cell_type": "code",
   "execution_count": 21,
   "metadata": {},
   "outputs": [],
   "source": [
    "for layer in trained_model.layers:\n",
    "    layer.trainable=False"
   ]
  },
  {
   "cell_type": "code",
   "execution_count": 22,
   "metadata": {},
   "outputs": [
    {
     "name": "stdout",
     "output_type": "stream",
     "text": [
      "input_1 False\n",
      "block1_conv1 False\n",
      "block1_conv2 False\n",
      "block1_pool False\n",
      "block2_conv1 False\n",
      "block2_conv2 False\n",
      "block2_pool False\n",
      "block3_conv1 False\n",
      "block3_conv2 False\n",
      "block3_conv3 False\n",
      "block3_pool False\n",
      "block4_conv1 False\n",
      "block4_conv2 False\n",
      "block4_conv3 False\n",
      "block4_pool False\n",
      "block5_conv1 False\n",
      "block5_conv2 False\n",
      "block5_conv3 False\n",
      "block5_pool False\n"
     ]
    }
   ],
   "source": [
    "for layer in trained_model.layers:\n",
    "    print(layer.name,layer.trainable)"
   ]
  },
  {
   "cell_type": "code",
   "execution_count": null,
   "metadata": {},
   "outputs": [
    {
     "name": "stdout",
     "output_type": "stream",
     "text": [
      "_________________________________________________________________\n",
      "Layer (type)                 Output Shape              Param #   \n",
      "=================================================================\n",
      "input_1 (InputLayer)         (None, None, None, 3)     0         \n",
      "_________________________________________________________________\n",
      "block1_conv1 (Conv2D)        (None, None, None, 64)    1792      \n",
      "_________________________________________________________________\n",
      "block1_conv2 (Conv2D)        (None, None, None, 64)    36928     \n",
      "_________________________________________________________________\n",
      "block1_pool (MaxPooling2D)   (None, None, None, 64)    0         \n",
      "_________________________________________________________________\n",
      "block2_conv1 (Conv2D)        (None, None, None, 128)   73856     \n",
      "_________________________________________________________________\n",
      "block2_conv2 (Conv2D)        (None, None, None, 128)   147584    \n",
      "_________________________________________________________________\n",
      "block2_pool (MaxPooling2D)   (None, None, None, 128)   0         \n",
      "_________________________________________________________________\n",
      "block3_conv1 (Conv2D)        (None, None, None, 256)   295168    \n",
      "_________________________________________________________________\n",
      "block3_conv2 (Conv2D)        (None, None, None, 256)   590080    \n",
      "_________________________________________________________________\n",
      "block3_conv3 (Conv2D)        (None, None, None, 256)   590080    \n",
      "_________________________________________________________________\n",
      "block3_pool (MaxPooling2D)   (None, None, None, 256)   0         \n",
      "_________________________________________________________________\n",
      "block4_conv1 (Conv2D)        (None, None, None, 512)   1180160   \n",
      "_________________________________________________________________\n",
      "block4_conv2 (Conv2D)        (None, None, None, 512)   2359808   \n",
      "_________________________________________________________________\n",
      "block4_conv3 (Conv2D)        (None, None, None, 512)   2359808   \n",
      "_________________________________________________________________\n",
      "block4_pool (MaxPooling2D)   (None, None, None, 512)   0         \n",
      "_________________________________________________________________\n",
      "block5_conv1 (Conv2D)        (None, None, None, 512)   2359808   \n",
      "_________________________________________________________________\n",
      "block5_conv2 (Conv2D)        (None, None, None, 512)   2359808   \n",
      "_________________________________________________________________\n",
      "block5_conv3 (Conv2D)        (None, None, None, 512)   2359808   \n",
      "_________________________________________________________________\n",
      "block5_pool (MaxPooling2D)   (None, None, None, 512)   0         \n",
      "_________________________________________________________________\n",
      "global_average_pooling2d_1 ( (None, 512)               0         \n",
      "_________________________________________________________________\n",
      "dense_1 (Dense)              (None, 512)               262656    \n",
      "_________________________________________________________________\n",
      "dense_2 (Dense)              (None, 256)               131328    \n",
      "_________________________________________________________________\n",
      "dense_3 (Dense)              (None, 64)                16448     \n",
      "_________________________________________________________________\n",
      "dense_4 (Dense)              (None, 1)                 65        \n",
      "=================================================================\n",
      "Total params: 15,125,185\n",
      "Trainable params: 410,497\n",
      "Non-trainable params: 14,714,688\n",
      "_________________________________________________________________\n"
     ]
    }
   ],
   "source": [
    "model.summary()"
   ]
  },
  {
   "cell_type": "code",
   "execution_count": 23,
   "metadata": {},
   "outputs": [],
   "source": [
    "#compiling the model\n",
    "adam = Adam(lr=0.001)\n",
    "model.compile(loss='mean_squared_error',metrics=['MSE'],optimizer=adam)\n",
    "patience = 30\n",
    "earlystop = EarlyStopping(monitor=\"val_loss\",min_delta=0,mode=\"min\",patience=patience,verbose=1)\n",
    "checkpoint = ModelCheckpoint('modelweights_Regression_bfrac.hdf5', \n",
    "                              monitor='val_loss', \n",
    "                              verbose=1, \n",
    "                              save_best_only=True, \n",
    "                              mode='min')\n",
    "callbacks = [checkpoint,earlystop]"
   ]
  },
  {
   "cell_type": "code",
   "execution_count": 24,
   "metadata": {},
   "outputs": [
    {
     "name": "stdout",
     "output_type": "stream",
     "text": [
      "_________________________________________________________________\n",
      "Layer (type)                 Output Shape              Param #   \n",
      "=================================================================\n",
      "input_1 (InputLayer)         (None, None, None, 3)     0         \n",
      "_________________________________________________________________\n",
      "block1_conv1 (Conv2D)        (None, None, None, 64)    1792      \n",
      "_________________________________________________________________\n",
      "block1_conv2 (Conv2D)        (None, None, None, 64)    36928     \n",
      "_________________________________________________________________\n",
      "block1_pool (MaxPooling2D)   (None, None, None, 64)    0         \n",
      "_________________________________________________________________\n",
      "block2_conv1 (Conv2D)        (None, None, None, 128)   73856     \n",
      "_________________________________________________________________\n",
      "block2_conv2 (Conv2D)        (None, None, None, 128)   147584    \n",
      "_________________________________________________________________\n",
      "block2_pool (MaxPooling2D)   (None, None, None, 128)   0         \n",
      "_________________________________________________________________\n",
      "block3_conv1 (Conv2D)        (None, None, None, 256)   295168    \n",
      "_________________________________________________________________\n",
      "block3_conv2 (Conv2D)        (None, None, None, 256)   590080    \n",
      "_________________________________________________________________\n",
      "block3_conv3 (Conv2D)        (None, None, None, 256)   590080    \n",
      "_________________________________________________________________\n",
      "block3_pool (MaxPooling2D)   (None, None, None, 256)   0         \n",
      "_________________________________________________________________\n",
      "block4_conv1 (Conv2D)        (None, None, None, 512)   1180160   \n",
      "_________________________________________________________________\n",
      "block4_conv2 (Conv2D)        (None, None, None, 512)   2359808   \n",
      "_________________________________________________________________\n",
      "block4_conv3 (Conv2D)        (None, None, None, 512)   2359808   \n",
      "_________________________________________________________________\n",
      "block4_pool (MaxPooling2D)   (None, None, None, 512)   0         \n",
      "_________________________________________________________________\n",
      "block5_conv1 (Conv2D)        (None, None, None, 512)   2359808   \n",
      "_________________________________________________________________\n",
      "block5_conv2 (Conv2D)        (None, None, None, 512)   2359808   \n",
      "_________________________________________________________________\n",
      "block5_conv3 (Conv2D)        (None, None, None, 512)   2359808   \n",
      "_________________________________________________________________\n",
      "block5_pool (MaxPooling2D)   (None, None, None, 512)   0         \n",
      "_________________________________________________________________\n",
      "global_average_pooling2d_1 ( (None, 512)               0         \n",
      "_________________________________________________________________\n",
      "dense_1 (Dense)              (None, 512)               262656    \n",
      "_________________________________________________________________\n",
      "dense_2 (Dense)              (None, 256)               131328    \n",
      "_________________________________________________________________\n",
      "dense_3 (Dense)              (None, 64)                16448     \n",
      "_________________________________________________________________\n",
      "dense_4 (Dense)              (None, 1)                 65        \n",
      "=================================================================\n",
      "Total params: 15,125,185\n",
      "Trainable params: 410,497\n",
      "Non-trainable params: 14,714,688\n",
      "_________________________________________________________________\n"
     ]
    }
   ],
   "source": [
    "model.summary()"
   ]
  },
  {
   "cell_type": "code",
   "execution_count": null,
   "metadata": {},
   "outputs": [
    {
     "name": "stdout",
     "output_type": "stream",
     "text": [
      "Train on 1847 samples, validate on 637 samples\n",
      "Epoch 1/50\n",
      "1847/1847 [==============================] - 4071s 2s/step - loss: 0.6735 - mean_squared_error: 0.6735 - val_loss: 0.0259 - val_mean_squared_error: 0.0259\n",
      "\n",
      "Epoch 00001: val_loss improved from inf to 0.02590, saving model to modelweights_Regression_bfrac.hdf5\n",
      "Epoch 2/50\n",
      "1847/1847 [==============================] - 1501s 813ms/step - loss: 0.0057 - mean_squared_error: 0.0057 - val_loss: 0.0240 - val_mean_squared_error: 0.0240\n",
      "\n",
      "Epoch 00002: val_loss improved from 0.02590 to 0.02396, saving model to modelweights_Regression_bfrac.hdf5\n",
      "Epoch 3/50\n",
      "1847/1847 [==============================] - 1543s 836ms/step - loss: 0.0040 - mean_squared_error: 0.0040 - val_loss: 0.0193 - val_mean_squared_error: 0.0193\n",
      "\n",
      "Epoch 00003: val_loss improved from 0.02396 to 0.01927, saving model to modelweights_Regression_bfrac.hdf5\n",
      "Epoch 4/50\n",
      "1847/1847 [==============================] - 1401s 758ms/step - loss: 0.0027 - mean_squared_error: 0.0027 - val_loss: 0.0170 - val_mean_squared_error: 0.0170\n",
      "\n",
      "Epoch 00004: val_loss improved from 0.01927 to 0.01701, saving model to modelweights_Regression_bfrac.hdf5\n",
      "Epoch 5/50\n",
      "1847/1847 [==============================] - 1307s 707ms/step - loss: 0.0023 - mean_squared_error: 0.0023 - val_loss: 0.0185 - val_mean_squared_error: 0.0185\n",
      "\n",
      "Epoch 00005: val_loss did not improve from 0.01701\n",
      "Epoch 6/50\n",
      "1847/1847 [==============================] - 1342s 726ms/step - loss: 0.0018 - mean_squared_error: 0.0018 - val_loss: 0.0131 - val_mean_squared_error: 0.0131\n",
      "\n",
      "Epoch 00006: val_loss improved from 0.01701 to 0.01307, saving model to modelweights_Regression_bfrac.hdf5\n",
      "Epoch 7/50\n",
      "1847/1847 [==============================] - 1747s 946ms/step - loss: 0.0017 - mean_squared_error: 0.0017 - val_loss: 0.0157 - val_mean_squared_error: 0.0157\n",
      "\n",
      "Epoch 00007: val_loss did not improve from 0.01307\n",
      "Epoch 8/50\n",
      "1847/1847 [==============================] - 1757s 951ms/step - loss: 0.0023 - mean_squared_error: 0.0023 - val_loss: 0.0160 - val_mean_squared_error: 0.0160\n",
      "\n",
      "Epoch 00008: val_loss did not improve from 0.01307\n",
      "Epoch 9/50\n",
      "1847/1847 [==============================] - 1676s 908ms/step - loss: 0.0016 - mean_squared_error: 0.0016 - val_loss: 0.0131 - val_mean_squared_error: 0.0131\n",
      "\n",
      "Epoch 00009: val_loss did not improve from 0.01307\n",
      "Epoch 10/50\n",
      "1847/1847 [==============================] - 1664s 901ms/step - loss: 0.0011 - mean_squared_error: 0.0011 - val_loss: 0.0121 - val_mean_squared_error: 0.0121\n",
      "\n",
      "Epoch 00010: val_loss improved from 0.01307 to 0.01209, saving model to modelweights_Regression_bfrac.hdf5\n",
      "Epoch 11/50\n",
      "1847/1847 [==============================] - 1559s 844ms/step - loss: 7.7001e-04 - mean_squared_error: 7.7001e-04 - val_loss: 0.0121 - val_mean_squared_error: 0.0121\n",
      "\n",
      "Epoch 00011: val_loss improved from 0.01209 to 0.01206, saving model to modelweights_Regression_bfrac.hdf5\n",
      "Epoch 12/50\n",
      "1847/1847 [==============================] - 1555s 842ms/step - loss: 8.0257e-04 - mean_squared_error: 8.0257e-04 - val_loss: 0.0129 - val_mean_squared_error: 0.0129\n",
      "\n",
      "Epoch 00012: val_loss did not improve from 0.01206\n",
      "Epoch 13/50\n",
      "1847/1847 [==============================] - 1407s 762ms/step - loss: 9.9394e-04 - mean_squared_error: 9.9394e-04 - val_loss: 0.0139 - val_mean_squared_error: 0.0139\n",
      "\n",
      "Epoch 00013: val_loss did not improve from 0.01206\n",
      "Epoch 14/50\n",
      "1847/1847 [==============================] - 1369s 741ms/step - loss: 0.0014 - mean_squared_error: 0.0014 - val_loss: 0.0123 - val_mean_squared_error: 0.0123\n",
      "\n",
      "Epoch 00014: val_loss did not improve from 0.01206\n",
      "Epoch 15/50\n",
      "1847/1847 [==============================] - 1527s 826ms/step - loss: 6.9726e-04 - mean_squared_error: 6.9726e-04 - val_loss: 0.0119 - val_mean_squared_error: 0.0119\n",
      "\n",
      "Epoch 00015: val_loss improved from 0.01206 to 0.01187, saving model to modelweights_Regression_bfrac.hdf5\n",
      "Epoch 16/50\n",
      "1847/1847 [==============================] - 1386s 751ms/step - loss: 8.4604e-04 - mean_squared_error: 8.4604e-04 - val_loss: 0.0117 - val_mean_squared_error: 0.0117\n",
      "\n",
      "Epoch 00016: val_loss improved from 0.01187 to 0.01170, saving model to modelweights_Regression_bfrac.hdf5\n",
      "Epoch 17/50\n",
      "1847/1847 [==============================] - 1326s 718ms/step - loss: 0.0011 - mean_squared_error: 0.0011 - val_loss: 0.0120 - val_mean_squared_error: 0.0120\n",
      "\n",
      "Epoch 00017: val_loss did not improve from 0.01170\n",
      "Epoch 18/50\n",
      "1847/1847 [==============================] - 1315s 712ms/step - loss: 0.0014 - mean_squared_error: 0.0014 - val_loss: 0.0189 - val_mean_squared_error: 0.0189\n",
      "\n",
      "Epoch 00018: val_loss did not improve from 0.01170\n",
      "Epoch 19/50\n",
      "1847/1847 [==============================] - 1317s 713ms/step - loss: 0.0020 - mean_squared_error: 0.0020 - val_loss: 0.0118 - val_mean_squared_error: 0.0118\n",
      "\n",
      "Epoch 00019: val_loss did not improve from 0.01170\n",
      "Epoch 20/50\n",
      "1847/1847 [==============================] - 1313s 711ms/step - loss: 8.3007e-04 - mean_squared_error: 8.3007e-04 - val_loss: 0.0114 - val_mean_squared_error: 0.0114\n",
      "\n",
      "Epoch 00020: val_loss improved from 0.01170 to 0.01137, saving model to modelweights_Regression_bfrac.hdf5\n",
      "Epoch 21/50\n",
      "1847/1847 [==============================] - 1318s 713ms/step - loss: 7.5472e-04 - mean_squared_error: 7.5472e-04 - val_loss: 0.0123 - val_mean_squared_error: 0.0123\n",
      "\n",
      "Epoch 00021: val_loss did not improve from 0.01137\n",
      "Epoch 22/50\n",
      "1847/1847 [==============================] - 1314s 711ms/step - loss: 4.7161e-04 - mean_squared_error: 4.7161e-04 - val_loss: 0.0122 - val_mean_squared_error: 0.0122\n",
      "\n",
      "Epoch 00022: val_loss did not improve from 0.01137\n",
      "Epoch 23/50\n",
      "1847/1847 [==============================] - 1319s 714ms/step - loss: 8.4480e-04 - mean_squared_error: 8.4480e-04 - val_loss: 0.0120 - val_mean_squared_error: 0.0120\n",
      "\n",
      "Epoch 00023: val_loss did not improve from 0.01137\n",
      "Epoch 24/50\n",
      "1847/1847 [==============================] - 1314s 711ms/step - loss: 9.6813e-04 - mean_squared_error: 9.6813e-04 - val_loss: 0.0103 - val_mean_squared_error: 0.0103\n",
      "\n",
      "Epoch 00024: val_loss improved from 0.01137 to 0.01029, saving model to modelweights_Regression_bfrac.hdf5\n",
      "Epoch 25/50\n",
      "1847/1847 [==============================] - 1315s 712ms/step - loss: 5.2154e-04 - mean_squared_error: 5.2154e-04 - val_loss: 0.0109 - val_mean_squared_error: 0.0109\n",
      "\n",
      "Epoch 00025: val_loss did not improve from 0.01029\n",
      "Epoch 26/50\n",
      "1847/1847 [==============================] - 1311s 710ms/step - loss: 7.5982e-04 - mean_squared_error: 7.5982e-04 - val_loss: 0.0099 - val_mean_squared_error: 0.0099\n",
      "\n",
      "Epoch 00026: val_loss improved from 0.01029 to 0.00987, saving model to modelweights_Regression_bfrac.hdf5\n",
      "Epoch 27/50\n",
      "1847/1847 [==============================] - 1316s 712ms/step - loss: 4.4116e-04 - mean_squared_error: 4.4116e-04 - val_loss: 0.0103 - val_mean_squared_error: 0.0103\n",
      "\n",
      "Epoch 00027: val_loss did not improve from 0.00987\n",
      "Epoch 28/50\n",
      "1847/1847 [==============================] - 1323s 717ms/step - loss: 5.3130e-04 - mean_squared_error: 5.3130e-04 - val_loss: 0.0120 - val_mean_squared_error: 0.0120\n",
      "\n",
      "Epoch 00028: val_loss did not improve from 0.00987\n",
      "Epoch 29/50\n",
      "1847/1847 [==============================] - 4453s 2s/step - loss: 0.0022 - mean_squared_error: 0.0022 - val_loss: 0.0120 - val_mean_squared_error: 0.0120\n",
      "\n",
      "Epoch 00029: val_loss did not improve from 0.00987\n",
      "Epoch 30/50\n",
      "1847/1847 [==============================] - 1875s 1s/step - loss: 0.0020 - mean_squared_error: 0.0020 - val_loss: 0.0110 - val_mean_squared_error: 0.0110\n",
      "\n",
      "Epoch 00030: val_loss did not improve from 0.00987\n",
      "Epoch 31/50\n",
      "1847/1847 [==============================] - 1873s 1s/step - loss: 9.3794e-04 - mean_squared_error: 9.3794e-04 - val_loss: 0.0125 - val_mean_squared_error: 0.0125\n",
      "\n",
      "Epoch 00031: val_loss did not improve from 0.00987\n",
      "Epoch 32/50\n",
      "1847/1847 [==============================] - 1848s 1s/step - loss: 5.4922e-04 - mean_squared_error: 5.4922e-04 - val_loss: 0.0128 - val_mean_squared_error: 0.0128\n",
      "\n",
      "Epoch 00032: val_loss did not improve from 0.00987\n",
      "Epoch 33/50\n",
      "1847/1847 [==============================] - 1776s 962ms/step - loss: 4.7871e-04 - mean_squared_error: 4.7871e-04 - val_loss: 0.0102 - val_mean_squared_error: 0.0102\n",
      "\n",
      "Epoch 00033: val_loss did not improve from 0.00987\n",
      "Epoch 34/50\n",
      "1840/1847 [============================>.] - ETA: 5s - loss: 2.7352e-04 - mean_squared_error: 2.7352e-04 "
     ]
    }
   ],
   "source": [
    "#fitting the model\n",
    "history =model.fit(X_Train,Y_Train,epochs=50,batch_size=16,validation_data=(X_Valid,Y_Valid),callbacks=callbacks)"
   ]
  },
  {
   "cell_type": "code",
   "execution_count": 25,
   "metadata": {},
   "outputs": [],
   "source": [
    "# Reload Best Model for further usage....\n",
    "model.load_weights('modelweights_Regression_bfrac.hdf5')"
   ]
  },
  {
   "cell_type": "code",
   "execution_count": 27,
   "metadata": {},
   "outputs": [
    {
     "name": "stdout",
     "output_type": "stream",
     "text": [
      "mean_squared_error 0.0010053146696927073\n"
     ]
    }
   ],
   "source": [
    "scores_Train = model.evaluate(X_Train, Y_Train, verbose=0)\n",
    "print(model.metrics_names[1], scores_Train[1])"
   ]
  },
  {
   "cell_type": "code",
   "execution_count": 28,
   "metadata": {},
   "outputs": [
    {
     "name": "stdout",
     "output_type": "stream",
     "text": [
      "mean_squared_error 0.009871702635400523\n"
     ]
    }
   ],
   "source": [
    "scores_Valid = model.evaluate(X_Valid,Y_Valid, verbose=0)\n",
    "print(model.metrics_names[1], scores_Valid[1])"
   ]
  },
  {
   "cell_type": "code",
   "execution_count": 29,
   "metadata": {},
   "outputs": [
    {
     "name": "stdout",
     "output_type": "stream",
     "text": [
      "mean_squared_error 0.009780409235262733\n"
     ]
    }
   ],
   "source": [
    "scores = model.evaluate(X_Test, Y_Test, verbose=0)\n",
    "print(model.metrics_names[1], scores[1])"
   ]
  },
  {
   "cell_type": "code",
   "execution_count": null,
   "metadata": {},
   "outputs": [],
   "source": []
  }
 ],
 "metadata": {
  "kernelspec": {
   "display_name": "Python 3",
   "language": "python",
   "name": "python3"
  },
  "language_info": {
   "codemirror_mode": {
    "name": "ipython",
    "version": 3
   },
   "file_extension": ".py",
   "mimetype": "text/x-python",
   "name": "python",
   "nbconvert_exporter": "python",
   "pygments_lexer": "ipython3",
   "version": "3.6.6"
  }
 },
 "nbformat": 4,
 "nbformat_minor": 2
}
