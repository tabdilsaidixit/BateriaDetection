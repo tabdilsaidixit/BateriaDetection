{
 "cells": [
  {
   "cell_type": "code",
   "execution_count": 1,
   "metadata": {},
   "outputs": [
    {
     "name": "stderr",
     "output_type": "stream",
     "text": [
      "Using TensorFlow backend.\n"
     ]
    }
   ],
   "source": [
    "import numpy as np\n",
    "import os\n",
    "import PIL\n",
    "from PIL import Image\n",
    "import matplotlib.pyplot as plt\n",
    "import pandas as pd\n",
    "\n",
    "from sklearn.model_selection import train_test_split\n",
    "from keras.models import Model\n",
    "from keras.layers import Flatten, Dense, Dropout\n",
    "from keras.layers import Convolution2D, MaxPooling2D\n",
    "from keras.layers import BatchNormalization, GlobalAveragePooling2D\n",
    "from keras.utils import to_categorical\n",
    "from keras.optimizers import Adam\n",
    "from keras.callbacks import EarlyStopping, ModelCheckpoint\n",
    "from sklearn.utils import shuffle\n",
    "from openpyxl import load_workbook\n",
    "from keras.applications.vgg16 import preprocess_input\n",
    "from keras.preprocessing.image import load_img\n",
    "from keras.preprocessing.image import img_to_array"
   ]
  },
  {
   "cell_type": "code",
   "execution_count": 2,
   "metadata": {},
   "outputs": [],
   "source": [
    "size = 224\n",
    "def read_image(f):\n",
    "    image = load_img(f, target_size=(224, 224))\n",
    "    # convert the image pixels to a numpy array\n",
    "    image = img_to_array(image)\n",
    "    image = preprocess_input(image)    \n",
    "    return(image)"
   ]
  },
  {
   "cell_type": "code",
   "execution_count": 3,
   "metadata": {},
   "outputs": [],
   "source": [
    "size = 224\n",
    "traindata_folderPath = 'TrainData_Augmentation\\\\'\n",
    "validdata_folderPath = 'ValidationData_Augmentation\\\\'\n",
    "testdata_folderpath='TestingData_Augmentation\\\\'\n",
    "columnName = 'od.harvest'\n",
    "excelFileName = \"Perron_phenotype-GSU-training.xlsx\"\n",
    "sheetName = 'Total Database'\n",
    "imgPat = 'PIL-55a_3dayLBCR-3'"
   ]
  },
  {
   "cell_type": "code",
   "execution_count": 4,
   "metadata": {},
   "outputs": [],
   "source": [
    "train_filelist= [file for file in os.listdir(traindata_folderPath) if file.endswith('.jpeg')]\n",
    "valid_filelist= [file for file in os.listdir(validdata_folderPath) if file.endswith('.jpeg')]\n",
    "test_filelist= [file for file in os.listdir(testdata_folderpath) if file.endswith('.jpeg')]"
   ]
  },
  {
   "cell_type": "code",
   "execution_count": 5,
   "metadata": {},
   "outputs": [
    {
     "name": "stdout",
     "output_type": "stream",
     "text": [
      "Total number of files in directory: 1847\n",
      "Total number of files in directory: 637\n",
      "Total number of files in directory: 518\n"
     ]
    }
   ],
   "source": [
    "n_files = len(train_filelist)\n",
    "print('Total number of files in directory:', n_files)\n",
    "n_files = len(valid_filelist)\n",
    "print('Total number of files in directory:', n_files)\n",
    "n_files = len(test_filelist)\n",
    "print('Total number of files in directory:', n_files)"
   ]
  },
  {
   "cell_type": "code",
   "execution_count": 6,
   "metadata": {},
   "outputs": [],
   "source": [
    "wb = load_workbook(excelFileName)"
   ]
  },
  {
   "cell_type": "code",
   "execution_count": 7,
   "metadata": {},
   "outputs": [],
   "source": [
    "sheet = wb[sheetName]"
   ]
  },
  {
   "cell_type": "code",
   "execution_count": 8,
   "metadata": {},
   "outputs": [],
   "source": [
    "def getColumnNumber(columnName, sheet):\n",
    "    reqColNum = -1\n",
    "    maxColNumber = sheet.max_column + 1\n",
    "    for x in range(1, maxColNumber):\n",
    "        cellValue = sheet.cell(row=1, column=x).value\n",
    "        if(cellValue == columnName):\n",
    "                reqColNum = x\n",
    "                break\n",
    "    return(reqColNum)"
   ]
  },
  {
   "cell_type": "code",
   "execution_count": 9,
   "metadata": {},
   "outputs": [],
   "source": [
    "import re\n",
    "def getStrainNumber(imageName):\n",
    "    strt = imageName.find('-')\n",
    "    end = imageName.find('_')\n",
    "    imgNam = imageName[strt+1:end]\n",
    "    \n",
    "    imgNam = re.sub(r'[a-z]', '', imgNam)\n",
    "    return(imgNam)"
   ]
  },
  {
   "cell_type": "code",
   "execution_count": 10,
   "metadata": {},
   "outputs": [],
   "source": [
    "def getRowNumber(strainNumber, sheet, columnNumber):\n",
    "    \n",
    "    reqRowNum = -1\n",
    "    maxRowNumber = sheet.max_row + 1\n",
    "    strainNumbr = float(strainNumber)\n",
    "    \n",
    "    for x in range(1, maxRowNumber):\n",
    "        cellVal = sheet.cell(row=x, column=columnNumber).value\n",
    "        try:\n",
    "            cellValue = float(cellVal)            \n",
    "            if(cellValue == strainNumbr):\n",
    "                reqRowNum = x\n",
    "                break\n",
    "        except ValueError:\n",
    "            continue\n",
    "    return(reqRowNum) "
   ]
  },
  {
   "cell_type": "code",
   "execution_count": 11,
   "metadata": {},
   "outputs": [],
   "source": [
    "colNumber = getColumnNumber(columnName, sheet)"
   ]
  },
  {
   "cell_type": "code",
   "execution_count": 12,
   "metadata": {},
   "outputs": [
    {
     "name": "stdout",
     "output_type": "stream",
     "text": [
      "7\n"
     ]
    }
   ],
   "source": [
    "print(colNumber)"
   ]
  },
  {
   "cell_type": "code",
   "execution_count": 13,
   "metadata": {},
   "outputs": [],
   "source": [
    "strainColumnNumber = getColumnNumber('strain', sheet)"
   ]
  },
  {
   "cell_type": "code",
   "execution_count": 14,
   "metadata": {},
   "outputs": [
    {
     "name": "stdout",
     "output_type": "stream",
     "text": [
      "Reading train images ...\n"
     ]
    }
   ],
   "source": [
    "X_Train = []\n",
    "Y_Train = []\n",
    "print('Reading train images ...')\n",
    "for file in train_filelist:\n",
    "    imagepath = os.path.join(traindata_folderPath, file)\n",
    "    im = read_image(imagepath)\n",
    "    #print(im.shape)\n",
    "    req_ColNumber = colNumber\n",
    "    req_rowNumber = getRowNumber(getStrainNumber(file),sheet,strainColumnNumber)\n",
    "    try:\n",
    "        if(req_rowNumber>0 and req_ColNumber>0):\n",
    "            req_CellValue = sheet.cell(row=req_rowNumber, column=req_ColNumber).value\n",
    "            X_Train.append(im)\n",
    "            Y_Train.append(req_CellValue)\n",
    "    except:\n",
    "        print(\"Error\")\n",
    "        print(imagepath)\n",
    "        print(getStrainNumber(file))\n",
    "        print(req_ColNumber)\n",
    "        print(req_rowNumber)\n",
    "        print(req_CellValue)\n",
    "        print(\"Error\")\n",
    "        continue"
   ]
  },
  {
   "cell_type": "code",
   "execution_count": 15,
   "metadata": {},
   "outputs": [
    {
     "name": "stdout",
     "output_type": "stream",
     "text": [
      "Reading train images ...\n"
     ]
    }
   ],
   "source": [
    "X_Valid = []\n",
    "Y_Valid = []\n",
    "print('Reading train images ...')\n",
    "for file in valid_filelist:\n",
    "    imagepath = os.path.join(validdata_folderPath, file)\n",
    "    im = read_image(imagepath)\n",
    "    req_ColNumber = colNumber\n",
    "    req_rowNumber = getRowNumber(getStrainNumber(file),sheet,strainColumnNumber)\n",
    "    try:\n",
    "        if(req_rowNumber>0 and req_ColNumber>0):\n",
    "            req_CellValue = sheet.cell(row=req_rowNumber, column=req_ColNumber).value\n",
    "            X_Valid.append(im)\n",
    "            Y_Valid.append(req_CellValue)\n",
    "    except:\n",
    "        print(\"Error\")\n",
    "        print(imagepath)\n",
    "        print(getStrainNumber(file))\n",
    "        print(req_ColNumber)\n",
    "        print(req_rowNumber)\n",
    "        print(req_CellValue)\n",
    "        print(\"Error\")\n",
    "        continue"
   ]
  },
  {
   "cell_type": "code",
   "execution_count": 16,
   "metadata": {},
   "outputs": [
    {
     "name": "stdout",
     "output_type": "stream",
     "text": [
      "Reading train images ...\n"
     ]
    }
   ],
   "source": [
    "X_Test = []\n",
    "Y_Test = []\n",
    "print('Reading train images ...')\n",
    "for file in test_filelist:\n",
    "    imagepath = os.path.join(testdata_folderpath, file)\n",
    "    im = read_image(imagepath)\n",
    "    req_ColNumber = colNumber\n",
    "    req_rowNumber = getRowNumber(getStrainNumber(file),sheet,strainColumnNumber)\n",
    "    try:\n",
    "        if(req_rowNumber>0 and req_ColNumber>0):\n",
    "            req_CellValue = sheet.cell(row=req_rowNumber, column=req_ColNumber).value\n",
    "            X_Test.append(im)\n",
    "            Y_Test.append(req_CellValue)\n",
    "    except:\n",
    "        print(\"Error\")\n",
    "        print(imagepath)\n",
    "        print(getStrainNumber(file))\n",
    "        print(req_ColNumber)\n",
    "        print(req_rowNumber)\n",
    "        print(req_CellValue)\n",
    "        print(\"Error\")\n",
    "        continue"
   ]
  },
  {
   "cell_type": "code",
   "execution_count": 17,
   "metadata": {},
   "outputs": [
    {
     "name": "stdout",
     "output_type": "stream",
     "text": [
      "(1847, 224, 224, 3) X_Train Shape\n",
      "(1847, 1) Y_Train Shape\n",
      "(637, 224, 224, 3) X_Valid Shape\n",
      "(637, 1) Y_Valid Shape\n",
      "(518, 224, 224, 3) X_Test Shape\n",
      "(518, 1) Y_Test Shape\n"
     ]
    }
   ],
   "source": [
    "X_Train = np.array(X_Train)\n",
    "print(X_Train.shape, 'X_Train Shape')\n",
    "\n",
    "Y_Train = np.array(Y_Train).reshape(-1,1)\n",
    "print(Y_Train.shape, 'Y_Train Shape')\n",
    "\n",
    "X_Valid = np.array(X_Valid)\n",
    "print(X_Valid.shape, 'X_Valid Shape')\n",
    "\n",
    "Y_Valid = np.array(Y_Valid).reshape(-1,1)\n",
    "print(Y_Valid.shape, 'Y_Valid Shape')\n",
    "\n",
    "X_Test = np.array(X_Test)\n",
    "print(X_Test.shape, 'X_Test Shape')\n",
    "\n",
    "Y_Test = np.array(Y_Test).reshape(-1,1)\n",
    "print(Y_Test.shape, 'Y_Test Shape')"
   ]
  },
  {
   "cell_type": "code",
   "execution_count": 18,
   "metadata": {},
   "outputs": [],
   "source": [
    "# Store Model metrics\n",
    "history = {}"
   ]
  },
  {
   "cell_type": "code",
   "execution_count": 19,
   "metadata": {},
   "outputs": [],
   "source": [
    "# Plot Chart\n",
    "def plot_chart_to_file(best_epoch, best_value):\n",
    "\n",
    "    # Plot Chart\n",
    "    fig = plt.figure(dpi=300)\n",
    "\n",
    "    # Subplot for Loss\n",
    "    ax1 = fig.add_subplot(111)    \n",
    "    ax1.plot(history.history['mean_squared_error'], color='b', \n",
    "    label='TrainMSE')\n",
    "    ax1.plot(history.history['val_mean_squared_error'], color='g', \n",
    "    label='validationMSE')\n",
    "    ax1.set_xlabel('Epoch')\n",
    "    ax1.set_ylabel('MSE')\n",
    "    ax1.legend(loc='lower left', bbox_to_anchor=(0, -0.30))\n",
    "    #ax2 = ax1.twinx()\n",
    "    #ax2.plot(history.history['mean_squared_error'], color='y', \n",
    "    #label='TrainMSE Loss')\n",
    "    #ax2.plot(history.history['val_mean_squared_error'], color='c', \n",
    "    #label='validationMSE Loss')\n",
    "    ax1.plot(best_epoch, best_value, 'r+', label='Best Model')\n",
    "    #ax2.set_ylabel('Loss')   \n",
    "    #ax2.legend(loc='lower right', bbox_to_anchor=(1, -0.30))\n",
    "    # Set Title\n",
    "    plt.title('Model - Best Epoch (' + str(best_epoch) + ')')\n",
    "    plt.show()\n",
    "    # .. and save..\n",
    "    plt.savefig('Blog3_Model_Chart_Regression_MSE_dead.png', \n",
    "    bbox_inches=\"tight\")   "
   ]
  },
  {
   "cell_type": "code",
   "execution_count": 20,
   "metadata": {},
   "outputs": [],
   "source": [
    "\n",
    "# Get VGG16 architecture from keras.applications\n",
    "from keras.applications.vgg16 import VGG16,decode_predictions\n",
    "\n",
    "# downloading weights and convolution layers from vgg16\n",
    "trained_model= VGG16(include_top=False,weights='imagenet')\n",
    "# print(trained_model.summary())\n",
    "\n",
    "# defining mlp that needs to be appended to vgg16 convolution layers\n",
    "x = trained_model.output\n",
    "x = GlobalAveragePooling2D()(x)\n",
    "x = Dense(512,activation='relu')(x)\n",
    "x = Dense(128,activation='relu')(x)\n",
    "x = Dense(64,activation='relu')(x)\n",
    "output = Dense(1,activation='linear')(x)\n",
    "\n",
    "model= Model(inputs=trained_model.input,outputs=output)\n"
   ]
  },
  {
   "cell_type": "code",
   "execution_count": 21,
   "metadata": {},
   "outputs": [],
   "source": [
    "for layer in trained_model.layers:\n",
    "    layer.trainable=False"
   ]
  },
  {
   "cell_type": "code",
   "execution_count": 22,
   "metadata": {},
   "outputs": [
    {
     "name": "stdout",
     "output_type": "stream",
     "text": [
      "input_1 False\n",
      "block1_conv1 False\n",
      "block1_conv2 False\n",
      "block1_pool False\n",
      "block2_conv1 False\n",
      "block2_conv2 False\n",
      "block2_pool False\n",
      "block3_conv1 False\n",
      "block3_conv2 False\n",
      "block3_conv3 False\n",
      "block3_pool False\n",
      "block4_conv1 False\n",
      "block4_conv2 False\n",
      "block4_conv3 False\n",
      "block4_pool False\n",
      "block5_conv1 False\n",
      "block5_conv2 False\n",
      "block5_conv3 False\n",
      "block5_pool False\n"
     ]
    }
   ],
   "source": [
    "for layer in trained_model.layers:\n",
    "    print(layer.name,layer.trainable)"
   ]
  },
  {
   "cell_type": "code",
   "execution_count": 23,
   "metadata": {},
   "outputs": [
    {
     "name": "stdout",
     "output_type": "stream",
     "text": [
      "_________________________________________________________________\n",
      "Layer (type)                 Output Shape              Param #   \n",
      "=================================================================\n",
      "input_1 (InputLayer)         (None, None, None, 3)     0         \n",
      "_________________________________________________________________\n",
      "block1_conv1 (Conv2D)        (None, None, None, 64)    1792      \n",
      "_________________________________________________________________\n",
      "block1_conv2 (Conv2D)        (None, None, None, 64)    36928     \n",
      "_________________________________________________________________\n",
      "block1_pool (MaxPooling2D)   (None, None, None, 64)    0         \n",
      "_________________________________________________________________\n",
      "block2_conv1 (Conv2D)        (None, None, None, 128)   73856     \n",
      "_________________________________________________________________\n",
      "block2_conv2 (Conv2D)        (None, None, None, 128)   147584    \n",
      "_________________________________________________________________\n",
      "block2_pool (MaxPooling2D)   (None, None, None, 128)   0         \n",
      "_________________________________________________________________\n",
      "block3_conv1 (Conv2D)        (None, None, None, 256)   295168    \n",
      "_________________________________________________________________\n",
      "block3_conv2 (Conv2D)        (None, None, None, 256)   590080    \n",
      "_________________________________________________________________\n",
      "block3_conv3 (Conv2D)        (None, None, None, 256)   590080    \n",
      "_________________________________________________________________\n",
      "block3_pool (MaxPooling2D)   (None, None, None, 256)   0         \n",
      "_________________________________________________________________\n",
      "block4_conv1 (Conv2D)        (None, None, None, 512)   1180160   \n",
      "_________________________________________________________________\n",
      "block4_conv2 (Conv2D)        (None, None, None, 512)   2359808   \n",
      "_________________________________________________________________\n",
      "block4_conv3 (Conv2D)        (None, None, None, 512)   2359808   \n",
      "_________________________________________________________________\n",
      "block4_pool (MaxPooling2D)   (None, None, None, 512)   0         \n",
      "_________________________________________________________________\n",
      "block5_conv1 (Conv2D)        (None, None, None, 512)   2359808   \n",
      "_________________________________________________________________\n",
      "block5_conv2 (Conv2D)        (None, None, None, 512)   2359808   \n",
      "_________________________________________________________________\n",
      "block5_conv3 (Conv2D)        (None, None, None, 512)   2359808   \n",
      "_________________________________________________________________\n",
      "block5_pool (MaxPooling2D)   (None, None, None, 512)   0         \n",
      "_________________________________________________________________\n",
      "global_average_pooling2d_1 ( (None, 512)               0         \n",
      "_________________________________________________________________\n",
      "dense_1 (Dense)              (None, 512)               262656    \n",
      "_________________________________________________________________\n",
      "dense_2 (Dense)              (None, 128)               65664     \n",
      "_________________________________________________________________\n",
      "dense_3 (Dense)              (None, 64)                8256      \n",
      "_________________________________________________________________\n",
      "dense_4 (Dense)              (None, 1)                 65        \n",
      "=================================================================\n",
      "Total params: 15,051,329\n",
      "Trainable params: 336,641\n",
      "Non-trainable params: 14,714,688\n",
      "_________________________________________________________________\n"
     ]
    }
   ],
   "source": [
    "model.summary()"
   ]
  },
  {
   "cell_type": "code",
   "execution_count": 24,
   "metadata": {},
   "outputs": [],
   "source": [
    "#compiling the model\n",
    "adam = Adam(lr=0.001)\n",
    "model.compile(loss='mean_squared_error',metrics=['MSE'],optimizer=adam)\n",
    "patience = 30\n",
    "earlystop = EarlyStopping(monitor=\"val_loss\",min_delta=0,mode=\"min\",patience=patience,verbose=1)\n",
    "checkpoint = ModelCheckpoint('modelweights_Regression_od_harvest.hdf5', \n",
    "                              monitor='val_loss', \n",
    "                              verbose=1, \n",
    "                              save_best_only=True, \n",
    "                              mode='min')\n",
    "callbacks = [checkpoint,earlystop]"
   ]
  },
  {
   "cell_type": "code",
   "execution_count": 25,
   "metadata": {},
   "outputs": [
    {
     "name": "stdout",
     "output_type": "stream",
     "text": [
      "_________________________________________________________________\n",
      "Layer (type)                 Output Shape              Param #   \n",
      "=================================================================\n",
      "input_1 (InputLayer)         (None, None, None, 3)     0         \n",
      "_________________________________________________________________\n",
      "block1_conv1 (Conv2D)        (None, None, None, 64)    1792      \n",
      "_________________________________________________________________\n",
      "block1_conv2 (Conv2D)        (None, None, None, 64)    36928     \n",
      "_________________________________________________________________\n",
      "block1_pool (MaxPooling2D)   (None, None, None, 64)    0         \n",
      "_________________________________________________________________\n",
      "block2_conv1 (Conv2D)        (None, None, None, 128)   73856     \n",
      "_________________________________________________________________\n",
      "block2_conv2 (Conv2D)        (None, None, None, 128)   147584    \n",
      "_________________________________________________________________\n",
      "block2_pool (MaxPooling2D)   (None, None, None, 128)   0         \n",
      "_________________________________________________________________\n",
      "block3_conv1 (Conv2D)        (None, None, None, 256)   295168    \n",
      "_________________________________________________________________\n",
      "block3_conv2 (Conv2D)        (None, None, None, 256)   590080    \n",
      "_________________________________________________________________\n",
      "block3_conv3 (Conv2D)        (None, None, None, 256)   590080    \n",
      "_________________________________________________________________\n",
      "block3_pool (MaxPooling2D)   (None, None, None, 256)   0         \n",
      "_________________________________________________________________\n",
      "block4_conv1 (Conv2D)        (None, None, None, 512)   1180160   \n",
      "_________________________________________________________________\n",
      "block4_conv2 (Conv2D)        (None, None, None, 512)   2359808   \n",
      "_________________________________________________________________\n",
      "block4_conv3 (Conv2D)        (None, None, None, 512)   2359808   \n",
      "_________________________________________________________________\n",
      "block4_pool (MaxPooling2D)   (None, None, None, 512)   0         \n",
      "_________________________________________________________________\n",
      "block5_conv1 (Conv2D)        (None, None, None, 512)   2359808   \n",
      "_________________________________________________________________\n",
      "block5_conv2 (Conv2D)        (None, None, None, 512)   2359808   \n",
      "_________________________________________________________________\n",
      "block5_conv3 (Conv2D)        (None, None, None, 512)   2359808   \n",
      "_________________________________________________________________\n",
      "block5_pool (MaxPooling2D)   (None, None, None, 512)   0         \n",
      "_________________________________________________________________\n",
      "global_average_pooling2d_1 ( (None, 512)               0         \n",
      "_________________________________________________________________\n",
      "dense_1 (Dense)              (None, 512)               262656    \n",
      "_________________________________________________________________\n",
      "dense_2 (Dense)              (None, 128)               65664     \n",
      "_________________________________________________________________\n",
      "dense_3 (Dense)              (None, 64)                8256      \n",
      "_________________________________________________________________\n",
      "dense_4 (Dense)              (None, 1)                 65        \n",
      "=================================================================\n",
      "Total params: 15,051,329\n",
      "Trainable params: 336,641\n",
      "Non-trainable params: 14,714,688\n",
      "_________________________________________________________________\n"
     ]
    }
   ],
   "source": [
    "model.summary()"
   ]
  },
  {
   "cell_type": "code",
   "execution_count": 26,
   "metadata": {},
   "outputs": [
    {
     "name": "stdout",
     "output_type": "stream",
     "text": [
      "Train on 1847 samples, validate on 637 samples\n",
      "Epoch 1/70\n",
      "1847/1847 [==============================] - 523s 283ms/step - loss: 0.4675 - mean_squared_error: 0.4675 - val_loss: 0.2653 - val_mean_squared_error: 0.2653\n",
      "\n",
      "Epoch 00001: val_loss improved from inf to 0.26530, saving model to modelweights_Regression_od_harvest.hdf5\n",
      "Epoch 2/70\n",
      "1847/1847 [==============================] - 410s 222ms/step - loss: 0.0297 - mean_squared_error: 0.0297 - val_loss: 0.2410 - val_mean_squared_error: 0.2410\n",
      "\n",
      "Epoch 00002: val_loss improved from 0.26530 to 0.24104, saving model to modelweights_Regression_od_harvest.hdf5\n",
      "Epoch 3/70\n",
      "1847/1847 [==============================] - 411s 222ms/step - loss: 0.0251 - mean_squared_error: 0.0251 - val_loss: 0.2583 - val_mean_squared_error: 0.2583\n",
      "\n",
      "Epoch 00003: val_loss did not improve from 0.24104\n",
      "Epoch 4/70\n",
      "1847/1847 [==============================] - 410s 222ms/step - loss: 0.0163 - mean_squared_error: 0.0163 - val_loss: 0.2459 - val_mean_squared_error: 0.2459\n",
      "\n",
      "Epoch 00004: val_loss did not improve from 0.24104\n",
      "Epoch 5/70\n",
      "1847/1847 [==============================] - 411s 223ms/step - loss: 0.0119 - mean_squared_error: 0.0119 - val_loss: 0.2485 - val_mean_squared_error: 0.2485\n",
      "\n",
      "Epoch 00005: val_loss did not improve from 0.24104\n",
      "Epoch 6/70\n",
      "1847/1847 [==============================] - 412s 223ms/step - loss: 0.0159 - mean_squared_error: 0.0159 - val_loss: 0.2480 - val_mean_squared_error: 0.2480\n",
      "\n",
      "Epoch 00006: val_loss did not improve from 0.24104\n",
      "Epoch 7/70\n",
      "1847/1847 [==============================] - 418s 226ms/step - loss: 0.0173 - mean_squared_error: 0.0173 - val_loss: 0.2553 - val_mean_squared_error: 0.2553\n",
      "\n",
      "Epoch 00007: val_loss did not improve from 0.24104\n",
      "Epoch 8/70\n",
      "1847/1847 [==============================] - 422s 228ms/step - loss: 0.0086 - mean_squared_error: 0.0086 - val_loss: 0.2631 - val_mean_squared_error: 0.2631\n",
      "\n",
      "Epoch 00008: val_loss did not improve from 0.24104\n",
      "Epoch 9/70\n",
      "1847/1847 [==============================] - 414s 224ms/step - loss: 0.0065 - mean_squared_error: 0.0065 - val_loss: 0.2363 - val_mean_squared_error: 0.2363\n",
      "\n",
      "Epoch 00009: val_loss improved from 0.24104 to 0.23634, saving model to modelweights_Regression_od_harvest.hdf5\n",
      "Epoch 10/70\n",
      "1847/1847 [==============================] - 416s 225ms/step - loss: 0.0049 - mean_squared_error: 0.0049 - val_loss: 0.2431 - val_mean_squared_error: 0.2431\n",
      "\n",
      "Epoch 00010: val_loss did not improve from 0.23634\n",
      "Epoch 11/70\n",
      "1847/1847 [==============================] - 436s 236ms/step - loss: 0.0047 - mean_squared_error: 0.0047 - val_loss: 0.2154 - val_mean_squared_error: 0.2154\n",
      "\n",
      "Epoch 00011: val_loss improved from 0.23634 to 0.21539, saving model to modelweights_Regression_od_harvest.hdf5\n",
      "Epoch 12/70\n",
      "1847/1847 [==============================] - 436s 236ms/step - loss: 0.0052 - mean_squared_error: 0.0052 - val_loss: 0.2286 - val_mean_squared_error: 0.2286\n",
      "\n",
      "Epoch 00012: val_loss did not improve from 0.21539\n",
      "Epoch 13/70\n",
      "1847/1847 [==============================] - 436s 236ms/step - loss: 0.0042 - mean_squared_error: 0.0042 - val_loss: 0.2317 - val_mean_squared_error: 0.2317\n",
      "\n",
      "Epoch 00013: val_loss did not improve from 0.21539\n",
      "Epoch 14/70\n",
      "1847/1847 [==============================] - 834s 451ms/step - loss: 0.0048 - mean_squared_error: 0.0048 - val_loss: 0.2310 - val_mean_squared_error: 0.2310\n",
      "\n",
      "Epoch 00014: val_loss did not improve from 0.21539\n",
      "Epoch 15/70\n",
      "1847/1847 [==============================] - 435s 235ms/step - loss: 0.0046 - mean_squared_error: 0.0046 - val_loss: 0.2358 - val_mean_squared_error: 0.2358\n",
      "\n",
      "Epoch 00015: val_loss did not improve from 0.21539\n",
      "Epoch 16/70\n",
      "1847/1847 [==============================] - 441s 239ms/step - loss: 0.0046 - mean_squared_error: 0.0046 - val_loss: 0.2252 - val_mean_squared_error: 0.2252\n",
      "\n",
      "Epoch 00016: val_loss did not improve from 0.21539\n",
      "Epoch 17/70\n",
      "1847/1847 [==============================] - 440s 238ms/step - loss: 0.0046 - mean_squared_error: 0.0046 - val_loss: 0.2355 - val_mean_squared_error: 0.2355\n",
      "\n",
      "Epoch 00017: val_loss did not improve from 0.21539\n",
      "Epoch 18/70\n",
      "1847/1847 [==============================] - 440s 238ms/step - loss: 0.0045 - mean_squared_error: 0.0045 - val_loss: 0.2130 - val_mean_squared_error: 0.2130\n",
      "\n",
      "Epoch 00018: val_loss improved from 0.21539 to 0.21305, saving model to modelweights_Regression_od_harvest.hdf5\n",
      "Epoch 19/70\n",
      "1847/1847 [==============================] - 1658s 898ms/step - loss: 0.0043 - mean_squared_error: 0.0043 - val_loss: 0.2447 - val_mean_squared_error: 0.2447\n",
      "\n",
      "Epoch 00019: val_loss did not improve from 0.21305\n",
      "Epoch 20/70\n",
      "1847/1847 [==============================] - 578s 313ms/step - loss: 0.0031 - mean_squared_error: 0.0031 - val_loss: 0.2117 - val_mean_squared_error: 0.2117\n",
      "\n",
      "Epoch 00020: val_loss improved from 0.21305 to 0.21166, saving model to modelweights_Regression_od_harvest.hdf5\n",
      "Epoch 21/70\n",
      "1847/1847 [==============================] - 576s 312ms/step - loss: 0.0034 - mean_squared_error: 0.0034 - val_loss: 0.2106 - val_mean_squared_error: 0.2106\n",
      "\n",
      "Epoch 00021: val_loss improved from 0.21166 to 0.21056, saving model to modelweights_Regression_od_harvest.hdf5\n",
      "Epoch 22/70\n",
      "1847/1847 [==============================] - 575s 311ms/step - loss: 0.0054 - mean_squared_error: 0.0054 - val_loss: 0.2322 - val_mean_squared_error: 0.2322\n",
      "\n",
      "Epoch 00022: val_loss did not improve from 0.21056\n",
      "Epoch 23/70\n",
      "1847/1847 [==============================] - 575s 311ms/step - loss: 0.0041 - mean_squared_error: 0.0041 - val_loss: 0.2196 - val_mean_squared_error: 0.2196\n",
      "\n",
      "Epoch 00023: val_loss did not improve from 0.21056\n",
      "Epoch 24/70\n",
      "1847/1847 [==============================] - 575s 311ms/step - loss: 0.0024 - mean_squared_error: 0.0024 - val_loss: 0.2186 - val_mean_squared_error: 0.2186\n",
      "\n",
      "Epoch 00024: val_loss did not improve from 0.21056\n",
      "Epoch 25/70\n",
      "1847/1847 [==============================] - 575s 312ms/step - loss: 0.0024 - mean_squared_error: 0.0024 - val_loss: 0.2112 - val_mean_squared_error: 0.2112\n",
      "\n",
      "Epoch 00025: val_loss did not improve from 0.21056\n",
      "Epoch 26/70\n",
      "1847/1847 [==============================] - 580s 314ms/step - loss: 0.0019 - mean_squared_error: 0.0019 - val_loss: 0.1915 - val_mean_squared_error: 0.1915\n",
      "\n",
      "Epoch 00026: val_loss improved from 0.21056 to 0.19148, saving model to modelweights_Regression_od_harvest.hdf5\n",
      "Epoch 27/70\n",
      "1847/1847 [==============================] - 579s 313ms/step - loss: 0.0037 - mean_squared_error: 0.0037 - val_loss: 0.2177 - val_mean_squared_error: 0.2177\n",
      "\n",
      "Epoch 00027: val_loss did not improve from 0.19148\n",
      "Epoch 28/70\n",
      "1847/1847 [==============================] - 578s 313ms/step - loss: 0.0056 - mean_squared_error: 0.0056 - val_loss: 0.2240 - val_mean_squared_error: 0.2240\n",
      "\n",
      "Epoch 00028: val_loss did not improve from 0.19148\n",
      "Epoch 29/70\n",
      "1847/1847 [==============================] - 578s 313ms/step - loss: 0.0048 - mean_squared_error: 0.0048 - val_loss: 0.1917 - val_mean_squared_error: 0.1917\n",
      "\n",
      "Epoch 00029: val_loss did not improve from 0.19148\n",
      "Epoch 30/70\n",
      "1847/1847 [==============================] - 578s 313ms/step - loss: 0.0035 - mean_squared_error: 0.0035 - val_loss: 0.1941 - val_mean_squared_error: 0.1941\n",
      "\n",
      "Epoch 00030: val_loss did not improve from 0.19148\n",
      "Epoch 31/70\n",
      "1847/1847 [==============================] - 578s 313ms/step - loss: 0.0032 - mean_squared_error: 0.0032 - val_loss: 0.1952 - val_mean_squared_error: 0.1952\n",
      "\n",
      "Epoch 00031: val_loss did not improve from 0.19148\n",
      "Epoch 32/70\n",
      "1847/1847 [==============================] - 582s 315ms/step - loss: 0.0027 - mean_squared_error: 0.0027 - val_loss: 0.2177 - val_mean_squared_error: 0.2177\n",
      "\n",
      "Epoch 00032: val_loss did not improve from 0.19148\n",
      "Epoch 33/70\n",
      "1847/1847 [==============================] - 579s 314ms/step - loss: 0.0036 - mean_squared_error: 0.0036 - val_loss: 0.1903 - val_mean_squared_error: 0.1903\n",
      "\n",
      "Epoch 00033: val_loss improved from 0.19148 to 0.19027, saving model to modelweights_Regression_od_harvest.hdf5\n",
      "Epoch 34/70\n",
      "1847/1847 [==============================] - 577s 313ms/step - loss: 0.0036 - mean_squared_error: 0.0036 - val_loss: 0.1905 - val_mean_squared_error: 0.1905\n",
      "\n",
      "Epoch 00034: val_loss did not improve from 0.19027\n",
      "Epoch 35/70\n"
     ]
    },
    {
     "name": "stdout",
     "output_type": "stream",
     "text": [
      "1847/1847 [==============================] - 577s 312ms/step - loss: 0.0028 - mean_squared_error: 0.0028 - val_loss: 0.1912 - val_mean_squared_error: 0.1912\n",
      "\n",
      "Epoch 00035: val_loss did not improve from 0.19027\n",
      "Epoch 36/70\n",
      "1847/1847 [==============================] - 577s 312ms/step - loss: 0.0051 - mean_squared_error: 0.0051 - val_loss: 0.2188 - val_mean_squared_error: 0.2188\n",
      "\n",
      "Epoch 00036: val_loss did not improve from 0.19027\n",
      "Epoch 37/70\n",
      "1847/1847 [==============================] - 577s 312ms/step - loss: 0.0024 - mean_squared_error: 0.0024 - val_loss: 0.1903 - val_mean_squared_error: 0.1903\n",
      "\n",
      "Epoch 00037: val_loss improved from 0.19027 to 0.19026, saving model to modelweights_Regression_od_harvest.hdf5\n",
      "Epoch 38/70\n",
      "1847/1847 [==============================] - 576s 312ms/step - loss: 0.0017 - mean_squared_error: 0.0017 - val_loss: 0.2010 - val_mean_squared_error: 0.2010\n",
      "\n",
      "Epoch 00038: val_loss did not improve from 0.19026\n",
      "Epoch 39/70\n",
      "1847/1847 [==============================] - 577s 312ms/step - loss: 0.0024 - mean_squared_error: 0.0024 - val_loss: 0.1705 - val_mean_squared_error: 0.1705\n",
      "\n",
      "Epoch 00039: val_loss improved from 0.19026 to 0.17048, saving model to modelweights_Regression_od_harvest.hdf5\n",
      "Epoch 40/70\n",
      "1847/1847 [==============================] - 576s 312ms/step - loss: 0.0024 - mean_squared_error: 0.0024 - val_loss: 0.1985 - val_mean_squared_error: 0.1985\n",
      "\n",
      "Epoch 00040: val_loss did not improve from 0.17048\n",
      "Epoch 41/70\n",
      "1847/1847 [==============================] - 575s 311ms/step - loss: 0.0043 - mean_squared_error: 0.0043 - val_loss: 0.2260 - val_mean_squared_error: 0.2260\n",
      "\n",
      "Epoch 00041: val_loss did not improve from 0.17048\n",
      "Epoch 42/70\n",
      "1847/1847 [==============================] - 577s 313ms/step - loss: 0.0039 - mean_squared_error: 0.0039 - val_loss: 0.1966 - val_mean_squared_error: 0.1966\n",
      "\n",
      "Epoch 00042: val_loss did not improve from 0.17048\n",
      "Epoch 43/70\n",
      "1847/1847 [==============================] - 578s 313ms/step - loss: 0.0032 - mean_squared_error: 0.0032 - val_loss: 0.2014 - val_mean_squared_error: 0.2014\n",
      "\n",
      "Epoch 00043: val_loss did not improve from 0.17048\n",
      "Epoch 44/70\n",
      "1847/1847 [==============================] - 577s 312ms/step - loss: 0.0021 - mean_squared_error: 0.0021 - val_loss: 0.1747 - val_mean_squared_error: 0.1747\n",
      "\n",
      "Epoch 00044: val_loss did not improve from 0.17048\n",
      "Epoch 45/70\n",
      "1847/1847 [==============================] - 577s 312ms/step - loss: 0.0024 - mean_squared_error: 0.0024 - val_loss: 0.1747 - val_mean_squared_error: 0.1747\n",
      "\n",
      "Epoch 00045: val_loss did not improve from 0.17048\n",
      "Epoch 46/70\n",
      "1847/1847 [==============================] - 577s 312ms/step - loss: 0.0029 - mean_squared_error: 0.0029 - val_loss: 0.1770 - val_mean_squared_error: 0.1770\n",
      "\n",
      "Epoch 00046: val_loss did not improve from 0.17048\n",
      "Epoch 47/70\n",
      "1847/1847 [==============================] - 576s 312ms/step - loss: 0.0021 - mean_squared_error: 0.0021 - val_loss: 0.1748 - val_mean_squared_error: 0.1748\n",
      "\n",
      "Epoch 00047: val_loss did not improve from 0.17048\n",
      "Epoch 48/70\n",
      "1847/1847 [==============================] - 577s 312ms/step - loss: 0.0019 - mean_squared_error: 0.0019 - val_loss: 0.1688 - val_mean_squared_error: 0.1688\n",
      "\n",
      "Epoch 00048: val_loss improved from 0.17048 to 0.16885, saving model to modelweights_Regression_od_harvest.hdf5\n",
      "Epoch 49/70\n",
      "1847/1847 [==============================] - 576s 312ms/step - loss: 0.0017 - mean_squared_error: 0.0017 - val_loss: 0.1913 - val_mean_squared_error: 0.1913\n",
      "\n",
      "Epoch 00049: val_loss did not improve from 0.16885\n",
      "Epoch 50/70\n",
      "1847/1847 [==============================] - 576s 312ms/step - loss: 0.0013 - mean_squared_error: 0.0013 - val_loss: 0.2081 - val_mean_squared_error: 0.2081\n",
      "\n",
      "Epoch 00050: val_loss did not improve from 0.16885\n",
      "Epoch 51/70\n",
      "1847/1847 [==============================] - 577s 313ms/step - loss: 0.0032 - mean_squared_error: 0.0032 - val_loss: 0.1981 - val_mean_squared_error: 0.1981\n",
      "\n",
      "Epoch 00051: val_loss did not improve from 0.16885\n",
      "Epoch 52/70\n",
      "1847/1847 [==============================] - 578s 313ms/step - loss: 0.0098 - mean_squared_error: 0.0098 - val_loss: 0.1536 - val_mean_squared_error: 0.1536\n",
      "\n",
      "Epoch 00052: val_loss improved from 0.16885 to 0.15355, saving model to modelweights_Regression_od_harvest.hdf5\n",
      "Epoch 53/70\n",
      "1847/1847 [==============================] - 577s 312ms/step - loss: 0.0044 - mean_squared_error: 0.0044 - val_loss: 0.1808 - val_mean_squared_error: 0.1808\n",
      "\n",
      "Epoch 00053: val_loss did not improve from 0.15355\n",
      "Epoch 54/70\n",
      "1847/1847 [==============================] - 577s 313ms/step - loss: 0.0026 - mean_squared_error: 0.0026 - val_loss: 0.1686 - val_mean_squared_error: 0.1686\n",
      "\n",
      "Epoch 00054: val_loss did not improve from 0.15355\n",
      "Epoch 55/70\n",
      "1847/1847 [==============================] - 577s 312ms/step - loss: 0.0019 - mean_squared_error: 0.0019 - val_loss: 0.1833 - val_mean_squared_error: 0.1833\n",
      "\n",
      "Epoch 00055: val_loss did not improve from 0.15355\n",
      "Epoch 56/70\n",
      "1847/1847 [==============================] - 577s 312ms/step - loss: 0.0016 - mean_squared_error: 0.0016 - val_loss: 0.1776 - val_mean_squared_error: 0.1776\n",
      "\n",
      "Epoch 00056: val_loss did not improve from 0.15355\n",
      "Epoch 57/70\n",
      "1847/1847 [==============================] - 579s 313ms/step - loss: 0.0015 - mean_squared_error: 0.0015 - val_loss: 0.1664 - val_mean_squared_error: 0.1664\n",
      "\n",
      "Epoch 00057: val_loss did not improve from 0.15355\n",
      "Epoch 58/70\n",
      "1847/1847 [==============================] - 578s 313ms/step - loss: 0.0012 - mean_squared_error: 0.0012 - val_loss: 0.1806 - val_mean_squared_error: 0.1806\n",
      "\n",
      "Epoch 00058: val_loss did not improve from 0.15355\n",
      "Epoch 59/70\n",
      "1847/1847 [==============================] - 576s 312ms/step - loss: 0.0014 - mean_squared_error: 0.0014 - val_loss: 0.1744 - val_mean_squared_error: 0.1744\n",
      "\n",
      "Epoch 00059: val_loss did not improve from 0.15355\n",
      "Epoch 60/70\n",
      "1847/1847 [==============================] - 576s 312ms/step - loss: 0.0013 - mean_squared_error: 0.0013 - val_loss: 0.1840 - val_mean_squared_error: 0.1840\n",
      "\n",
      "Epoch 00060: val_loss did not improve from 0.15355\n",
      "Epoch 61/70\n",
      "1847/1847 [==============================] - 576s 312ms/step - loss: 0.0019 - mean_squared_error: 0.0019 - val_loss: 0.1954 - val_mean_squared_error: 0.1954\n",
      "\n",
      "Epoch 00061: val_loss did not improve from 0.15355\n",
      "Epoch 62/70\n",
      "1847/1847 [==============================] - 576s 312ms/step - loss: 0.0018 - mean_squared_error: 0.0018 - val_loss: 0.1882 - val_mean_squared_error: 0.1882\n",
      "\n",
      "Epoch 00062: val_loss did not improve from 0.15355\n",
      "Epoch 63/70\n",
      "1847/1847 [==============================] - 576s 312ms/step - loss: 0.0013 - mean_squared_error: 0.0013 - val_loss: 0.1814 - val_mean_squared_error: 0.1814\n",
      "\n",
      "Epoch 00063: val_loss did not improve from 0.15355\n",
      "Epoch 64/70\n",
      "1847/1847 [==============================] - 579s 314ms/step - loss: 0.0017 - mean_squared_error: 0.0017 - val_loss: 0.1875 - val_mean_squared_error: 0.1875\n",
      "\n",
      "Epoch 00064: val_loss did not improve from 0.15355\n",
      "Epoch 65/70\n",
      "1847/1847 [==============================] - 577s 313ms/step - loss: 0.0012 - mean_squared_error: 0.0012 - val_loss: 0.1603 - val_mean_squared_error: 0.1603\n",
      "\n",
      "Epoch 00065: val_loss did not improve from 0.15355\n",
      "Epoch 66/70\n",
      "1847/1847 [==============================] - 577s 313ms/step - loss: 0.0016 - mean_squared_error: 0.0016 - val_loss: 0.1690 - val_mean_squared_error: 0.1690\n",
      "\n",
      "Epoch 00066: val_loss did not improve from 0.15355\n",
      "Epoch 67/70\n",
      "1847/1847 [==============================] - 577s 312ms/step - loss: 0.0021 - mean_squared_error: 0.0021 - val_loss: 0.1902 - val_mean_squared_error: 0.1902\n",
      "\n",
      "Epoch 00067: val_loss did not improve from 0.15355\n",
      "Epoch 68/70\n",
      "1847/1847 [==============================] - 577s 312ms/step - loss: 0.0029 - mean_squared_error: 0.0029 - val_loss: 0.1636 - val_mean_squared_error: 0.1636\n",
      "\n",
      "Epoch 00068: val_loss did not improve from 0.15355\n",
      "Epoch 69/70\n",
      "1847/1847 [==============================] - 577s 313ms/step - loss: 0.0020 - mean_squared_error: 0.0020 - val_loss: 0.1778 - val_mean_squared_error: 0.1778\n",
      "\n",
      "Epoch 00069: val_loss did not improve from 0.15355\n",
      "Epoch 70/70\n",
      "1847/1847 [==============================] - 577s 312ms/step - loss: 0.0016 - mean_squared_error: 0.0016 - val_loss: 0.1593 - val_mean_squared_error: 0.1593\n",
      "\n",
      "Epoch 00070: val_loss did not improve from 0.15355\n"
     ]
    }
   ],
   "source": [
    "#fitting the model\n",
    "history =model.fit(X_Train,Y_Train,epochs=70,batch_size=16,validation_data=(X_Valid,Y_Valid),callbacks=callbacks)"
   ]
  },
  {
   "cell_type": "code",
   "execution_count": 27,
   "metadata": {},
   "outputs": [],
   "source": [
    "# Reload Best Model for further usage....\n",
    "model.load_weights('modelweights_Regression_od_harvest.hdf5')"
   ]
  },
  {
   "cell_type": "code",
   "execution_count": 28,
   "metadata": {},
   "outputs": [
    {
     "data": {
      "image/png": "[encoded data removed]",
      "text/plain": [
       "<Figure size 1800x1200 with 1 Axes>"
      ]
     },
     "metadata": {
      "needs_background": "light"
     },
     "output_type": "display_data"
    },
    {
     "data": {
      "text/plain": [
       "<Figure size 432x288 with 0 Axes>"
      ]
     },
     "metadata": {},
     "output_type": "display_data"
    }
   ],
   "source": [
    "# Plot Charts\n",
    "plot_chart_to_file(earlystop.stopped_epoch - patience, earlystop.best)"
   ]
  },
  {
   "cell_type": "code",
   "execution_count": 29,
   "metadata": {},
   "outputs": [
    {
     "name": "stdout",
     "output_type": "stream",
     "text": [
      "mean_squared_error 0.0057764621286360025\n"
     ]
    }
   ],
   "source": [
    "scores_Train = model.evaluate(X_Train, Y_Train, verbose=0)\n",
    "print(model.metrics_names[1], scores_Train[1])"
   ]
  },
  {
   "cell_type": "code",
   "execution_count": 30,
   "metadata": {},
   "outputs": [
    {
     "name": "stdout",
     "output_type": "stream",
     "text": [
      "mean_squared_error 0.15355093117724386\n"
     ]
    }
   ],
   "source": [
    "scores_Valid = model.evaluate(X_Valid,Y_Valid, verbose=0)\n",
    "print(model.metrics_names[1], scores_Valid[1])"
   ]
  },
  {
   "cell_type": "code",
   "execution_count": 31,
   "metadata": {},
   "outputs": [
    {
     "name": "stdout",
     "output_type": "stream",
     "text": [
      "mean_squared_error 0.21097110887867143\n"
     ]
    }
   ],
   "source": [
    "scores = model.evaluate(X_Test, Y_Test, verbose=0)\n",
    "print(model.metrics_names[1], scores[1])"
   ]
  },
  {
   "cell_type": "code",
   "execution_count": null,
   "metadata": {},
   "outputs": [],
   "source": [
    "history.history"
   ]
  },
  {
   "cell_type": "code",
   "execution_count": null,
   "metadata": {},
   "outputs": [],
   "source": []
  }
 ],
 "metadata": {
  "kernelspec": {
   "display_name": "Python 3",
   "language": "python",
   "name": "python3"
  },
  "language_info": {
   "codemirror_mode": {
    "name": "ipython",
    "version": 3
   },
   "file_extension": ".py",
   "mimetype": "text/x-python",
   "name": "python",
   "nbconvert_exporter": "python",
   "pygments_lexer": "ipython3",
   "version": "3.6.6"
  }
 },
 "nbformat": 4,
 "nbformat_minor": 2
}
