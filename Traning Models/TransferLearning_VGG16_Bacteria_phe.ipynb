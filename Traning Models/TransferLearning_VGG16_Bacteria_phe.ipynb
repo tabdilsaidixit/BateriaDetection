{
 "cells": [
  {
   "cell_type": "code",
   "execution_count": 73,
   "metadata": {},
   "outputs": [],
   "source": [
    "import numpy as np\n",
    "import os\n",
    "import PIL\n",
    "from PIL import Image\n",
    "import matplotlib.pyplot as plt\n",
    "import pandas as pd\n",
    "\n",
    "from sklearn.model_selection import train_test_split\n",
    "from keras.models import Model\n",
    "from keras.layers import Flatten, Dense, Dropout\n",
    "from keras.layers import Convolution2D, MaxPooling2D\n",
    "from keras.layers import BatchNormalization, GlobalAveragePooling2D\n",
    "from keras.utils import to_categorical\n",
    "from keras.optimizers import Adam\n",
    "from keras.callbacks import EarlyStopping, ModelCheckpoint\n",
    "from sklearn.utils import shuffle\n",
    "from openpyxl import load_workbook\n",
    "from keras.applications.vgg16 import preprocess_input\n",
    "from keras.preprocessing.image import load_img\n",
    "from keras.preprocessing.image import img_to_array"
   ]
  },
  {
   "cell_type": "code",
   "execution_count": 74,
   "metadata": {},
   "outputs": [],
   "source": [
    "size = 224\n",
    "def read_image(f):\n",
    "    image = load_img(f, target_size=(224, 224))\n",
    "    # convert the image pixels to a numpy array\n",
    "    image = img_to_array(image)\n",
    "    image = preprocess_input(image)    \n",
    "    return(image)"
   ]
  },
  {
   "cell_type": "code",
   "execution_count": 75,
   "metadata": {},
   "outputs": [],
   "source": [
    "size = 224\n",
    "traindata_folderPath = 'TrainData_Augmentation\\\\'\n",
    "validdata_folderPath = 'ValidationData_Augmentation\\\\'\n",
    "testdata_folderpath='TestingData_Augmentation\\\\'\n",
    "columnName = 'phe'\n",
    "excelFileName = \"Perron_phenotype-GSU-training.xlsx\"\n",
    "sheetName = 'Total Database'\n",
    "imgPat = 'PIL-55a_3dayLBCR-3'"
   ]
  },
  {
   "cell_type": "code",
   "execution_count": 76,
   "metadata": {},
   "outputs": [],
   "source": [
    "train_filelist= [file for file in os.listdir(traindata_folderPath) if file.endswith('.jpeg')]\n",
    "valid_filelist= [file for file in os.listdir(validdata_folderPath) if file.endswith('.jpeg')]\n",
    "test_filelist= [file for file in os.listdir(testdata_folderpath) if file.endswith('.jpeg')]"
   ]
  },
  {
   "cell_type": "code",
   "execution_count": 77,
   "metadata": {},
   "outputs": [
    {
     "name": "stdout",
     "output_type": "stream",
     "text": [
      "Total number of files in directory: 1847\n",
      "Total number of files in directory: 637\n",
      "Total number of files in directory: 518\n"
     ]
    }
   ],
   "source": [
    "n_files = len(train_filelist)\n",
    "print('Total number of files in directory:', n_files)\n",
    "n_files = len(valid_filelist)\n",
    "print('Total number of files in directory:', n_files)\n",
    "n_files = len(test_filelist)\n",
    "print('Total number of files in directory:', n_files)"
   ]
  },
  {
   "cell_type": "code",
   "execution_count": 78,
   "metadata": {},
   "outputs": [],
   "source": [
    "wb = load_workbook(excelFileName)"
   ]
  },
  {
   "cell_type": "code",
   "execution_count": 79,
   "metadata": {},
   "outputs": [],
   "source": [
    "sheet = wb[sheetName]"
   ]
  },
  {
   "cell_type": "code",
   "execution_count": 80,
   "metadata": {},
   "outputs": [],
   "source": [
    "def getColumnNumber(columnName, sheet):\n",
    "    reqColNum = -1\n",
    "    maxColNumber = sheet.max_column + 1\n",
    "    for x in range(1, maxColNumber):\n",
    "        cellValue = sheet.cell(row=1, column=x).value\n",
    "        if(cellValue == columnName):\n",
    "                reqColNum = x\n",
    "                break\n",
    "    return(reqColNum)"
   ]
  },
  {
   "cell_type": "code",
   "execution_count": 81,
   "metadata": {},
   "outputs": [],
   "source": [
    "import re\n",
    "def getStrainNumber(imageName):\n",
    "    strt = imageName.find('-')\n",
    "    end = imageName.find('_')\n",
    "    imgNam = imageName[strt+1:end]\n",
    "    \n",
    "    imgNam = re.sub(r'[a-z]', '', imgNam)\n",
    "    return(imgNam)"
   ]
  },
  {
   "cell_type": "code",
   "execution_count": 82,
   "metadata": {},
   "outputs": [],
   "source": [
    "def getRowNumber(strainNumber, sheet, columnNumber):\n",
    "    \n",
    "    reqRowNum = -1\n",
    "    maxRowNumber = sheet.max_row + 1\n",
    "    strainNumbr = float(strainNumber)\n",
    "    \n",
    "    for x in range(1, maxRowNumber):\n",
    "        cellVal = sheet.cell(row=x, column=columnNumber).value\n",
    "        try:\n",
    "            cellValue = float(cellVal)            \n",
    "            if(cellValue == strainNumbr):\n",
    "                reqRowNum = x\n",
    "                break\n",
    "        except ValueError:\n",
    "            continue\n",
    "    return(reqRowNum) "
   ]
  },
  {
   "cell_type": "code",
   "execution_count": 83,
   "metadata": {},
   "outputs": [],
   "source": [
    "colNumber = getColumnNumber(columnName, sheet)"
   ]
  },
  {
   "cell_type": "code",
   "execution_count": 84,
   "metadata": {},
   "outputs": [
    {
     "name": "stdout",
     "output_type": "stream",
     "text": [
      "5\n"
     ]
    }
   ],
   "source": [
    "print(colNumber)"
   ]
  },
  {
   "cell_type": "code",
   "execution_count": 85,
   "metadata": {},
   "outputs": [],
   "source": [
    "strainColumnNumber = getColumnNumber('strain', sheet)"
   ]
  },
  {
   "cell_type": "code",
   "execution_count": 86,
   "metadata": {},
   "outputs": [
    {
     "name": "stdout",
     "output_type": "stream",
     "text": [
      "Reading train images ...\n"
     ]
    }
   ],
   "source": [
    "X_Train = []\n",
    "Y_Train = []\n",
    "print('Reading train images ...')\n",
    "for file in train_filelist:\n",
    "    imagepath = os.path.join(traindata_folderPath, file)\n",
    "    im = read_image(imagepath)\n",
    "    #print(im.shape)\n",
    "    req_ColNumber = colNumber\n",
    "    req_rowNumber = getRowNumber(getStrainNumber(file),sheet,strainColumnNumber)\n",
    "    try:\n",
    "        if(req_rowNumber>0 and req_ColNumber>0):\n",
    "            req_CellValue = sheet.cell(row=req_rowNumber, column=req_ColNumber).value\n",
    "            X_Train.append(im)\n",
    "            Y_Train.append(req_CellValue)\n",
    "    except:\n",
    "        print(\"Error\")\n",
    "        print(imagepath)\n",
    "        print(getStrainNumber(file))\n",
    "        print(req_ColNumber)\n",
    "        print(req_rowNumber)\n",
    "        print(req_CellValue)\n",
    "        print(\"Error\")\n",
    "        continue"
   ]
  },
  {
   "cell_type": "code",
   "execution_count": 87,
   "metadata": {},
   "outputs": [
    {
     "name": "stdout",
     "output_type": "stream",
     "text": [
      "Reading train images ...\n"
     ]
    }
   ],
   "source": [
    "X_Valid = []\n",
    "Y_Valid = []\n",
    "print('Reading train images ...')\n",
    "for file in valid_filelist:\n",
    "    imagepath = os.path.join(validdata_folderPath, file)\n",
    "    im = read_image(imagepath)\n",
    "    req_ColNumber = colNumber\n",
    "    req_rowNumber = getRowNumber(getStrainNumber(file),sheet,strainColumnNumber)\n",
    "    try:\n",
    "        if(req_rowNumber>0 and req_ColNumber>0):\n",
    "            req_CellValue = sheet.cell(row=req_rowNumber, column=req_ColNumber).value\n",
    "            X_Valid.append(im)\n",
    "            Y_Valid.append(req_CellValue)\n",
    "    except:\n",
    "        print(\"Error\")\n",
    "        print(imagepath)\n",
    "        print(getStrainNumber(file))\n",
    "        print(req_ColNumber)\n",
    "        print(req_rowNumber)\n",
    "        print(req_CellValue)\n",
    "        print(\"Error\")\n",
    "        continue"
   ]
  },
  {
   "cell_type": "code",
   "execution_count": 88,
   "metadata": {},
   "outputs": [
    {
     "name": "stdout",
     "output_type": "stream",
     "text": [
      "Reading train images ...\n"
     ]
    }
   ],
   "source": [
    "X_Test = []\n",
    "Y_Test = []\n",
    "print('Reading train images ...')\n",
    "for file in test_filelist:\n",
    "    imagepath = os.path.join(testdata_folderpath, file)\n",
    "    im = read_image(imagepath)\n",
    "    req_ColNumber = colNumber\n",
    "    req_rowNumber = getRowNumber(getStrainNumber(file),sheet,strainColumnNumber)\n",
    "    try:\n",
    "        if(req_rowNumber>0 and req_ColNumber>0):\n",
    "            req_CellValue = sheet.cell(row=req_rowNumber, column=req_ColNumber).value\n",
    "            X_Test.append(im)\n",
    "            Y_Test.append(req_CellValue)\n",
    "    except:\n",
    "        print(\"Error\")\n",
    "        print(imagepath)\n",
    "        print(getStrainNumber(file))\n",
    "        print(req_ColNumber)\n",
    "        print(req_rowNumber)\n",
    "        print(req_CellValue)\n",
    "        print(\"Error\")\n",
    "        continue"
   ]
  },
  {
   "cell_type": "code",
   "execution_count": 89,
   "metadata": {},
   "outputs": [
    {
     "name": "stdout",
     "output_type": "stream",
     "text": [
      "(1847, 224, 224, 3) X_Train Shape\n",
      "(1847, 1) Y_Train Shape\n",
      "(637, 224, 224, 3) X_Valid Shape\n",
      "(637, 1) Y_Valid Shape\n",
      "(518, 224, 224, 3) X_Test Shape\n",
      "(518, 1) Y_Test Shape\n"
     ]
    }
   ],
   "source": [
    "X_Train = np.array(X_Train)\n",
    "print(X_Train.shape, 'X_Train Shape')\n",
    "\n",
    "Y_Train = np.array(Y_Train).reshape(-1,1)\n",
    "print(Y_Train.shape, 'Y_Train Shape')\n",
    "\n",
    "X_Valid = np.array(X_Valid)\n",
    "print(X_Valid.shape, 'X_Valid Shape')\n",
    "\n",
    "Y_Valid = np.array(Y_Valid).reshape(-1,1)\n",
    "print(Y_Valid.shape, 'Y_Valid Shape')\n",
    "\n",
    "X_Test = np.array(X_Test)\n",
    "print(X_Test.shape, 'X_Test Shape')\n",
    "\n",
    "Y_Test = np.array(Y_Test).reshape(-1,1)\n",
    "print(Y_Test.shape, 'Y_Test Shape')"
   ]
  },
  {
   "cell_type": "code",
   "execution_count": 90,
   "metadata": {},
   "outputs": [],
   "source": [
    "# Store Model metrics\n",
    "history = {}"
   ]
  },
  {
   "cell_type": "code",
   "execution_count": 97,
   "metadata": {},
   "outputs": [],
   "source": [
    "\n",
    "# Get VGG16 architecture from keras.applications\n",
    "from keras.applications.vgg16 import VGG16,decode_predictions\n",
    "\n",
    "# downloading weights and convolution layers from vgg16\n",
    "trained_model= VGG16(include_top=False,weights='imagenet')\n",
    "# print(trained_model.summary())\n",
    "\n",
    "# defining mlp that needs to be appended to vgg16 convolution layers\n",
    "x = trained_model.output\n",
    "x = GlobalAveragePooling2D()(x)\n",
    "\n",
    "x = Dense(512,activation='relu')(x)\n",
    "x = Dense(256,activation='relu')(x)\n",
    "x = Dense(128,activation='relu')(x)\n",
    "\n",
    "output = Dense(1,activation='linear')(x)\n",
    "\n",
    "model= Model(inputs=trained_model.input,outputs=output)\n"
   ]
  },
  {
   "cell_type": "code",
   "execution_count": 98,
   "metadata": {},
   "outputs": [],
   "source": [
    "for layer in trained_model.layers:\n",
    "    layer.trainable=False"
   ]
  },
  {
   "cell_type": "code",
   "execution_count": 99,
   "metadata": {},
   "outputs": [
    {
     "name": "stdout",
     "output_type": "stream",
     "text": [
      "input_6 False\n",
      "block1_conv1 False\n",
      "block1_conv2 False\n",
      "block1_pool False\n",
      "block2_conv1 False\n",
      "block2_conv2 False\n",
      "block2_pool False\n",
      "block3_conv1 False\n",
      "block3_conv2 False\n",
      "block3_conv3 False\n",
      "block3_pool False\n",
      "block4_conv1 False\n",
      "block4_conv2 False\n",
      "block4_conv3 False\n",
      "block4_pool False\n",
      "block5_conv1 False\n",
      "block5_conv2 False\n",
      "block5_conv3 False\n",
      "block5_pool False\n"
     ]
    }
   ],
   "source": [
    "for layer in trained_model.layers:\n",
    "    print(layer.name,layer.trainable)"
   ]
  },
  {
   "cell_type": "code",
   "execution_count": 100,
   "metadata": {},
   "outputs": [
    {
     "name": "stdout",
     "output_type": "stream",
     "text": [
      "_________________________________________________________________\n",
      "Layer (type)                 Output Shape              Param #   \n",
      "=================================================================\n",
      "input_6 (InputLayer)         (None, None, None, 3)     0         \n",
      "_________________________________________________________________\n",
      "block1_conv1 (Conv2D)        (None, None, None, 64)    1792      \n",
      "_________________________________________________________________\n",
      "block1_conv2 (Conv2D)        (None, None, None, 64)    36928     \n",
      "_________________________________________________________________\n",
      "block1_pool (MaxPooling2D)   (None, None, None, 64)    0         \n",
      "_________________________________________________________________\n",
      "block2_conv1 (Conv2D)        (None, None, None, 128)   73856     \n",
      "_________________________________________________________________\n",
      "block2_conv2 (Conv2D)        (None, None, None, 128)   147584    \n",
      "_________________________________________________________________\n",
      "block2_pool (MaxPooling2D)   (None, None, None, 128)   0         \n",
      "_________________________________________________________________\n",
      "block3_conv1 (Conv2D)        (None, None, None, 256)   295168    \n",
      "_________________________________________________________________\n",
      "block3_conv2 (Conv2D)        (None, None, None, 256)   590080    \n",
      "_________________________________________________________________\n",
      "block3_conv3 (Conv2D)        (None, None, None, 256)   590080    \n",
      "_________________________________________________________________\n",
      "block3_pool (MaxPooling2D)   (None, None, None, 256)   0         \n",
      "_________________________________________________________________\n",
      "block4_conv1 (Conv2D)        (None, None, None, 512)   1180160   \n",
      "_________________________________________________________________\n",
      "block4_conv2 (Conv2D)        (None, None, None, 512)   2359808   \n",
      "_________________________________________________________________\n",
      "block4_conv3 (Conv2D)        (None, None, None, 512)   2359808   \n",
      "_________________________________________________________________\n",
      "block4_pool (MaxPooling2D)   (None, None, None, 512)   0         \n",
      "_________________________________________________________________\n",
      "block5_conv1 (Conv2D)        (None, None, None, 512)   2359808   \n",
      "_________________________________________________________________\n",
      "block5_conv2 (Conv2D)        (None, None, None, 512)   2359808   \n",
      "_________________________________________________________________\n",
      "block5_conv3 (Conv2D)        (None, None, None, 512)   2359808   \n",
      "_________________________________________________________________\n",
      "block5_pool (MaxPooling2D)   (None, None, None, 512)   0         \n",
      "_________________________________________________________________\n",
      "global_average_pooling2d_6 ( (None, 512)               0         \n",
      "_________________________________________________________________\n",
      "dense_23 (Dense)             (None, 512)               262656    \n",
      "_________________________________________________________________\n",
      "dense_24 (Dense)             (None, 256)               131328    \n",
      "_________________________________________________________________\n",
      "dense_25 (Dense)             (None, 128)               32896     \n",
      "_________________________________________________________________\n",
      "dense_26 (Dense)             (None, 1)                 129       \n",
      "=================================================================\n",
      "Total params: 15,141,697\n",
      "Trainable params: 427,009\n",
      "Non-trainable params: 14,714,688\n",
      "_________________________________________________________________\n"
     ]
    }
   ],
   "source": [
    "model.summary()"
   ]
  },
  {
   "cell_type": "code",
   "execution_count": 101,
   "metadata": {},
   "outputs": [],
   "source": [
    "#compiling the model\n",
    "adam = Adam(lr=0.001)\n",
    "model.compile(loss='mean_squared_error',metrics=['MSE'],optimizer=adam)\n",
    "patience = 30\n",
    "earlystop = EarlyStopping(monitor=\"val_loss\",min_delta=0,mode=\"min\",patience=patience,verbose=1)\n",
    "checkpoint = ModelCheckpoint('modelweights_Regression_phe.hdf5', \n",
    "                              monitor='val_loss', \n",
    "                              verbose=1, \n",
    "                              save_best_only=True, \n",
    "                              mode='min')\n",
    "callbacks = [checkpoint,earlystop]"
   ]
  },
  {
   "cell_type": "code",
   "execution_count": 102,
   "metadata": {},
   "outputs": [
    {
     "name": "stdout",
     "output_type": "stream",
     "text": [
      "_________________________________________________________________\n",
      "Layer (type)                 Output Shape              Param #   \n",
      "=================================================================\n",
      "input_6 (InputLayer)         (None, None, None, 3)     0         \n",
      "_________________________________________________________________\n",
      "block1_conv1 (Conv2D)        (None, None, None, 64)    1792      \n",
      "_________________________________________________________________\n",
      "block1_conv2 (Conv2D)        (None, None, None, 64)    36928     \n",
      "_________________________________________________________________\n",
      "block1_pool (MaxPooling2D)   (None, None, None, 64)    0         \n",
      "_________________________________________________________________\n",
      "block2_conv1 (Conv2D)        (None, None, None, 128)   73856     \n",
      "_________________________________________________________________\n",
      "block2_conv2 (Conv2D)        (None, None, None, 128)   147584    \n",
      "_________________________________________________________________\n",
      "block2_pool (MaxPooling2D)   (None, None, None, 128)   0         \n",
      "_________________________________________________________________\n",
      "block3_conv1 (Conv2D)        (None, None, None, 256)   295168    \n",
      "_________________________________________________________________\n",
      "block3_conv2 (Conv2D)        (None, None, None, 256)   590080    \n",
      "_________________________________________________________________\n",
      "block3_conv3 (Conv2D)        (None, None, None, 256)   590080    \n",
      "_________________________________________________________________\n",
      "block3_pool (MaxPooling2D)   (None, None, None, 256)   0         \n",
      "_________________________________________________________________\n",
      "block4_conv1 (Conv2D)        (None, None, None, 512)   1180160   \n",
      "_________________________________________________________________\n",
      "block4_conv2 (Conv2D)        (None, None, None, 512)   2359808   \n",
      "_________________________________________________________________\n",
      "block4_conv3 (Conv2D)        (None, None, None, 512)   2359808   \n",
      "_________________________________________________________________\n",
      "block4_pool (MaxPooling2D)   (None, None, None, 512)   0         \n",
      "_________________________________________________________________\n",
      "block5_conv1 (Conv2D)        (None, None, None, 512)   2359808   \n",
      "_________________________________________________________________\n",
      "block5_conv2 (Conv2D)        (None, None, None, 512)   2359808   \n",
      "_________________________________________________________________\n",
      "block5_conv3 (Conv2D)        (None, None, None, 512)   2359808   \n",
      "_________________________________________________________________\n",
      "block5_pool (MaxPooling2D)   (None, None, None, 512)   0         \n",
      "_________________________________________________________________\n",
      "global_average_pooling2d_6 ( (None, 512)               0         \n",
      "_________________________________________________________________\n",
      "dense_23 (Dense)             (None, 512)               262656    \n",
      "_________________________________________________________________\n",
      "dense_24 (Dense)             (None, 256)               131328    \n",
      "_________________________________________________________________\n",
      "dense_25 (Dense)             (None, 128)               32896     \n",
      "_________________________________________________________________\n",
      "dense_26 (Dense)             (None, 1)                 129       \n",
      "=================================================================\n",
      "Total params: 15,141,697\n",
      "Trainable params: 427,009\n",
      "Non-trainable params: 14,714,688\n",
      "_________________________________________________________________\n"
     ]
    }
   ],
   "source": [
    "model.summary()"
   ]
  },
  {
   "cell_type": "code",
   "execution_count": 103,
   "metadata": {},
   "outputs": [
    {
     "name": "stdout",
     "output_type": "stream",
     "text": [
      "Train on 1847 samples, validate on 637 samples\n",
      "Epoch 1/40\n",
      "1847/1847 [==============================] - 581s 314ms/step - loss: 0.6239 - mean_squared_error: 0.6239 - val_loss: 0.0286 - val_mean_squared_error: 0.0286\n",
      "\n",
      "Epoch 00001: val_loss improved from inf to 0.02859, saving model to modelweights_Regression_phe.hdf5\n",
      "Epoch 2/40\n",
      "1847/1847 [==============================] - 580s 314ms/step - loss: 0.0082 - mean_squared_error: 0.0082 - val_loss: 0.0256 - val_mean_squared_error: 0.0256\n",
      "\n",
      "Epoch 00002: val_loss improved from 0.02859 to 0.02559, saving model to modelweights_Regression_phe.hdf5\n",
      "Epoch 3/40\n",
      "1847/1847 [==============================] - 578s 313ms/step - loss: 0.0051 - mean_squared_error: 0.0051 - val_loss: 0.0187 - val_mean_squared_error: 0.0187\n",
      "\n",
      "Epoch 00003: val_loss improved from 0.02559 to 0.01872, saving model to modelweights_Regression_phe.hdf5\n",
      "Epoch 4/40\n",
      "1847/1847 [==============================] - 577s 313ms/step - loss: 0.0029 - mean_squared_error: 0.0029 - val_loss: 0.0192 - val_mean_squared_error: 0.0192\n",
      "\n",
      "Epoch 00004: val_loss did not improve from 0.01872\n",
      "Epoch 5/40\n",
      "1847/1847 [==============================] - 578s 313ms/step - loss: 0.0023 - mean_squared_error: 0.0023 - val_loss: 0.0173 - val_mean_squared_error: 0.0173\n",
      "\n",
      "Epoch 00005: val_loss improved from 0.01872 to 0.01733, saving model to modelweights_Regression_phe.hdf5\n",
      "Epoch 6/40\n",
      "1847/1847 [==============================] - 578s 313ms/step - loss: 0.0020 - mean_squared_error: 0.0020 - val_loss: 0.0148 - val_mean_squared_error: 0.0148\n",
      "\n",
      "Epoch 00006: val_loss improved from 0.01733 to 0.01481, saving model to modelweights_Regression_phe.hdf5\n",
      "Epoch 7/40\n",
      "1847/1847 [==============================] - 577s 313ms/step - loss: 0.0014 - mean_squared_error: 0.0014 - val_loss: 0.0157 - val_mean_squared_error: 0.0157\n",
      "\n",
      "Epoch 00007: val_loss did not improve from 0.01481\n",
      "Epoch 8/40\n",
      "1847/1847 [==============================] - 578s 313ms/step - loss: 0.0013 - mean_squared_error: 0.0013 - val_loss: 0.0149 - val_mean_squared_error: 0.0149\n",
      "\n",
      "Epoch 00008: val_loss did not improve from 0.01481\n",
      "Epoch 9/40\n",
      "1847/1847 [==============================] - 578s 313ms/step - loss: 0.0013 - mean_squared_error: 0.0013 - val_loss: 0.0137 - val_mean_squared_error: 0.0137\n",
      "\n",
      "Epoch 00009: val_loss improved from 0.01481 to 0.01370, saving model to modelweights_Regression_phe.hdf5\n",
      "Epoch 10/40\n",
      "1847/1847 [==============================] - 577s 312ms/step - loss: 0.0010 - mean_squared_error: 0.0010 - val_loss: 0.0149 - val_mean_squared_error: 0.0149\n",
      "\n",
      "Epoch 00010: val_loss did not improve from 0.01370\n",
      "Epoch 11/40\n",
      "1847/1847 [==============================] - 576s 312ms/step - loss: 0.0011 - mean_squared_error: 0.0011 - val_loss: 0.0121 - val_mean_squared_error: 0.0121\n",
      "\n",
      "Epoch 00011: val_loss improved from 0.01370 to 0.01207, saving model to modelweights_Regression_phe.hdf5\n",
      "Epoch 12/40\n",
      "1847/1847 [==============================] - 576s 312ms/step - loss: 7.1776e-04 - mean_squared_error: 7.1776e-04 - val_loss: 0.0119 - val_mean_squared_error: 0.0119\n",
      "\n",
      "Epoch 00012: val_loss improved from 0.01207 to 0.01188, saving model to modelweights_Regression_phe.hdf5\n",
      "Epoch 13/40\n",
      "1847/1847 [==============================] - 577s 312ms/step - loss: 8.9265e-04 - mean_squared_error: 8.9265e-04 - val_loss: 0.0139 - val_mean_squared_error: 0.0139\n",
      "\n",
      "Epoch 00013: val_loss did not improve from 0.01188\n",
      "Epoch 14/40\n",
      "1847/1847 [==============================] - 577s 312ms/step - loss: 7.5612e-04 - mean_squared_error: 7.5612e-04 - val_loss: 0.0165 - val_mean_squared_error: 0.0165\n",
      "\n",
      "Epoch 00014: val_loss did not improve from 0.01188\n",
      "Epoch 15/40\n",
      "1847/1847 [==============================] - 577s 313ms/step - loss: 7.2639e-04 - mean_squared_error: 7.2639e-04 - val_loss: 0.0117 - val_mean_squared_error: 0.0117\n",
      "\n",
      "Epoch 00015: val_loss improved from 0.01188 to 0.01168, saving model to modelweights_Regression_phe.hdf5\n",
      "Epoch 16/40\n",
      "1847/1847 [==============================] - 577s 313ms/step - loss: 8.9021e-04 - mean_squared_error: 8.9021e-04 - val_loss: 0.0112 - val_mean_squared_error: 0.0112\n",
      "\n",
      "Epoch 00016: val_loss improved from 0.01168 to 0.01116, saving model to modelweights_Regression_phe.hdf5\n",
      "Epoch 17/40\n",
      "1847/1847 [==============================] - 576s 312ms/step - loss: 5.2426e-04 - mean_squared_error: 5.2426e-04 - val_loss: 0.0108 - val_mean_squared_error: 0.0108\n",
      "\n",
      "Epoch 00017: val_loss improved from 0.01116 to 0.01081, saving model to modelweights_Regression_phe.hdf5\n",
      "Epoch 18/40\n",
      "1847/1847 [==============================] - 577s 312ms/step - loss: 5.8324e-04 - mean_squared_error: 5.8324e-04 - val_loss: 0.0102 - val_mean_squared_error: 0.0102\n",
      "\n",
      "Epoch 00018: val_loss improved from 0.01081 to 0.01023, saving model to modelweights_Regression_phe.hdf5\n",
      "Epoch 19/40\n",
      "1847/1847 [==============================] - 577s 312ms/step - loss: 9.1317e-04 - mean_squared_error: 9.1317e-04 - val_loss: 0.0100 - val_mean_squared_error: 0.0100\n",
      "\n",
      "Epoch 00019: val_loss improved from 0.01023 to 0.01003, saving model to modelweights_Regression_phe.hdf5\n",
      "Epoch 20/40\n",
      "1847/1847 [==============================] - 576s 312ms/step - loss: 7.9084e-04 - mean_squared_error: 7.9084e-04 - val_loss: 0.0087 - val_mean_squared_error: 0.0087\n",
      "\n",
      "Epoch 00020: val_loss improved from 0.01003 to 0.00870, saving model to modelweights_Regression_phe.hdf5\n",
      "Epoch 21/40\n",
      "1847/1847 [==============================] - 577s 312ms/step - loss: 7.5500e-04 - mean_squared_error: 7.5500e-04 - val_loss: 0.0111 - val_mean_squared_error: 0.0111\n",
      "\n",
      "Epoch 00021: val_loss did not improve from 0.00870\n",
      "Epoch 22/40\n",
      "1847/1847 [==============================] - 578s 313ms/step - loss: 4.8685e-04 - mean_squared_error: 4.8685e-04 - val_loss: 0.0098 - val_mean_squared_error: 0.0098\n",
      "\n",
      "Epoch 00022: val_loss did not improve from 0.00870\n",
      "Epoch 23/40\n",
      "1847/1847 [==============================] - 580s 314ms/step - loss: 6.0916e-04 - mean_squared_error: 6.0916e-04 - val_loss: 0.0082 - val_mean_squared_error: 0.0082\n",
      "\n",
      "Epoch 00023: val_loss improved from 0.00870 to 0.00824, saving model to modelweights_Regression_phe.hdf5\n",
      "Epoch 24/40\n",
      "1847/1847 [==============================] - 577s 312ms/step - loss: 6.0383e-04 - mean_squared_error: 6.0383e-04 - val_loss: 0.0083 - val_mean_squared_error: 0.0083\n",
      "\n",
      "Epoch 00024: val_loss did not improve from 0.00824\n",
      "Epoch 25/40\n",
      "1847/1847 [==============================] - 577s 312ms/step - loss: 6.9038e-04 - mean_squared_error: 6.9038e-04 - val_loss: 0.0096 - val_mean_squared_error: 0.0096\n",
      "\n",
      "Epoch 00025: val_loss did not improve from 0.00824\n",
      "Epoch 26/40\n",
      "1847/1847 [==============================] - 577s 312ms/step - loss: 6.9802e-04 - mean_squared_error: 6.9802e-04 - val_loss: 0.0087 - val_mean_squared_error: 0.0087\n",
      "\n",
      "Epoch 00026: val_loss did not improve from 0.00824\n",
      "Epoch 27/40\n",
      "1847/1847 [==============================] - 578s 313ms/step - loss: 6.0109e-04 - mean_squared_error: 6.0109e-04 - val_loss: 0.0077 - val_mean_squared_error: 0.0077\n",
      "\n",
      "Epoch 00027: val_loss improved from 0.00824 to 0.00767, saving model to modelweights_Regression_phe.hdf5\n",
      "Epoch 28/40\n",
      "1847/1847 [==============================] - 577s 312ms/step - loss: 0.0010 - mean_squared_error: 0.0010 - val_loss: 0.0068 - val_mean_squared_error: 0.0068\n",
      "\n",
      "Epoch 00028: val_loss improved from 0.00767 to 0.00677, saving model to modelweights_Regression_phe.hdf5\n",
      "Epoch 29/40\n",
      "1847/1847 [==============================] - 577s 313ms/step - loss: 8.5493e-04 - mean_squared_error: 8.5493e-04 - val_loss: 0.0078 - val_mean_squared_error: 0.0078\n",
      "\n",
      "Epoch 00029: val_loss did not improve from 0.00677\n",
      "Epoch 30/40\n",
      "1847/1847 [==============================] - 579s 313ms/step - loss: 6.5886e-04 - mean_squared_error: 6.5886e-04 - val_loss: 0.0095 - val_mean_squared_error: 0.0095\n",
      "\n",
      "Epoch 00030: val_loss did not improve from 0.00677\n",
      "Epoch 31/40\n",
      "1847/1847 [==============================] - 579s 314ms/step - loss: 6.4902e-04 - mean_squared_error: 6.4902e-04 - val_loss: 0.0082 - val_mean_squared_error: 0.0082\n",
      "\n",
      "Epoch 00031: val_loss did not improve from 0.00677\n",
      "Epoch 32/40\n",
      "1847/1847 [==============================] - 579s 313ms/step - loss: 0.0012 - mean_squared_error: 0.0012 - val_loss: 0.0063 - val_mean_squared_error: 0.0063\n",
      "\n",
      "Epoch 00032: val_loss improved from 0.00677 to 0.00628, saving model to modelweights_Regression_phe.hdf5\n"
     ]
    },
    {
     "name": "stdout",
     "output_type": "stream",
     "text": [
      "Epoch 33/40\n",
      "1847/1847 [==============================] - 579s 313ms/step - loss: 6.3153e-04 - mean_squared_error: 6.3153e-04 - val_loss: 0.0080 - val_mean_squared_error: 0.0080\n",
      "\n",
      "Epoch 00033: val_loss did not improve from 0.00628\n",
      "Epoch 34/40\n",
      "1847/1847 [==============================] - 579s 313ms/step - loss: 3.4704e-04 - mean_squared_error: 3.4704e-04 - val_loss: 0.0065 - val_mean_squared_error: 0.0065\n",
      "\n",
      "Epoch 00034: val_loss did not improve from 0.00628\n",
      "Epoch 35/40\n",
      "1847/1847 [==============================] - 578s 313ms/step - loss: 2.5528e-04 - mean_squared_error: 2.5528e-04 - val_loss: 0.0076 - val_mean_squared_error: 0.0076\n",
      "\n",
      "Epoch 00035: val_loss did not improve from 0.00628\n",
      "Epoch 36/40\n",
      "1847/1847 [==============================] - 579s 314ms/step - loss: 4.4568e-04 - mean_squared_error: 4.4568e-04 - val_loss: 0.0071 - val_mean_squared_error: 0.0071\n",
      "\n",
      "Epoch 00036: val_loss did not improve from 0.00628\n",
      "Epoch 37/40\n",
      "1847/1847 [==============================] - 578s 313ms/step - loss: 5.1647e-04 - mean_squared_error: 5.1647e-04 - val_loss: 0.0061 - val_mean_squared_error: 0.0061\n",
      "\n",
      "Epoch 00037: val_loss improved from 0.00628 to 0.00606, saving model to modelweights_Regression_phe.hdf5\n",
      "Epoch 38/40\n",
      "1847/1847 [==============================] - 580s 314ms/step - loss: 6.8788e-04 - mean_squared_error: 6.8788e-04 - val_loss: 0.0056 - val_mean_squared_error: 0.0056\n",
      "\n",
      "Epoch 00038: val_loss improved from 0.00606 to 0.00556, saving model to modelweights_Regression_phe.hdf5\n",
      "Epoch 39/40\n",
      "1847/1847 [==============================] - 576s 312ms/step - loss: 3.3952e-04 - mean_squared_error: 3.3952e-04 - val_loss: 0.0062 - val_mean_squared_error: 0.0062\n",
      "\n",
      "Epoch 00039: val_loss did not improve from 0.00556\n",
      "Epoch 40/40\n",
      "1847/1847 [==============================] - 577s 312ms/step - loss: 3.1275e-04 - mean_squared_error: 3.1275e-04 - val_loss: 0.0073 - val_mean_squared_error: 0.0073\n",
      "\n",
      "Epoch 00040: val_loss did not improve from 0.00556\n"
     ]
    }
   ],
   "source": [
    "#fitting the model\n",
    "history =model.fit(X_Train,Y_Train,epochs=40 ,batch_size=16,validation_data=(X_Valid,Y_Valid),callbacks=callbacks)"
   ]
  },
  {
   "cell_type": "code",
   "execution_count": 104,
   "metadata": {},
   "outputs": [],
   "source": [
    "# Reload Best Model for further usage....\n",
    "model.load_weights('modelweights_Regression_phe.hdf5')"
   ]
  },
  {
   "cell_type": "code",
   "execution_count": 105,
   "metadata": {},
   "outputs": [
    {
     "name": "stdout",
     "output_type": "stream",
     "text": [
      "mean_squared_error 0.00034870645087192785\n"
     ]
    }
   ],
   "source": [
    "scores_Train = model.evaluate(X_Train, Y_Train, verbose=0)\n",
    "print(model.metrics_names[1], scores_Train[1])"
   ]
  },
  {
   "cell_type": "code",
   "execution_count": 106,
   "metadata": {},
   "outputs": [
    {
     "name": "stdout",
     "output_type": "stream",
     "text": [
      "mean_squared_error 0.005561113104244674\n"
     ]
    }
   ],
   "source": [
    "scores_Valid = model.evaluate(X_Valid,Y_Valid, verbose=0)\n",
    "print(model.metrics_names[1], scores_Valid[1])"
   ]
  },
  {
   "cell_type": "code",
   "execution_count": 107,
   "metadata": {},
   "outputs": [
    {
     "name": "stdout",
     "output_type": "stream",
     "text": [
      "mean_squared_error 0.011002254193708478\n"
     ]
    }
   ],
   "source": [
    "scores = model.evaluate(X_Test, Y_Test, verbose=0)\n",
    "print(model.metrics_names[1], scores[1])"
   ]
  },
  {
   "cell_type": "code",
   "execution_count": null,
   "metadata": {},
   "outputs": [],
   "source": []
  }
 ],
 "metadata": {
  "kernelspec": {
   "display_name": "Python 3",
   "language": "python",
   "name": "python3"
  },
  "language_info": {
   "codemirror_mode": {
    "name": "ipython",
    "version": 3
   },
   "file_extension": ".py",
   "mimetype": "text/x-python",
   "name": "python",
   "nbconvert_exporter": "python",
   "pygments_lexer": "ipython3",
   "version": "3.6.6"
  }
 },
 "nbformat": 4,
 "nbformat_minor": 2
}
