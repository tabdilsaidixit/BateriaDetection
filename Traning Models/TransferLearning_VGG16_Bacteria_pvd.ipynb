{
 "cells": [
  {
   "cell_type": "code",
   "execution_count": 27,
   "metadata": {},
   "outputs": [],
   "source": [
    "import numpy as np\n",
    "import os\n",
    "import PIL\n",
    "from PIL import Image\n",
    "import matplotlib.pyplot as plt\n",
    "import pandas as pd\n",
    "\n",
    "from sklearn.model_selection import train_test_split\n",
    "from keras.models import Model\n",
    "from keras.layers import Flatten, Dense, Dropout\n",
    "from keras.layers import Convolution2D, MaxPooling2D\n",
    "from keras.layers import BatchNormalization, GlobalAveragePooling2D\n",
    "from keras.utils import to_categorical\n",
    "from keras.optimizers import Adam\n",
    "from keras.callbacks import EarlyStopping, ModelCheckpoint\n",
    "from sklearn.utils import shuffle\n",
    "from openpyxl import load_workbook\n",
    "from keras.applications.vgg16 import preprocess_input\n",
    "from keras.preprocessing.image import load_img\n",
    "from keras.preprocessing.image import img_to_array"
   ]
  },
  {
   "cell_type": "code",
   "execution_count": 28,
   "metadata": {},
   "outputs": [],
   "source": [
    "size = 224\n",
    "def read_image(f):\n",
    "    image = load_img(f, target_size=(224, 224))\n",
    "    # convert the image pixels to a numpy array\n",
    "    image = img_to_array(image)\n",
    "    image = preprocess_input(image)    \n",
    "    return(image)"
   ]
  },
  {
   "cell_type": "code",
   "execution_count": 29,
   "metadata": {},
   "outputs": [],
   "source": [
    "size = 224\n",
    "traindata_folderPath = 'TrainData_Augmentation\\\\'\n",
    "validdata_folderPath = 'ValidationData_Augmentation\\\\'\n",
    "testdata_folderpath='TestingData_Augmentation\\\\'\n",
    "columnName = 'pvd'\n",
    "excelFileName = \"Perron_phenotype-GSU-training.xlsx\"\n",
    "sheetName = 'Total Database'\n",
    "imgPat = 'PIL-55a_3dayLBCR-3'"
   ]
  },
  {
   "cell_type": "code",
   "execution_count": 30,
   "metadata": {},
   "outputs": [],
   "source": [
    "train_filelist= [file for file in os.listdir(traindata_folderPath) if file.endswith('.jpeg')]\n",
    "valid_filelist= [file for file in os.listdir(validdata_folderPath) if file.endswith('.jpeg')]\n",
    "test_filelist= [file for file in os.listdir(testdata_folderpath) if file.endswith('.jpeg')]"
   ]
  },
  {
   "cell_type": "code",
   "execution_count": 31,
   "metadata": {},
   "outputs": [
    {
     "name": "stdout",
     "output_type": "stream",
     "text": [
      "Total number of files in directory: 1847\n",
      "Total number of files in directory: 637\n",
      "Total number of files in directory: 518\n"
     ]
    }
   ],
   "source": [
    "n_files = len(train_filelist)\n",
    "print('Total number of files in directory:', n_files)\n",
    "n_files = len(valid_filelist)\n",
    "print('Total number of files in directory:', n_files)\n",
    "n_files = len(test_filelist)\n",
    "print('Total number of files in directory:', n_files)"
   ]
  },
  {
   "cell_type": "code",
   "execution_count": 32,
   "metadata": {},
   "outputs": [],
   "source": [
    "wb = load_workbook(excelFileName)"
   ]
  },
  {
   "cell_type": "code",
   "execution_count": 33,
   "metadata": {},
   "outputs": [],
   "source": [
    "sheet = wb[sheetName]"
   ]
  },
  {
   "cell_type": "code",
   "execution_count": 34,
   "metadata": {},
   "outputs": [],
   "source": [
    "def getColumnNumber(columnName, sheet):\n",
    "    reqColNum = -1\n",
    "    maxColNumber = sheet.max_column + 1\n",
    "    for x in range(1, maxColNumber):\n",
    "        cellValue = sheet.cell(row=1, column=x).value\n",
    "        if(cellValue == columnName):\n",
    "                reqColNum = x\n",
    "                break\n",
    "    return(reqColNum)"
   ]
  },
  {
   "cell_type": "code",
   "execution_count": 35,
   "metadata": {},
   "outputs": [],
   "source": [
    "import re\n",
    "def getStrainNumber(imageName):\n",
    "    strt = imageName.find('-')\n",
    "    end = imageName.find('_')\n",
    "    imgNam = imageName[strt+1:end]\n",
    "    \n",
    "    imgNam = re.sub(r'[a-z]', '', imgNam)\n",
    "    return(imgNam)"
   ]
  },
  {
   "cell_type": "code",
   "execution_count": 36,
   "metadata": {},
   "outputs": [],
   "source": [
    "def getRowNumber(strainNumber, sheet, columnNumber):\n",
    "    \n",
    "    reqRowNum = -1\n",
    "    maxRowNumber = sheet.max_row + 1\n",
    "    strainNumbr = float(strainNumber)\n",
    "    \n",
    "    for x in range(1, maxRowNumber):\n",
    "        cellVal = sheet.cell(row=x, column=columnNumber).value\n",
    "        try:\n",
    "            cellValue = float(cellVal)            \n",
    "            if(cellValue == strainNumbr):\n",
    "                reqRowNum = x\n",
    "                break\n",
    "        except ValueError:\n",
    "            continue\n",
    "    return(reqRowNum) "
   ]
  },
  {
   "cell_type": "code",
   "execution_count": 37,
   "metadata": {},
   "outputs": [],
   "source": [
    "colNumber = getColumnNumber(columnName, sheet)"
   ]
  },
  {
   "cell_type": "code",
   "execution_count": 38,
   "metadata": {},
   "outputs": [
    {
     "name": "stdout",
     "output_type": "stream",
     "text": [
      "9\n"
     ]
    }
   ],
   "source": [
    "print(colNumber)"
   ]
  },
  {
   "cell_type": "code",
   "execution_count": 39,
   "metadata": {},
   "outputs": [],
   "source": [
    "strainColumnNumber = getColumnNumber('strain', sheet)"
   ]
  },
  {
   "cell_type": "code",
   "execution_count": 40,
   "metadata": {},
   "outputs": [
    {
     "name": "stdout",
     "output_type": "stream",
     "text": [
      "Reading train images ...\n"
     ]
    }
   ],
   "source": [
    "X_Train = []\n",
    "Y_Train = []\n",
    "print('Reading train images ...')\n",
    "for file in train_filelist:\n",
    "    imagepath = os.path.join(traindata_folderPath, file)\n",
    "    im = read_image(imagepath)\n",
    "    #print(im.shape)\n",
    "    req_ColNumber = colNumber\n",
    "    req_rowNumber = getRowNumber(getStrainNumber(file),sheet,strainColumnNumber)\n",
    "    try:\n",
    "        if(req_rowNumber>0 and req_ColNumber>0):\n",
    "            req_CellValue = sheet.cell(row=req_rowNumber, column=req_ColNumber).value\n",
    "            X_Train.append(im)\n",
    "            Y_Train.append(req_CellValue)\n",
    "    except:\n",
    "        print(\"Error\")\n",
    "        print(imagepath)\n",
    "        print(getStrainNumber(file))\n",
    "        print(req_ColNumber)\n",
    "        print(req_rowNumber)\n",
    "        print(req_CellValue)\n",
    "        print(\"Error\")\n",
    "        continue"
   ]
  },
  {
   "cell_type": "code",
   "execution_count": 41,
   "metadata": {},
   "outputs": [
    {
     "name": "stdout",
     "output_type": "stream",
     "text": [
      "Reading train images ...\n"
     ]
    }
   ],
   "source": [
    "X_Valid = []\n",
    "Y_Valid = []\n",
    "print('Reading train images ...')\n",
    "for file in valid_filelist:\n",
    "    imagepath = os.path.join(validdata_folderPath, file)\n",
    "    im = read_image(imagepath)\n",
    "    req_ColNumber = colNumber\n",
    "    req_rowNumber = getRowNumber(getStrainNumber(file),sheet,strainColumnNumber)\n",
    "    try:\n",
    "        if(req_rowNumber>0 and req_ColNumber>0):\n",
    "            req_CellValue = sheet.cell(row=req_rowNumber, column=req_ColNumber).value\n",
    "            X_Valid.append(im)\n",
    "            Y_Valid.append(req_CellValue)\n",
    "    except:\n",
    "        print(\"Error\")\n",
    "        print(imagepath)\n",
    "        print(getStrainNumber(file))\n",
    "        print(req_ColNumber)\n",
    "        print(req_rowNumber)\n",
    "        print(req_CellValue)\n",
    "        print(\"Error\")\n",
    "        continue"
   ]
  },
  {
   "cell_type": "code",
   "execution_count": 42,
   "metadata": {},
   "outputs": [
    {
     "name": "stdout",
     "output_type": "stream",
     "text": [
      "Reading train images ...\n"
     ]
    }
   ],
   "source": [
    "X_Test = []\n",
    "Y_Test = []\n",
    "print('Reading train images ...')\n",
    "for file in test_filelist:\n",
    "    imagepath = os.path.join(testdata_folderpath, file)\n",
    "    im = read_image(imagepath)\n",
    "    req_ColNumber = colNumber\n",
    "    req_rowNumber = getRowNumber(getStrainNumber(file),sheet,strainColumnNumber)\n",
    "    try:\n",
    "        if(req_rowNumber>0 and req_ColNumber>0):\n",
    "            req_CellValue = sheet.cell(row=req_rowNumber, column=req_ColNumber).value\n",
    "            X_Test.append(im)\n",
    "            Y_Test.append(req_CellValue)\n",
    "    except:\n",
    "        print(\"Error\")\n",
    "        print(imagepath)\n",
    "        print(getStrainNumber(file))\n",
    "        print(req_ColNumber)\n",
    "        print(req_rowNumber)\n",
    "        print(req_CellValue)\n",
    "        print(\"Error\")\n",
    "        continue"
   ]
  },
  {
   "cell_type": "code",
   "execution_count": 43,
   "metadata": {},
   "outputs": [
    {
     "name": "stdout",
     "output_type": "stream",
     "text": [
      "(1847, 224, 224, 3) X_Train Shape\n",
      "(1847, 1) Y_Train Shape\n",
      "(637, 224, 224, 3) X_Valid Shape\n",
      "(637, 1) Y_Valid Shape\n",
      "(518, 224, 224, 3) X_Test Shape\n",
      "(518, 1) Y_Test Shape\n"
     ]
    }
   ],
   "source": [
    "X_Train = np.array(X_Train)\n",
    "print(X_Train.shape, 'X_Train Shape')\n",
    "\n",
    "Y_Train = np.array(Y_Train).reshape(-1,1)\n",
    "print(Y_Train.shape, 'Y_Train Shape')\n",
    "\n",
    "X_Valid = np.array(X_Valid)\n",
    "print(X_Valid.shape, 'X_Valid Shape')\n",
    "\n",
    "Y_Valid = np.array(Y_Valid).reshape(-1,1)\n",
    "print(Y_Valid.shape, 'Y_Valid Shape')\n",
    "\n",
    "X_Test = np.array(X_Test)\n",
    "print(X_Test.shape, 'X_Test Shape')\n",
    "\n",
    "Y_Test = np.array(Y_Test).reshape(-1,1)\n",
    "print(Y_Test.shape, 'Y_Test Shape')"
   ]
  },
  {
   "cell_type": "code",
   "execution_count": 44,
   "metadata": {},
   "outputs": [],
   "source": [
    "# Store Model metrics\n",
    "history = {}"
   ]
  },
  {
   "cell_type": "code",
   "execution_count": 45,
   "metadata": {},
   "outputs": [],
   "source": [
    "# Plot Chart\n",
    "def plot_chart_to_file(best_epoch, best_value):\n",
    "\n",
    "    # Plot Chart\n",
    "    fig = plt.figure(dpi=300)\n",
    "\n",
    "    # Subplot for Loss\n",
    "    ax1 = fig.add_subplot(111)    \n",
    "    ax1.plot(history.history['mean_squared_error'], color='b', \n",
    "    label='TrainMSE')\n",
    "    ax1.plot(history.history['val_mean_squared_error'], color='g', \n",
    "    label='validationMSE')\n",
    "    ax1.set_xlabel('Epoch')\n",
    "    ax1.set_ylabel('MSE')\n",
    "    ax1.legend(loc='lower left', bbox_to_anchor=(0, -0.30))\n",
    "    #ax2 = ax1.twinx()\n",
    "    #ax2.plot(history.history['mean_squared_error'], color='y', \n",
    "    #label='TrainMSE Loss')\n",
    "    #ax2.plot(history.history['val_mean_squared_error'], color='c', \n",
    "    #label='validationMSE Loss')\n",
    "    ax1.plot(best_epoch, best_value, 'r+', label='Best Model')\n",
    "    #ax2.set_ylabel('Loss')   \n",
    "    #ax2.legend(loc='lower right', bbox_to_anchor=(1, -0.30))\n",
    "    # Set Title\n",
    "    plt.title('Model - Best Epoch (' + str(best_epoch) + ')')\n",
    "    plt.show()\n",
    "    # .. and save..\n",
    "    plt.savefig('Blog3_Model_Chart_Regression_MSE_dead.png', \n",
    "    bbox_inches=\"tight\")   "
   ]
  },
  {
   "cell_type": "code",
   "execution_count": 60,
   "metadata": {},
   "outputs": [],
   "source": [
    "\n",
    "# Get VGG16 architecture from keras.applications\n",
    "from keras.applications.vgg16 import VGG16,decode_predictions\n",
    "\n",
    "# downloading weights and convolution layers from vgg16\n",
    "trained_model= VGG16(include_top=False,weights='imagenet')\n",
    "# print(trained_model.summary())\n",
    "\n",
    "# defining mlp that needs to be appended to vgg16 convolution layers\n",
    "x = trained_model.output\n",
    "x = GlobalAveragePooling2D()(x)\n",
    "x = Dense(512,activation='relu')(x)\n",
    "x = Dropout(0.3)(x)\n",
    "x = Dense(256,activation='sigmoid')(x)\n",
    "x = Dropout(0.3)(x)\n",
    "x = Dense(128,activation='tanh')(x)\n",
    "x = Dropout(0.2)(x)\n",
    "x = Dense(64,activation='relu')(x)\n",
    "x = Dropout(0.2)(x)\n",
    "x = Dense(32,activation='relu')(x)\n",
    "\n",
    "output = Dense(1,activation='linear')(x)\n",
    "\n",
    "model= Model(inputs=trained_model.input,outputs=output)\n"
   ]
  },
  {
   "cell_type": "code",
   "execution_count": 61,
   "metadata": {},
   "outputs": [],
   "source": [
    "for layer in trained_model.layers:\n",
    "    layer.trainable=False"
   ]
  },
  {
   "cell_type": "code",
   "execution_count": 62,
   "metadata": {},
   "outputs": [
    {
     "name": "stdout",
     "output_type": "stream",
     "text": [
      "input_4 False\n",
      "block1_conv1 False\n",
      "block1_conv2 False\n",
      "block1_pool False\n",
      "block2_conv1 False\n",
      "block2_conv2 False\n",
      "block2_pool False\n",
      "block3_conv1 False\n",
      "block3_conv2 False\n",
      "block3_conv3 False\n",
      "block3_pool False\n",
      "block4_conv1 False\n",
      "block4_conv2 False\n",
      "block4_conv3 False\n",
      "block4_pool False\n",
      "block5_conv1 False\n",
      "block5_conv2 False\n",
      "block5_conv3 False\n",
      "block5_pool False\n"
     ]
    }
   ],
   "source": [
    "for layer in trained_model.layers:\n",
    "    print(layer.name,layer.trainable)"
   ]
  },
  {
   "cell_type": "code",
   "execution_count": 63,
   "metadata": {},
   "outputs": [
    {
     "name": "stdout",
     "output_type": "stream",
     "text": [
      "_________________________________________________________________\n",
      "Layer (type)                 Output Shape              Param #   \n",
      "=================================================================\n",
      "input_4 (InputLayer)         (None, None, None, 3)     0         \n",
      "_________________________________________________________________\n",
      "block1_conv1 (Conv2D)        (None, None, None, 64)    1792      \n",
      "_________________________________________________________________\n",
      "block1_conv2 (Conv2D)        (None, None, None, 64)    36928     \n",
      "_________________________________________________________________\n",
      "block1_pool (MaxPooling2D)   (None, None, None, 64)    0         \n",
      "_________________________________________________________________\n",
      "block2_conv1 (Conv2D)        (None, None, None, 128)   73856     \n",
      "_________________________________________________________________\n",
      "block2_conv2 (Conv2D)        (None, None, None, 128)   147584    \n",
      "_________________________________________________________________\n",
      "block2_pool (MaxPooling2D)   (None, None, None, 128)   0         \n",
      "_________________________________________________________________\n",
      "block3_conv1 (Conv2D)        (None, None, None, 256)   295168    \n",
      "_________________________________________________________________\n",
      "block3_conv2 (Conv2D)        (None, None, None, 256)   590080    \n",
      "_________________________________________________________________\n",
      "block3_conv3 (Conv2D)        (None, None, None, 256)   590080    \n",
      "_________________________________________________________________\n",
      "block3_pool (MaxPooling2D)   (None, None, None, 256)   0         \n",
      "_________________________________________________________________\n",
      "block4_conv1 (Conv2D)        (None, None, None, 512)   1180160   \n",
      "_________________________________________________________________\n",
      "block4_conv2 (Conv2D)        (None, None, None, 512)   2359808   \n",
      "_________________________________________________________________\n",
      "block4_conv3 (Conv2D)        (None, None, None, 512)   2359808   \n",
      "_________________________________________________________________\n",
      "block4_pool (MaxPooling2D)   (None, None, None, 512)   0         \n",
      "_________________________________________________________________\n",
      "block5_conv1 (Conv2D)        (None, None, None, 512)   2359808   \n",
      "_________________________________________________________________\n",
      "block5_conv2 (Conv2D)        (None, None, None, 512)   2359808   \n",
      "_________________________________________________________________\n",
      "block5_conv3 (Conv2D)        (None, None, None, 512)   2359808   \n",
      "_________________________________________________________________\n",
      "block5_pool (MaxPooling2D)   (None, None, None, 512)   0         \n",
      "_________________________________________________________________\n",
      "global_average_pooling2d_4 ( (None, 512)               0         \n",
      "_________________________________________________________________\n",
      "dense_13 (Dense)             (None, 512)               262656    \n",
      "_________________________________________________________________\n",
      "dropout_1 (Dropout)          (None, 512)               0         \n",
      "_________________________________________________________________\n",
      "dense_14 (Dense)             (None, 256)               131328    \n",
      "_________________________________________________________________\n",
      "dropout_2 (Dropout)          (None, 256)               0         \n",
      "_________________________________________________________________\n",
      "dense_15 (Dense)             (None, 128)               32896     \n",
      "_________________________________________________________________\n",
      "dropout_3 (Dropout)          (None, 128)               0         \n",
      "_________________________________________________________________\n",
      "dense_16 (Dense)             (None, 64)                8256      \n",
      "_________________________________________________________________\n",
      "dropout_4 (Dropout)          (None, 64)                0         \n",
      "_________________________________________________________________\n",
      "dense_17 (Dense)             (None, 32)                2080      \n",
      "_________________________________________________________________\n",
      "dense_18 (Dense)             (None, 1)                 33        \n",
      "=================================================================\n",
      "Total params: 15,151,937\n",
      "Trainable params: 437,249\n",
      "Non-trainable params: 14,714,688\n",
      "_________________________________________________________________\n"
     ]
    }
   ],
   "source": [
    "model.summary()"
   ]
  },
  {
   "cell_type": "code",
   "execution_count": 64,
   "metadata": {},
   "outputs": [],
   "source": [
    "#compiling the model\n",
    "adam = Adam(lr=0.001)\n",
    "model.compile(loss='mean_squared_error',metrics=['MSE'],optimizer=adam)\n",
    "patience = 30\n",
    "earlystop = EarlyStopping(monitor=\"val_loss\",min_delta=0,mode=\"min\",patience=patience,verbose=1)\n",
    "checkpoint = ModelCheckpoint('modelweights_Regression_pvd.hdf5', \n",
    "                              monitor='val_loss', \n",
    "                              verbose=1, \n",
    "                              save_best_only=True, \n",
    "                              mode='min')\n",
    "callbacks = [checkpoint,earlystop]"
   ]
  },
  {
   "cell_type": "code",
   "execution_count": 65,
   "metadata": {},
   "outputs": [
    {
     "name": "stdout",
     "output_type": "stream",
     "text": [
      "_________________________________________________________________\n",
      "Layer (type)                 Output Shape              Param #   \n",
      "=================================================================\n",
      "input_4 (InputLayer)         (None, None, None, 3)     0         \n",
      "_________________________________________________________________\n",
      "block1_conv1 (Conv2D)        (None, None, None, 64)    1792      \n",
      "_________________________________________________________________\n",
      "block1_conv2 (Conv2D)        (None, None, None, 64)    36928     \n",
      "_________________________________________________________________\n",
      "block1_pool (MaxPooling2D)   (None, None, None, 64)    0         \n",
      "_________________________________________________________________\n",
      "block2_conv1 (Conv2D)        (None, None, None, 128)   73856     \n",
      "_________________________________________________________________\n",
      "block2_conv2 (Conv2D)        (None, None, None, 128)   147584    \n",
      "_________________________________________________________________\n",
      "block2_pool (MaxPooling2D)   (None, None, None, 128)   0         \n",
      "_________________________________________________________________\n",
      "block3_conv1 (Conv2D)        (None, None, None, 256)   295168    \n",
      "_________________________________________________________________\n",
      "block3_conv2 (Conv2D)        (None, None, None, 256)   590080    \n",
      "_________________________________________________________________\n",
      "block3_conv3 (Conv2D)        (None, None, None, 256)   590080    \n",
      "_________________________________________________________________\n",
      "block3_pool (MaxPooling2D)   (None, None, None, 256)   0         \n",
      "_________________________________________________________________\n",
      "block4_conv1 (Conv2D)        (None, None, None, 512)   1180160   \n",
      "_________________________________________________________________\n",
      "block4_conv2 (Conv2D)        (None, None, None, 512)   2359808   \n",
      "_________________________________________________________________\n",
      "block4_conv3 (Conv2D)        (None, None, None, 512)   2359808   \n",
      "_________________________________________________________________\n",
      "block4_pool (MaxPooling2D)   (None, None, None, 512)   0         \n",
      "_________________________________________________________________\n",
      "block5_conv1 (Conv2D)        (None, None, None, 512)   2359808   \n",
      "_________________________________________________________________\n",
      "block5_conv2 (Conv2D)        (None, None, None, 512)   2359808   \n",
      "_________________________________________________________________\n",
      "block5_conv3 (Conv2D)        (None, None, None, 512)   2359808   \n",
      "_________________________________________________________________\n",
      "block5_pool (MaxPooling2D)   (None, None, None, 512)   0         \n",
      "_________________________________________________________________\n",
      "global_average_pooling2d_4 ( (None, 512)               0         \n",
      "_________________________________________________________________\n",
      "dense_13 (Dense)             (None, 512)               262656    \n",
      "_________________________________________________________________\n",
      "dropout_1 (Dropout)          (None, 512)               0         \n",
      "_________________________________________________________________\n",
      "dense_14 (Dense)             (None, 256)               131328    \n",
      "_________________________________________________________________\n",
      "dropout_2 (Dropout)          (None, 256)               0         \n",
      "_________________________________________________________________\n",
      "dense_15 (Dense)             (None, 128)               32896     \n",
      "_________________________________________________________________\n",
      "dropout_3 (Dropout)          (None, 128)               0         \n",
      "_________________________________________________________________\n",
      "dense_16 (Dense)             (None, 64)                8256      \n",
      "_________________________________________________________________\n",
      "dropout_4 (Dropout)          (None, 64)                0         \n",
      "_________________________________________________________________\n",
      "dense_17 (Dense)             (None, 32)                2080      \n",
      "_________________________________________________________________\n",
      "dense_18 (Dense)             (None, 1)                 33        \n",
      "=================================================================\n",
      "Total params: 15,151,937\n",
      "Trainable params: 437,249\n",
      "Non-trainable params: 14,714,688\n",
      "_________________________________________________________________\n"
     ]
    }
   ],
   "source": [
    "model.summary()"
   ]
  },
  {
   "cell_type": "code",
   "execution_count": 66,
   "metadata": {},
   "outputs": [
    {
     "name": "stdout",
     "output_type": "stream",
     "text": [
      "Train on 1847 samples, validate on 637 samples\n",
      "Epoch 1/30\n",
      "1847/1847 [==============================] - 411s 223ms/step - loss: 416.0373 - mean_squared_error: 416.0373 - val_loss: 669.6484 - val_mean_squared_error: 669.6484\n",
      "\n",
      "Epoch 00001: val_loss improved from inf to 669.64837, saving model to modelweights_Regression_pvd.hdf5\n",
      "Epoch 2/30\n",
      "1847/1847 [==============================] - 413s 224ms/step - loss: 107.7018 - mean_squared_error: 107.7018 - val_loss: 634.8640 - val_mean_squared_error: 634.8640\n",
      "\n",
      "Epoch 00002: val_loss improved from 669.64837 to 634.86405, saving model to modelweights_Regression_pvd.hdf5\n",
      "Epoch 3/30\n",
      "1847/1847 [==============================] - 412s 223ms/step - loss: 47.1115 - mean_squared_error: 47.1115 - val_loss: 133.7320 - val_mean_squared_error: 133.7320\n",
      "\n",
      "Epoch 00003: val_loss improved from 634.86405 to 133.73197, saving model to modelweights_Regression_pvd.hdf5\n",
      "Epoch 4/30\n",
      "1847/1847 [==============================] - 413s 224ms/step - loss: 29.7105 - mean_squared_error: 29.7105 - val_loss: 136.7753 - val_mean_squared_error: 136.7753\n",
      "\n",
      "Epoch 00004: val_loss did not improve from 133.73197\n",
      "Epoch 5/30\n",
      "1847/1847 [==============================] - 414s 224ms/step - loss: 20.1230 - mean_squared_error: 20.1230 - val_loss: 97.1788 - val_mean_squared_error: 97.1788\n",
      "\n",
      "Epoch 00005: val_loss improved from 133.73197 to 97.17876, saving model to modelweights_Regression_pvd.hdf5\n",
      "Epoch 6/30\n",
      "1847/1847 [==============================] - 413s 224ms/step - loss: 14.9424 - mean_squared_error: 14.9424 - val_loss: 132.9625 - val_mean_squared_error: 132.9625\n",
      "\n",
      "Epoch 00006: val_loss did not improve from 97.17876\n",
      "Epoch 7/30\n",
      "1847/1847 [==============================] - 413s 224ms/step - loss: 13.5025 - mean_squared_error: 13.5025 - val_loss: 51.3116 - val_mean_squared_error: 51.3116\n",
      "\n",
      "Epoch 00007: val_loss improved from 97.17876 to 51.31159, saving model to modelweights_Regression_pvd.hdf5\n",
      "Epoch 8/30\n",
      "1847/1847 [==============================] - 413s 224ms/step - loss: 13.1161 - mean_squared_error: 13.1161 - val_loss: 55.1863 - val_mean_squared_error: 55.1863\n",
      "\n",
      "Epoch 00008: val_loss did not improve from 51.31159\n",
      "Epoch 9/30\n",
      "1847/1847 [==============================] - 416s 225ms/step - loss: 11.6853 - mean_squared_error: 11.6853 - val_loss: 51.3864 - val_mean_squared_error: 51.3864\n",
      "\n",
      "Epoch 00009: val_loss did not improve from 51.31159\n",
      "Epoch 10/30\n",
      "1847/1847 [==============================] - 412s 223ms/step - loss: 10.3966 - mean_squared_error: 10.3966 - val_loss: 71.7622 - val_mean_squared_error: 71.7622\n",
      "\n",
      "Epoch 00010: val_loss did not improve from 51.31159\n",
      "Epoch 11/30\n",
      "1847/1847 [==============================] - 478s 259ms/step - loss: 11.3931 - mean_squared_error: 11.3931 - val_loss: 53.4888 - val_mean_squared_error: 53.4888\n",
      "\n",
      "Epoch 00011: val_loss did not improve from 51.31159\n",
      "Epoch 12/30\n",
      "1847/1847 [==============================] - 576s 312ms/step - loss: 14.6307 - mean_squared_error: 14.6307 - val_loss: 190.5093 - val_mean_squared_error: 190.5093\n",
      "\n",
      "Epoch 00012: val_loss did not improve from 51.31159\n",
      "Epoch 13/30\n",
      "1847/1847 [==============================] - 577s 312ms/step - loss: 12.4375 - mean_squared_error: 12.4375 - val_loss: 68.5463 - val_mean_squared_error: 68.5463\n",
      "\n",
      "Epoch 00013: val_loss did not improve from 51.31159\n",
      "Epoch 14/30\n",
      "1847/1847 [==============================] - 576s 312ms/step - loss: 9.1532 - mean_squared_error: 9.1532 - val_loss: 72.7056 - val_mean_squared_error: 72.7056\n",
      "\n",
      "Epoch 00014: val_loss did not improve from 51.31159\n",
      "Epoch 15/30\n",
      "1847/1847 [==============================] - 8633s 5s/step - loss: 10.4232 - mean_squared_error: 10.4232 - val_loss: 121.1128 - val_mean_squared_error: 121.1128\n",
      "\n",
      "Epoch 00015: val_loss did not improve from 51.31159\n",
      "Epoch 16/30\n",
      "1847/1847 [==============================] - 578s 313ms/step - loss: 9.7755 - mean_squared_error: 9.7755 - val_loss: 56.8608 - val_mean_squared_error: 56.8608\n",
      "\n",
      "Epoch 00016: val_loss did not improve from 51.31159\n",
      "Epoch 17/30\n",
      "1847/1847 [==============================] - 578s 313ms/step - loss: 10.0065 - mean_squared_error: 10.0065 - val_loss: 83.7147 - val_mean_squared_error: 83.7147\n",
      "\n",
      "Epoch 00017: val_loss did not improve from 51.31159\n",
      "Epoch 18/30\n",
      "1847/1847 [==============================] - 577s 313ms/step - loss: 7.9085 - mean_squared_error: 7.9085 - val_loss: 88.8014 - val_mean_squared_error: 88.8014\n",
      "\n",
      "Epoch 00018: val_loss did not improve from 51.31159\n",
      "Epoch 19/30\n",
      "1847/1847 [==============================] - 577s 312ms/step - loss: 8.2849 - mean_squared_error: 8.2849 - val_loss: 85.1342 - val_mean_squared_error: 85.1342\n",
      "\n",
      "Epoch 00019: val_loss did not improve from 51.31159\n",
      "Epoch 20/30\n",
      "1847/1847 [==============================] - 577s 312ms/step - loss: 9.1304 - mean_squared_error: 9.1304 - val_loss: 75.9043 - val_mean_squared_error: 75.9043\n",
      "\n",
      "Epoch 00020: val_loss did not improve from 51.31159\n",
      "Epoch 21/30\n",
      "1847/1847 [==============================] - 580s 314ms/step - loss: 9.5693 - mean_squared_error: 9.5693 - val_loss: 67.7664 - val_mean_squared_error: 67.7664\n",
      "\n",
      "Epoch 00021: val_loss did not improve from 51.31159\n",
      "Epoch 22/30\n",
      "1847/1847 [==============================] - 577s 313ms/step - loss: 8.2517 - mean_squared_error: 8.2517 - val_loss: 60.4475 - val_mean_squared_error: 60.4475\n",
      "\n",
      "Epoch 00022: val_loss did not improve from 51.31159\n",
      "Epoch 23/30\n",
      "1847/1847 [==============================] - 578s 313ms/step - loss: 7.4276 - mean_squared_error: 7.4276 - val_loss: 81.5945 - val_mean_squared_error: 81.5945\n",
      "\n",
      "Epoch 00023: val_loss did not improve from 51.31159\n",
      "Epoch 24/30\n",
      "1847/1847 [==============================] - 578s 313ms/step - loss: 6.0970 - mean_squared_error: 6.0970 - val_loss: 51.7929 - val_mean_squared_error: 51.7929\n",
      "\n",
      "Epoch 00024: val_loss did not improve from 51.31159\n",
      "Epoch 25/30\n",
      "1847/1847 [==============================] - 577s 313ms/step - loss: 8.4127 - mean_squared_error: 8.4127 - val_loss: 50.8081 - val_mean_squared_error: 50.8081\n",
      "\n",
      "Epoch 00025: val_loss improved from 51.31159 to 50.80807, saving model to modelweights_Regression_pvd.hdf5\n",
      "Epoch 26/30\n",
      "1847/1847 [==============================] - 576s 312ms/step - loss: 9.0414 - mean_squared_error: 9.0414 - val_loss: 75.8520 - val_mean_squared_error: 75.8520\n",
      "\n",
      "Epoch 00026: val_loss did not improve from 50.80807\n",
      "Epoch 27/30\n",
      "1847/1847 [==============================] - 578s 313ms/step - loss: 8.8197 - mean_squared_error: 8.8197 - val_loss: 20.2841 - val_mean_squared_error: 50.2841\n",
      "\n",
      "Epoch 00027: val_loss improved from 50.80807 to 50.28408, saving model to modelweights_Regression_pvd.hdf5\n",
      "Epoch 28/30\n",
      "1847/1847 [==============================] - 576s 312ms/step - loss: 6.9471 - mean_squared_error: 6.9471 - val_loss: 98.2310 - val_mean_squared_error: 98.2310\n",
      "\n",
      "Epoch 00028: val_loss did not improve from 50.28408\n",
      "Epoch 29/30\n",
      "1847/1847 [==============================] - 577s 312ms/step - loss: 8.1004 - mean_squared_error: 8.1004 - val_loss: 82.3642 - val_mean_squared_error: 82.3642\n",
      "\n",
      "Epoch 00029: val_loss did not improve from 50.28408\n",
      "Epoch 30/30\n",
      "1847/1847 [==============================] - 576s 312ms/step - loss: 8.0287 - mean_squared_error: 8.0287 - val_loss: 91.0338 - val_mean_squared_error: 91.0338\n",
      "\n",
      "Epoch 00030: val_loss did not improve from 50.28408\n"
     ]
    }
   ],
   "source": [
    "#fitting the model\n",
    "history =model.fit(X_Train,Y_Train,epochs=30 ,batch_size=16,validation_data=(X_Valid,Y_Valid),callbacks=callbacks)"
   ]
  },
  {
   "cell_type": "code",
   "execution_count": 67,
   "metadata": {},
   "outputs": [],
   "source": [
    "# Reload Best Model for further usage....\n",
    "model.load_weights('modelweights_Regression_pvd.hdf5')"
   ]
  },
  {
   "cell_type": "code",
   "execution_count": 68,
   "metadata": {},
   "outputs": [
    {
     "data": {
      "image/png": "[encoded data removed]",
      "text/plain": [
       "<Figure size 1800x1200 with 1 Axes>"
      ]
     },
     "metadata": {
      "needs_background": "light"
     },
     "output_type": "display_data"
    },
    {
     "data": {
      "text/plain": [
       "<Figure size 432x288 with 0 Axes>"
      ]
     },
     "metadata": {},
     "output_type": "display_data"
    }
   ],
   "source": [
    "# Plot Charts\n",
    "plot_chart_to_file(earlystop.stopped_epoch - patience, earlystop.best)"
   ]
  },
  {
   "cell_type": "code",
   "execution_count": 69,
   "metadata": {},
   "outputs": [
    {
     "name": "stdout",
     "output_type": "stream",
     "text": [
      "mean_squared_error 0.9260953868006653\n"
     ]
    }
   ],
   "source": [
    "scores_Train = model.evaluate(X_Train, Y_Train, verbose=0)\n",
    "print(model.metrics_names[1], scores_Train[1])"
   ]
  },
  {
   "cell_type": "code",
   "execution_count": 70,
   "metadata": {},
   "outputs": [
    {
     "name": "stdout",
     "output_type": "stream",
     "text": [
      "mean_squared_error 50.284075546863505\n"
     ]
    }
   ],
   "source": [
    "scores_Valid = model.evaluate(X_Valid,Y_Valid, verbose=0)\n",
    "print(model.metrics_names[1], scores_Valid[1])"
   ]
  },
  {
   "cell_type": "code",
   "execution_count": 71,
   "metadata": {},
   "outputs": [
    {
     "name": "stdout",
     "output_type": "stream",
     "text": [
      "mean_squared_error 46.53408130071335\n"
     ]
    }
   ],
   "source": [
    "scores = model.evaluate(X_Test, Y_Test, verbose=0)\n",
    "print(model.metrics_names[1], scores[1])"
   ]
  },
  {
   "cell_type": "code",
   "execution_count": 72,
   "metadata": {},
   "outputs": [
    {
     "data": {
      "text/plain": [
       "{'val_loss': [669.6483678978691,\n",
       "  634.8640454724969,\n",
       "  133.73197296238394,\n",
       "  136.77528335572785,\n",
       "  97.17875555807979,\n",
       "  132.9624925286186,\n",
       "  51.31159378557789,\n",
       "  55.18633925395446,\n",
       "  51.38639186951953,\n",
       "  71.76224864726912,\n",
       "  53.48881945533026,\n",
       "  190.50929242475442,\n",
       "  68.5462668829333,\n",
       "  72.70558191618328,\n",
       "  121.11283835986252,\n",
       "  56.860779558751425,\n",
       "  83.71465590254665,\n",
       "  88.80137856470733,\n",
       "  85.13417385848388,\n",
       "  75.90425959622468,\n",
       "  67.7663899581511,\n",
       "  60.447536604745046,\n",
       "  81.59451576641628,\n",
       "  51.7928565792985,\n",
       "  50.80807462124098,\n",
       "  75.85199148014912,\n",
       "  50.2840773711212,\n",
       "  98.23098569537632,\n",
       "  82.36418749511336,\n",
       "  91.03379454043821],\n",
       " 'val_mean_squared_error': [669.6483678978691,\n",
       "  634.8640454724969,\n",
       "  133.73197296238394,\n",
       "  136.77528335572785,\n",
       "  97.17875555807979,\n",
       "  132.9624925286186,\n",
       "  51.31159378557789,\n",
       "  55.18633925395446,\n",
       "  51.38639186951953,\n",
       "  71.76224864726912,\n",
       "  53.48881945533026,\n",
       "  190.50929242475442,\n",
       "  68.5462668829333,\n",
       "  72.70558191618328,\n",
       "  121.11283835986252,\n",
       "  56.860779558751425,\n",
       "  83.71465590254665,\n",
       "  88.80137856470733,\n",
       "  85.13417385848388,\n",
       "  75.90425959622468,\n",
       "  67.7663899581511,\n",
       "  60.447536604745046,\n",
       "  81.59451576641628,\n",
       "  51.7928565792985,\n",
       "  50.80807462124098,\n",
       "  75.85199148014912,\n",
       "  50.2840773711212,\n",
       "  98.23098569537632,\n",
       "  82.36418749511336,\n",
       "  91.03379454043821],\n",
       " 'loss': [416.0372785202671,\n",
       "  107.7017815233116,\n",
       "  47.111543284923755,\n",
       "  29.710536985701978,\n",
       "  20.123006440654727,\n",
       "  14.942386671602241,\n",
       "  13.502507476853111,\n",
       "  13.116059679822401,\n",
       "  11.685309154508433,\n",
       "  10.396576387919668,\n",
       "  11.393106118239903,\n",
       "  14.630721911747647,\n",
       "  12.437513933610322,\n",
       "  9.153176109404841,\n",
       "  10.423249833281774,\n",
       "  9.775517262506304,\n",
       "  10.006453520811501,\n",
       "  7.908452756351952,\n",
       "  8.284946442166728,\n",
       "  9.130370571281565,\n",
       "  9.569262679228604,\n",
       "  8.251703285338365,\n",
       "  7.427624606802197,\n",
       "  6.09702023378113,\n",
       "  8.412698448866074,\n",
       "  9.041364778940524,\n",
       "  8.819665801479937,\n",
       "  6.94711851299164,\n",
       "  8.100377041259584,\n",
       "  8.028655727553767],\n",
       " 'mean_squared_error': [416.0372785202671,\n",
       "  107.7017815233116,\n",
       "  47.111543284923755,\n",
       "  29.710536985701978,\n",
       "  20.123006440654727,\n",
       "  14.942386671602241,\n",
       "  13.502507476853111,\n",
       "  13.116059679822401,\n",
       "  11.685309154508433,\n",
       "  10.396576387919668,\n",
       "  11.393106118239903,\n",
       "  14.630721911747647,\n",
       "  12.437513933610322,\n",
       "  9.153176109404841,\n",
       "  10.423249833281774,\n",
       "  9.775517262506304,\n",
       "  10.006453520811501,\n",
       "  7.908452756351952,\n",
       "  8.284946442166728,\n",
       "  9.130370571281565,\n",
       "  9.569262679228604,\n",
       "  8.251703285338365,\n",
       "  7.427624606802197,\n",
       "  6.09702023378113,\n",
       "  8.412698448866074,\n",
       "  9.041364778940524,\n",
       "  8.819665801479937,\n",
       "  6.94711851299164,\n",
       "  8.100377041259584,\n",
       "  8.028655727553767]}"
      ]
     },
     "execution_count": 72,
     "metadata": {},
     "output_type": "execute_result"
    }
   ],
   "source": [
    "history.history"
   ]
  },
  {
   "cell_type": "code",
   "execution_count": null,
   "metadata": {},
   "outputs": [],
   "source": []
  }
 ],
 "metadata": {
  "kernelspec": {
   "display_name": "Python 3",
   "language": "python",
   "name": "python3"
  },
  "language_info": {
   "codemirror_mode": {
    "name": "ipython",
    "version": 3
   },
   "file_extension": ".py",
   "mimetype": "text/x-python",
   "name": "python",
   "nbconvert_exporter": "python",
   "pygments_lexer": "ipython3",
   "version": "3.6.6"
  }
 },
 "nbformat": 4,
 "nbformat_minor": 2
}
